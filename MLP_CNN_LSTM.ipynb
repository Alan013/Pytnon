{
  "nbformat": 4,
  "nbformat_minor": 0,
  "metadata": {
    "kernelspec": {
      "display_name": "Python 3",
      "language": "python",
      "name": "python3"
    },
    "language_info": {
      "codemirror_mode": {
        "name": "ipython",
        "version": 3
      },
      "file_extension": ".py",
      "mimetype": "text/x-python",
      "name": "python",
      "nbconvert_exporter": "python",
      "pygments_lexer": "ipython3",
      "version": "3.7.6"
    },
    "colab": {
      "name": "MLP_CNN_LSTM.ipynb",
      "provenance": []
    }
  },
  "cells": [
    {
      "cell_type": "code",
      "metadata": {
        "id": "kd0rAyyPRask",
        "colab_type": "code",
        "colab": {}
      },
      "source": [
        "import pandas as pd"
      ],
      "execution_count": 0,
      "outputs": []
    },
    {
      "cell_type": "code",
      "metadata": {
        "id": "tCyR-RddRasn",
        "colab_type": "code",
        "colab": {}
      },
      "source": [
        "import numpy as np"
      ],
      "execution_count": 0,
      "outputs": []
    },
    {
      "cell_type": "code",
      "metadata": {
        "id": "zeURJ4wJRasq",
        "colab_type": "code",
        "colab": {}
      },
      "source": [
        "import matplotlib.pyplot as plt"
      ],
      "execution_count": 0,
      "outputs": []
    },
    {
      "cell_type": "code",
      "metadata": {
        "id": "PspKBBi2Rass",
        "colab_type": "code",
        "outputId": "b72b73b0-edc1-4de9-bc26-57aa788e2737",
        "colab": {
          "base_uri": "https://localhost:8080/",
          "height": 34
        }
      },
      "source": [
        "import keras"
      ],
      "execution_count": 0,
      "outputs": [
        {
          "output_type": "stream",
          "text": [
            "Using TensorFlow backend.\n"
          ],
          "name": "stderr"
        }
      ]
    },
    {
      "cell_type": "markdown",
      "metadata": {
        "id": "NmXlcxJqRasv",
        "colab_type": "text"
      },
      "source": [
        "# Предобработка данных"
      ]
    },
    {
      "cell_type": "code",
      "metadata": {
        "id": "DwRldAV4Rasv",
        "colab_type": "code",
        "colab": {}
      },
      "source": [
        "def train_test_split(X, y, test_size=0.15):   #Функция делит выборку на обучающую и тестовую \n",
        "    train_len = int(X.shape[0]*test_size)\n",
        "    X_train = X[:-train_len]\n",
        "    X_test = X[-train_len:]\n",
        "    y_train = y[:-train_len]\n",
        "    y_test = y[-train_len:]\n",
        "    return (X_train, X_test, y_train, y_test)"
      ],
      "execution_count": 0,
      "outputs": []
    },
    {
      "cell_type": "code",
      "metadata": {
        "id": "nZt0D6tCRasz",
        "colab_type": "code",
        "colab": {}
      },
      "source": [
        "data = pd.read_csv('^DJI (1).csv')\n",
        "close_price_pct = data['Adj Close'].pct_change().dropna().tolist()\n",
        "close_price = data['Adj Close'].tolist() #выбираю только колонку Adj Close\n",
        "num_days=10"
      ],
      "execution_count": 0,
      "outputs": []
    },
    {
      "cell_type": "code",
      "metadata": {
        "id": "7uXrSXbhRas2",
        "colab_type": "code",
        "colab": {}
      },
      "source": [
        "X_pct=[]\n",
        "y_pct=[]\n",
        "for day in range(len(close_price_pct)-num_days): #Создаю обучающий датасет по формату\n",
        "    X_pct.append(close_price_pct[day:day+num_days]) #один объект X - десять значений роста цены в процентах отн. пред. дня\n",
        "    y_pct.append(close_price_pct[day+num_days]) #один объект y - рост в день после этих десяти\n",
        "X_pct=np.array(X_pct)\n",
        "y_pct=np.array(y_pct)"
      ],
      "execution_count": 0,
      "outputs": []
    },
    {
      "cell_type": "code",
      "metadata": {
        "id": "0GKEZLgjRas5",
        "colab_type": "code",
        "colab": {}
      },
      "source": [
        "X=[]\n",
        "y=[]\n",
        "for day in range(len(close_price)-num_days): #Создаю обучающий датасет по формату\n",
        "    X.append(close_price[day:day+num_days]) #один объект X - десять значений цены\n",
        "    y.append(close_price[day+num_days]) #один объект y - цена в день после этих десяти\n",
        "X=np.array(X)\n",
        "y=np.array(y)"
      ],
      "execution_count": 0,
      "outputs": []
    },
    {
      "cell_type": "code",
      "metadata": {
        "id": "AKi56OPJRas_",
        "colab_type": "code",
        "colab": {}
      },
      "source": [
        "X_train, X_test, y_train, y_test = train_test_split(X, y, test_size=0.15) #разделяю датасет на обучающий и валидационный\n",
        "X_train_pct, X_test_pct, y_train_pct, y_test_pct = train_test_split(X_pct, y_pct, test_size=0.15) #разделяю датасет на обучающий и валидационный"
      ],
      "execution_count": 0,
      "outputs": []
    },
    {
      "cell_type": "code",
      "metadata": {
        "id": "av7tllJVRatC",
        "colab_type": "code",
        "outputId": "b363d47e-d994-478f-e1d3-1f5a4f030e0e",
        "colab": {
          "base_uri": "https://localhost:8080/",
          "height": 282
        }
      },
      "source": [
        "plt.plot(close_price)"
      ],
      "execution_count": 0,
      "outputs": [
        {
          "output_type": "execute_result",
          "data": {
            "text/plain": [
              "[<matplotlib.lines.Line2D at 0x7f8120719a58>]"
            ]
          },
          "metadata": {
            "tags": []
          },
          "execution_count": 16
        },
        {
          "output_type": "display_data",
          "data": {
            "image/png": "[encoded data removed]",
            "text/plain": [
              "<Figure size 432x288 with 1 Axes>"
            ]
          },
          "metadata": {
            "tags": [],
            "needs_background": "light"
          }
        }
      ]
    },
    {
      "cell_type": "markdown",
      "metadata": {
        "id": "NDmTXZgYRatH",
        "colab_type": "text"
      },
      "source": [
        "# MLP"
      ]
    },
    {
      "cell_type": "markdown",
      "metadata": {
        "id": "3NuUMlsuRatI",
        "colab_type": "text"
      },
      "source": [
        "### MLP isbig=True - сеть с ~4000 параметров\n",
        "### MLP isbig=False - сеть с ~1500 параметров"
      ]
    },
    {
      "cell_type": "code",
      "metadata": {
        "id": "3du64AqCRatI",
        "colab_type": "code",
        "colab": {}
      },
      "source": [
        "def create_mlp(isbig = False):\n",
        "    model_mlp = keras.models.Sequential()\n",
        "    \n",
        "    if isbig:\n",
        "        model_mlp.add(keras.layers.Dense(64, input_dim=10, activity_regularizer=keras.regularizers.l1(0.01))) #полносвязный слой с 64 нейронами и l2 регуляризация на их веса\n",
        "        model_mlp.add(keras.layers.BatchNormalization()) #регуляризация нужна для борьбы с переобучением\n",
        "        model_mlp.add(keras.layers.LeakyReLU()) #функция активации\n",
        "        model_mlp.add(keras.layers.Dropout(0.2))\n",
        "        model_mlp.add(keras.layers.Dense(32,activity_regularizer=keras.regularizers.l1(0.01))) #полносвязный слой с 64 нейронами и l2 регуляризация на их веса\n",
        "        model_mlp.add(keras.layers.BatchNormalization()) #регуляризация нужна для борьбы с переобучением\n",
        "        model_mlp.add(keras.layers.LeakyReLU()) #функция активации\n",
        "    else:\n",
        "        model_mlp.add(keras.layers.Dense(32,input_dim=10,activity_regularizer=keras.regularizers.l1(0.01))) #полносвязный слой с 64 нейронами и l2 регуляризация на их веса\n",
        "        model_mlp.add(keras.layers.BatchNormalization()) #регуляризация нужна для борьбы с переобучением\n",
        "        model_mlp.add(keras.layers.LeakyReLU()) #функция активации\n",
        "        \n",
        "    model_mlp.add(keras.layers.Dense(32,activity_regularizer=keras.regularizers.l1(0.01))) #полносвязный слой с 16 нейронами и l2 регуляризация на их веса\n",
        "    model_mlp.add(keras.layers.BatchNormalization()) #слой, автоматически нормализующий данные внутри батча (нормализация для нейронки -всегда хорошо)\n",
        "    model_mlp.add(keras.layers.LeakyReLU())#функция активации\n",
        "    model_mlp.add(keras.layers.Dense(1))\n",
        "    model_mlp.add(keras.layers.Activation('linear'))\n",
        "    \n",
        "    opt = keras.optimizers.Adam(learning_rate = 0.001)\n",
        "    model_mlp.compile(optimizer=opt,                \n",
        "              loss='mse',\n",
        "              metrics=['mse'])\n",
        "    \n",
        "    return model_mlp"
      ],
      "execution_count": 0,
      "outputs": []
    },
    {
      "cell_type": "code",
      "metadata": {
        "id": "Zg13rmnxRatL",
        "colab_type": "code",
        "colab": {}
      },
      "source": [
        "reduce_lr = keras.callbacks.ReduceLROnPlateau(monitor='val_loss', factor=0.9, patience=5, min_lr=0.0001, verbose=1)\n",
        "#строчкой выше - коллбэк, автоматически уменьшающий learning rate, если тот не изменяется в течении 5 эпох lr' = lr*factor"
      ],
      "execution_count": 0,
      "outputs": []
    },
    {
      "cell_type": "markdown",
      "metadata": {
        "id": "8mgEf__iRatN",
        "colab_type": "text"
      },
      "source": [
        "### MLP big на сырых показателях цены"
      ]
    },
    {
      "cell_type": "code",
      "metadata": {
        "id": "pldfOox5RatN",
        "colab_type": "code",
        "outputId": "68c9b574-10f5-4b46-8626-0c30071d2ec3",
        "colab": {
          "base_uri": "https://localhost:8080/",
          "height": 1000
        }
      },
      "source": [
        "model_mlp_big=create_mlp(isbig = True)\n",
        "history_mlp = model_mlp_big.fit(X_train, y_train, \n",
        "          epochs = 25, \n",
        "          batch_size = 128, \n",
        "          verbose=1, \n",
        "          validation_data=(X_test,y_test),\n",
        "          shuffle=False,\n",
        "          callbacks=[reduce_lr])"
      ],
      "execution_count": 0,
      "outputs": [
        {
          "output_type": "stream",
          "text": [
            "Train on 2130 samples, validate on 375 samples\n",
            "Epoch 1/25\n",
            "2130/2130 [==============================] - 1s 376us/step - loss: 277590364.6648 - mse: 277189440.0000 - val_loss: 677732525.7387 - val_mse: 677229568.0000\n",
            "Epoch 2/25\n",
            "2130/2130 [==============================] - 0s 21us/step - loss: 277418488.3080 - mse: 277179744.0000 - val_loss: 678190010.0267 - val_mse: 677897984.0000\n",
            "Epoch 3/25\n",
            "2130/2130 [==============================] - 0s 21us/step - loss: 277308781.7915 - mse: 277170752.0000 - val_loss: 678883779.0720 - val_mse: 678724736.0000\n",
            "Epoch 4/25\n",
            "2130/2130 [==============================] - 0s 24us/step - loss: 277234171.4930 - mse: 277162272.0000 - val_loss: 678862214.9973 - val_mse: 678781376.0000\n",
            "Epoch 5/25\n",
            "2130/2130 [==============================] - 0s 21us/step - loss: 277189258.6967 - mse: 277153216.0000 - val_loss: 678814645.9307 - val_mse: 678773760.0000\n",
            "Epoch 6/25\n",
            "2130/2130 [==============================] - 0s 23us/step - loss: 277161786.3512 - mse: 277144160.0000 - val_loss: 679068817.5787 - val_mse: 679047744.0000\n",
            "\n",
            "Epoch 00006: ReduceLROnPlateau reducing learning rate to 0.0009000000427477062.\n",
            "Epoch 7/25\n",
            "2130/2130 [==============================] - 0s 21us/step - loss: 277144988.7249 - mse: 277135776.0000 - val_loss: 679173354.3253 - val_mse: 679160640.0000\n",
            "Epoch 8/25\n",
            "2130/2130 [==============================] - 0s 21us/step - loss: 277133568.6610 - mse: 277127744.0000 - val_loss: 679099841.8773 - val_mse: 679089856.0000\n",
            "Epoch 9/25\n",
            "2130/2130 [==============================] - 0s 21us/step - loss: 277123953.0366 - mse: 277118816.0000 - val_loss: 679000557.0560 - val_mse: 678991168.0000\n",
            "Epoch 10/25\n",
            "2130/2130 [==============================] - 0s 21us/step - loss: 277114771.2300 - mse: 277109792.0000 - val_loss: 678898691.5840 - val_mse: 678889536.0000\n",
            "Epoch 11/25\n",
            "2130/2130 [==============================] - 0s 22us/step - loss: 277105095.0911 - mse: 277100160.0000 - val_loss: 678843299.4987 - val_mse: 678834176.0000\n",
            "\n",
            "Epoch 00011: ReduceLROnPlateau reducing learning rate to 0.0008100000384729356.\n",
            "Epoch 12/25\n",
            "2130/2130 [==============================] - 0s 20us/step - loss: 277095540.7624 - mse: 277090592.0000 - val_loss: 678732377.0880 - val_mse: 678723328.0000\n",
            "Epoch 13/25\n",
            "2130/2130 [==============================] - 0s 21us/step - loss: 277086043.8836 - mse: 277081120.0000 - val_loss: 678667498.8373 - val_mse: 678658496.0000\n",
            "Epoch 14/25\n",
            "2130/2130 [==============================] - 0s 21us/step - loss: 277076392.9840 - mse: 277071424.0000 - val_loss: 678589726.3787 - val_mse: 678580736.0000\n",
            "Epoch 15/25\n",
            "2130/2130 [==============================] - 0s 23us/step - loss: 277066095.4742 - mse: 277061152.0000 - val_loss: 678485895.3387 - val_mse: 678476928.0000\n",
            "Epoch 16/25\n",
            "2130/2130 [==============================] - 0s 24us/step - loss: 277055275.5080 - mse: 277050336.0000 - val_loss: 678420851.2000 - val_mse: 678411904.0000\n",
            "\n",
            "Epoch 00016: ReduceLROnPlateau reducing learning rate to 0.0007290000503417104.\n",
            "Epoch 17/25\n",
            "2130/2130 [==============================] - 0s 23us/step - loss: 277044280.1878 - mse: 277039360.0000 - val_loss: 678402843.8187 - val_mse: 678393984.0000\n",
            "Epoch 18/25\n",
            "2130/2130 [==============================] - 0s 25us/step - loss: 277033818.0808 - mse: 277028896.0000 - val_loss: 678319924.5653 - val_mse: 678311040.0000\n",
            "Epoch 19/25\n",
            "2130/2130 [==============================] - 0s 20us/step - loss: 277022820.3568 - mse: 277017888.0000 - val_loss: 678280980.4800 - val_mse: 678272128.0000\n",
            "Epoch 20/25\n",
            "2130/2130 [==============================] - 0s 20us/step - loss: 277010867.1399 - mse: 277005952.0000 - val_loss: 678206959.9573 - val_mse: 678198016.0000\n",
            "Epoch 21/25\n",
            "2130/2130 [==============================] - 0s 20us/step - loss: 276998609.9080 - mse: 276993696.0000 - val_loss: 678142432.9387 - val_mse: 678133568.0000\n",
            "\n",
            "Epoch 00021: ReduceLROnPlateau reducing learning rate to 0.0006561000715009868.\n",
            "Epoch 22/25\n",
            "2130/2130 [==============================] - 0s 20us/step - loss: 276986683.0723 - mse: 276981792.0000 - val_loss: 678072227.3280 - val_mse: 678063424.0000\n",
            "Epoch 23/25\n",
            "2130/2130 [==============================] - 0s 20us/step - loss: 276974532.7474 - mse: 276969600.0000 - val_loss: 678127155.3707 - val_mse: 678118400.0000\n",
            "Epoch 24/25\n",
            "2130/2130 [==============================] - 0s 21us/step - loss: 276963023.3840 - mse: 276958112.0000 - val_loss: 678024879.2747 - val_mse: 678016064.0000\n",
            "Epoch 25/25\n",
            "2130/2130 [==============================] - 0s 24us/step - loss: 276949763.6657 - mse: 276944864.0000 - val_loss: 678045782.3573 - val_mse: 678036928.0000\n"
          ],
          "name": "stdout"
        }
      ]
    },
    {
      "cell_type": "code",
      "metadata": {
        "id": "BZMaakqkRatP",
        "colab_type": "code",
        "outputId": "d623556c-48c2-4529-efe8-f10d0dda38c4",
        "colab": {
          "base_uri": "https://localhost:8080/",
          "height": 402
        }
      },
      "source": [
        "fig, ax = plt.subplots(1, figsize=(8, 6))\n",
        "ax.plot(history_mlp.history['mse'], color=\"red\", label=\"Train loss\")\n",
        "ax.plot(history_mlp.history['val_mse'], color=\"green\", label=\"Val loss\")\n",
        "ax.legend()"
      ],
      "execution_count": 0,
      "outputs": [
        {
          "output_type": "execute_result",
          "data": {
            "text/plain": [
              "<matplotlib.legend.Legend at 0x7f81179c5d30>"
            ]
          },
          "metadata": {
            "tags": []
          },
          "execution_count": 20
        },
        {
          "output_type": "display_data",
          "data": {
            "image/png": "[encoded data removed]",
            "text/plain": [
              "<Figure size 576x432 with 1 Axes>"
            ]
          },
          "metadata": {
            "tags": [],
            "needs_background": "light"
          }
        }
      ]
    },
    {
      "cell_type": "markdown",
      "metadata": {
        "id": "QjjZW8oTRatR",
        "colab_type": "text"
      },
      "source": [
        "### Итог:\n",
        "#### Loss не падает, а mse очень велико"
      ]
    },
    {
      "cell_type": "markdown",
      "metadata": {
        "id": "H5esLNzQRatS",
        "colab_type": "text"
      },
      "source": [
        "### MLP big на процентах увеличения цены"
      ]
    },
    {
      "cell_type": "code",
      "metadata": {
        "id": "xAAiGhyxRatS",
        "colab_type": "code",
        "outputId": "4e42b673-a05e-4e56-e35d-7721a0445ec7",
        "colab": {
          "base_uri": "https://localhost:8080/",
          "height": 1000
        }
      },
      "source": [
        "model_mlp_pct_big = create_mlp(isbig = True)\n",
        "history_mlp_pct_big  = model_mlp_pct_big.fit(X_train_pct, y_train_pct, \n",
        "          epochs = 250, \n",
        "          batch_size = 128, \n",
        "          verbose=1, \n",
        "          validation_data=(X_test_pct,y_test_pct),\n",
        "          shuffle=False,\n",
        "          callbacks=[reduce_lr])"
      ],
      "execution_count": 0,
      "outputs": [
        {
          "output_type": "stream",
          "text": [
            "Train on 2129 samples, validate on 375 samples\n",
            "Epoch 1/250\n",
            "2129/2129 [==============================] - 1s 240us/step - loss: 22.8510 - mse: 0.5826 - val_loss: 1.5106 - val_mse: 0.0021\n",
            "Epoch 2/250\n",
            "2129/2129 [==============================] - 0s 22us/step - loss: 17.5186 - mse: 0.3999 - val_loss: 2.3287 - val_mse: 0.0064\n",
            "Epoch 3/250\n",
            "2129/2129 [==============================] - 0s 21us/step - loss: 14.0748 - mse: 0.2986 - val_loss: 2.6855 - val_mse: 0.0078\n",
            "Epoch 4/250\n",
            "2129/2129 [==============================] - 0s 21us/step - loss: 11.6967 - mse: 0.2321 - val_loss: 2.7343 - val_mse: 0.0082\n",
            "Epoch 5/250\n",
            "2129/2129 [==============================] - 0s 21us/step - loss: 9.9260 - mse: 0.1675 - val_loss: 2.6755 - val_mse: 0.0082\n",
            "Epoch 6/250\n",
            "2129/2129 [==============================] - 0s 21us/step - loss: 8.7532 - mse: 0.1523 - val_loss: 2.5367 - val_mse: 0.0078\n",
            "\n",
            "Epoch 00006: ReduceLROnPlateau reducing learning rate to 0.0009000000427477062.\n",
            "Epoch 7/250\n",
            "2129/2129 [==============================] - 0s 22us/step - loss: 7.7836 - mse: 0.1182 - val_loss: 2.3974 - val_mse: 0.0085\n",
            "Epoch 8/250\n",
            "2129/2129 [==============================] - 0s 20us/step - loss: 7.0602 - mse: 0.1050 - val_loss: 2.2491 - val_mse: 0.0090\n",
            "Epoch 9/250\n",
            "2129/2129 [==============================] - 0s 21us/step - loss: 6.3654 - mse: 0.0864 - val_loss: 2.0461 - val_mse: 0.0101\n",
            "Epoch 10/250\n",
            "2129/2129 [==============================] - 0s 23us/step - loss: 5.8015 - mse: 0.0697 - val_loss: 1.8512 - val_mse: 0.0123\n",
            "Epoch 11/250\n",
            "2129/2129 [==============================] - 0s 26us/step - loss: 5.2672 - mse: 0.0639 - val_loss: 1.6588 - val_mse: 0.0132\n",
            "\n",
            "Epoch 00011: ReduceLROnPlateau reducing learning rate to 0.0008100000384729356.\n",
            "Epoch 12/250\n",
            "2129/2129 [==============================] - 0s 23us/step - loss: 4.8010 - mse: 0.0541 - val_loss: 1.4917 - val_mse: 0.0129\n",
            "Epoch 13/250\n",
            "2129/2129 [==============================] - 0s 24us/step - loss: 4.3788 - mse: 0.0505 - val_loss: 1.3387 - val_mse: 0.0112\n",
            "Epoch 14/250\n",
            "2129/2129 [==============================] - 0s 22us/step - loss: 3.9960 - mse: 0.0456 - val_loss: 1.2018 - val_mse: 0.0091\n",
            "Epoch 15/250\n",
            "2129/2129 [==============================] - 0s 24us/step - loss: 3.6517 - mse: 0.0386 - val_loss: 1.0259 - val_mse: 0.0076\n",
            "Epoch 16/250\n",
            "2129/2129 [==============================] - 0s 21us/step - loss: 3.3074 - mse: 0.0353 - val_loss: 0.8828 - val_mse: 0.0062\n",
            "Epoch 17/250\n",
            "2129/2129 [==============================] - 0s 22us/step - loss: 2.9832 - mse: 0.0329 - val_loss: 0.7504 - val_mse: 0.0054\n",
            "Epoch 18/250\n",
            "2129/2129 [==============================] - 0s 23us/step - loss: 2.6745 - mse: 0.0305 - val_loss: 0.6187 - val_mse: 0.0039\n",
            "Epoch 19/250\n",
            "2129/2129 [==============================] - 0s 23us/step - loss: 2.3976 - mse: 0.0255 - val_loss: 0.5123 - val_mse: 0.0033\n",
            "Epoch 20/250\n",
            "2129/2129 [==============================] - 0s 23us/step - loss: 2.1407 - mse: 0.0225 - val_loss: 0.4394 - val_mse: 0.0030\n",
            "Epoch 21/250\n",
            "2129/2129 [==============================] - 0s 21us/step - loss: 1.8914 - mse: 0.0200 - val_loss: 0.3776 - val_mse: 0.0019\n",
            "Epoch 22/250\n",
            "2129/2129 [==============================] - 0s 21us/step - loss: 1.6998 - mse: 0.0176 - val_loss: 0.3211 - val_mse: 0.0018\n",
            "Epoch 23/250\n",
            "2129/2129 [==============================] - 0s 20us/step - loss: 1.5149 - mse: 0.0158 - val_loss: 0.2996 - val_mse: 0.0013\n",
            "Epoch 24/250\n",
            "2129/2129 [==============================] - 0s 22us/step - loss: 1.3419 - mse: 0.0121 - val_loss: 0.2743 - val_mse: 0.0012\n",
            "Epoch 25/250\n",
            "2129/2129 [==============================] - 0s 20us/step - loss: 1.2068 - mse: 0.0135 - val_loss: 0.2530 - val_mse: 5.9485e-04\n",
            "Epoch 26/250\n",
            "2129/2129 [==============================] - 0s 20us/step - loss: 1.0676 - mse: 0.0089 - val_loss: 0.2349 - val_mse: 7.6102e-04\n",
            "Epoch 27/250\n",
            "2129/2129 [==============================] - 0s 20us/step - loss: 0.9689 - mse: 0.0073 - val_loss: 0.2126 - val_mse: 4.6864e-04\n",
            "Epoch 28/250\n",
            "2129/2129 [==============================] - 0s 20us/step - loss: 0.8687 - mse: 0.0067 - val_loss: 0.1922 - val_mse: 3.9919e-04\n",
            "Epoch 29/250\n",
            "2129/2129 [==============================] - 0s 20us/step - loss: 0.7865 - mse: 0.0054 - val_loss: 0.1833 - val_mse: 3.1471e-04\n",
            "Epoch 30/250\n",
            "2129/2129 [==============================] - 0s 23us/step - loss: 0.7012 - mse: 0.0041 - val_loss: 0.1742 - val_mse: 2.7728e-04\n",
            "Epoch 31/250\n",
            "2129/2129 [==============================] - 0s 21us/step - loss: 0.6284 - mse: 0.0033 - val_loss: 0.1697 - val_mse: 1.5564e-04\n",
            "Epoch 32/250\n",
            "2129/2129 [==============================] - 0s 21us/step - loss: 0.5557 - mse: 0.0029 - val_loss: 0.1599 - val_mse: 1.0142e-04\n",
            "Epoch 33/250\n",
            "2129/2129 [==============================] - 0s 21us/step - loss: 0.4883 - mse: 0.0022 - val_loss: 0.1331 - val_mse: 8.7737e-05\n",
            "Epoch 34/250\n",
            "2129/2129 [==============================] - 0s 25us/step - loss: 0.4278 - mse: 0.0018 - val_loss: 0.1272 - val_mse: 8.3832e-05\n",
            "Epoch 35/250\n",
            "2129/2129 [==============================] - 0s 24us/step - loss: 0.3663 - mse: 0.0014 - val_loss: 0.1259 - val_mse: 8.9402e-05\n",
            "Epoch 36/250\n",
            "2129/2129 [==============================] - 0s 23us/step - loss: 0.3184 - mse: 0.0011 - val_loss: 0.1105 - val_mse: 1.0101e-04\n",
            "Epoch 37/250\n",
            "2129/2129 [==============================] - 0s 20us/step - loss: 0.2727 - mse: 8.0131e-04 - val_loss: 0.1039 - val_mse: 1.0218e-04\n",
            "Epoch 38/250\n",
            "2129/2129 [==============================] - 0s 20us/step - loss: 0.2327 - mse: 6.4560e-04 - val_loss: 0.1019 - val_mse: 1.1418e-04\n",
            "Epoch 39/250\n",
            "2129/2129 [==============================] - 0s 20us/step - loss: 0.2018 - mse: 3.8926e-04 - val_loss: 0.1049 - val_mse: 1.4703e-04\n",
            "Epoch 40/250\n",
            "2129/2129 [==============================] - 0s 20us/step - loss: 0.1747 - mse: 2.8677e-04 - val_loss: 0.0910 - val_mse: 9.0501e-05\n",
            "Epoch 41/250\n",
            "2129/2129 [==============================] - 0s 20us/step - loss: 0.1519 - mse: 1.8921e-04 - val_loss: 0.1053 - val_mse: 8.3610e-05\n",
            "Epoch 42/250\n",
            "2129/2129 [==============================] - 0s 21us/step - loss: 0.1333 - mse: 1.5087e-04 - val_loss: 0.0955 - val_mse: 1.2795e-04\n",
            "Epoch 43/250\n",
            "2129/2129 [==============================] - 0s 20us/step - loss: 0.1197 - mse: 1.7109e-04 - val_loss: 0.0909 - val_mse: 9.1807e-05\n",
            "Epoch 44/250\n",
            "2129/2129 [==============================] - 0s 20us/step - loss: 0.1056 - mse: 1.4193e-04 - val_loss: 0.0849 - val_mse: 8.8056e-05\n",
            "Epoch 45/250\n",
            "2129/2129 [==============================] - 0s 20us/step - loss: 0.0948 - mse: 1.1616e-04 - val_loss: 0.0837 - val_mse: 8.4901e-05\n",
            "Epoch 46/250\n",
            "2129/2129 [==============================] - 0s 20us/step - loss: 0.0842 - mse: 9.4321e-05 - val_loss: 0.0960 - val_mse: 1.0258e-04\n",
            "Epoch 47/250\n",
            "2129/2129 [==============================] - 0s 20us/step - loss: 0.0758 - mse: 9.4972e-05 - val_loss: 0.0860 - val_mse: 8.6772e-05\n",
            "Epoch 48/250\n",
            "2129/2129 [==============================] - 0s 20us/step - loss: 0.0683 - mse: 9.1063e-05 - val_loss: 0.0751 - val_mse: 8.5106e-05\n",
            "Epoch 49/250\n",
            "2129/2129 [==============================] - 0s 21us/step - loss: 0.0621 - mse: 8.1657e-05 - val_loss: 0.0861 - val_mse: 1.0944e-04\n",
            "Epoch 50/250\n",
            "2129/2129 [==============================] - 0s 20us/step - loss: 0.0577 - mse: 8.4273e-05 - val_loss: 0.0820 - val_mse: 9.9897e-05\n",
            "Epoch 51/250\n",
            "2129/2129 [==============================] - 0s 20us/step - loss: 0.0558 - mse: 8.2840e-05 - val_loss: 0.1057 - val_mse: 1.7832e-04\n",
            "Epoch 52/250\n",
            "2129/2129 [==============================] - 0s 20us/step - loss: 0.0516 - mse: 8.2032e-05 - val_loss: 0.1089 - val_mse: 1.0124e-04\n",
            "Epoch 53/250\n",
            "2129/2129 [==============================] - 0s 20us/step - loss: 0.0470 - mse: 7.8802e-05 - val_loss: 0.0883 - val_mse: 1.2267e-04\n",
            "\n",
            "Epoch 00053: ReduceLROnPlateau reducing learning rate to 0.0007290000503417104.\n",
            "Epoch 54/250\n",
            "2129/2129 [==============================] - 0s 21us/step - loss: 0.0425 - mse: 8.1874e-05 - val_loss: 0.1080 - val_mse: 8.3316e-05\n",
            "Epoch 55/250\n",
            "2129/2129 [==============================] - 0s 23us/step - loss: 0.0389 - mse: 7.7955e-05 - val_loss: 0.1215 - val_mse: 1.8031e-04\n",
            "Epoch 56/250\n",
            "2129/2129 [==============================] - 0s 24us/step - loss: 0.0382 - mse: 7.8036e-05 - val_loss: 0.1224 - val_mse: 1.1608e-04\n",
            "Epoch 57/250\n",
            "2129/2129 [==============================] - 0s 24us/step - loss: 0.0375 - mse: 7.8570e-05 - val_loss: 0.1265 - val_mse: 3.9105e-04\n",
            "Epoch 58/250\n",
            "2129/2129 [==============================] - 0s 23us/step - loss: 0.0350 - mse: 7.8058e-05 - val_loss: 0.1660 - val_mse: 3.8057e-04\n",
            "\n",
            "Epoch 00058: ReduceLROnPlateau reducing learning rate to 0.0006561000715009868.\n",
            "Epoch 59/250\n",
            "2129/2129 [==============================] - 0s 20us/step - loss: 0.0329 - mse: 7.7945e-05 - val_loss: 0.0916 - val_mse: 1.9331e-04\n",
            "Epoch 60/250\n",
            "2129/2129 [==============================] - 0s 22us/step - loss: 0.0292 - mse: 7.7989e-05 - val_loss: 0.0822 - val_mse: 8.7484e-05\n",
            "Epoch 61/250\n",
            "2129/2129 [==============================] - 0s 22us/step - loss: 0.0277 - mse: 7.7664e-05 - val_loss: 0.0840 - val_mse: 1.6505e-04\n",
            "Epoch 62/250\n",
            "2129/2129 [==============================] - 0s 22us/step - loss: 0.0298 - mse: 7.7744e-05 - val_loss: 0.0755 - val_mse: 9.8988e-05\n",
            "Epoch 63/250\n",
            "2129/2129 [==============================] - 0s 21us/step - loss: 0.0286 - mse: 7.7822e-05 - val_loss: 0.0879 - val_mse: 8.3752e-05\n",
            "\n",
            "Epoch 00063: ReduceLROnPlateau reducing learning rate to 0.0005904900433961303.\n",
            "Epoch 64/250\n",
            "2129/2129 [==============================] - 0s 20us/step - loss: 0.0262 - mse: 7.7767e-05 - val_loss: 0.0938 - val_mse: 1.7921e-04\n",
            "Epoch 65/250\n",
            "2129/2129 [==============================] - 0s 21us/step - loss: 0.0250 - mse: 7.7793e-05 - val_loss: 0.0822 - val_mse: 1.6297e-04\n",
            "Epoch 66/250\n",
            "2129/2129 [==============================] - 0s 21us/step - loss: 0.0236 - mse: 7.7728e-05 - val_loss: 0.0949 - val_mse: 1.1859e-04\n",
            "Epoch 67/250\n",
            "2129/2129 [==============================] - 0s 23us/step - loss: 0.0220 - mse: 7.7859e-05 - val_loss: 0.0854 - val_mse: 1.5033e-04\n",
            "Epoch 68/250\n",
            "2129/2129 [==============================] - 0s 21us/step - loss: 0.0218 - mse: 7.7627e-05 - val_loss: 0.0852 - val_mse: 1.1880e-04\n",
            "\n",
            "Epoch 00068: ReduceLROnPlateau reducing learning rate to 0.0005314410547725857.\n",
            "Epoch 69/250\n",
            "2129/2129 [==============================] - 0s 19us/step - loss: 0.0198 - mse: 7.7797e-05 - val_loss: 0.0599 - val_mse: 1.0539e-04\n",
            "Epoch 70/250\n",
            "2129/2129 [==============================] - 0s 20us/step - loss: 0.0199 - mse: 7.7527e-05 - val_loss: 0.0607 - val_mse: 9.6723e-05\n",
            "Epoch 71/250\n",
            "2129/2129 [==============================] - 0s 20us/step - loss: 0.0193 - mse: 7.8075e-05 - val_loss: 0.0599 - val_mse: 9.3769e-05\n",
            "Epoch 72/250\n",
            "2129/2129 [==============================] - 0s 20us/step - loss: 0.0196 - mse: 7.7553e-05 - val_loss: 0.0732 - val_mse: 1.1630e-04\n",
            "Epoch 73/250\n",
            "2129/2129 [==============================] - 0s 20us/step - loss: 0.0191 - mse: 7.7728e-05 - val_loss: 0.0584 - val_mse: 8.5367e-05\n",
            "Epoch 74/250\n",
            "2129/2129 [==============================] - 0s 22us/step - loss: 0.0176 - mse: 7.7616e-05 - val_loss: 0.0528 - val_mse: 8.5541e-05\n",
            "Epoch 75/250\n",
            "2129/2129 [==============================] - 0s 21us/step - loss: 0.0168 - mse: 7.7653e-05 - val_loss: 0.0534 - val_mse: 9.8666e-05\n",
            "Epoch 76/250\n",
            "2129/2129 [==============================] - 0s 20us/step - loss: 0.0169 - mse: 7.7612e-05 - val_loss: 0.0504 - val_mse: 8.6116e-05\n",
            "Epoch 77/250\n",
            "2129/2129 [==============================] - 0s 20us/step - loss: 0.0173 - mse: 7.7629e-05 - val_loss: 0.0515 - val_mse: 1.9148e-04\n",
            "Epoch 78/250\n",
            "2129/2129 [==============================] - 0s 22us/step - loss: 0.0179 - mse: 7.7803e-05 - val_loss: 0.0608 - val_mse: 8.3898e-05\n",
            "Epoch 79/250\n",
            "2129/2129 [==============================] - 0s 21us/step - loss: 0.0175 - mse: 7.7592e-05 - val_loss: 0.0529 - val_mse: 8.8066e-05\n",
            "Epoch 80/250\n",
            "2129/2129 [==============================] - 0s 21us/step - loss: 0.0168 - mse: 7.7667e-05 - val_loss: 0.0748 - val_mse: 1.0035e-04\n",
            "Epoch 81/250\n",
            "2129/2129 [==============================] - 0s 23us/step - loss: 0.0169 - mse: 7.7606e-05 - val_loss: 0.0515 - val_mse: 2.2577e-04\n",
            "\n",
            "Epoch 00081: ReduceLROnPlateau reducing learning rate to 0.00047829695977270604.\n",
            "Epoch 82/250\n",
            "2129/2129 [==============================] - 0s 23us/step - loss: 0.0161 - mse: 7.7815e-05 - val_loss: 0.0528 - val_mse: 8.4476e-05\n",
            "Epoch 83/250\n",
            "2129/2129 [==============================] - 0s 25us/step - loss: 0.0149 - mse: 7.7607e-05 - val_loss: 0.0529 - val_mse: 8.8224e-05\n",
            "Epoch 84/250\n",
            "2129/2129 [==============================] - 0s 23us/step - loss: 0.0160 - mse: 7.7827e-05 - val_loss: 0.0529 - val_mse: 8.5381e-05\n",
            "Epoch 85/250\n",
            "2129/2129 [==============================] - 0s 22us/step - loss: 0.0153 - mse: 7.7677e-05 - val_loss: 0.0719 - val_mse: 8.4260e-05\n",
            "Epoch 86/250\n",
            "2129/2129 [==============================] - 0s 21us/step - loss: 0.0145 - mse: 7.7797e-05 - val_loss: 0.0608 - val_mse: 8.4368e-05\n",
            "\n",
            "Epoch 00086: ReduceLROnPlateau reducing learning rate to 0.0004304672533180565.\n",
            "Epoch 87/250\n",
            "2129/2129 [==============================] - 0s 21us/step - loss: 0.0140 - mse: 7.7682e-05 - val_loss: 0.0380 - val_mse: 1.6071e-04\n",
            "Epoch 88/250\n",
            "2129/2129 [==============================] - 0s 20us/step - loss: 0.0126 - mse: 7.7802e-05 - val_loss: 0.0505 - val_mse: 8.7408e-05\n",
            "Epoch 89/250\n",
            "2129/2129 [==============================] - 0s 20us/step - loss: 0.0132 - mse: 7.7680e-05 - val_loss: 0.0393 - val_mse: 8.4214e-05\n",
            "Epoch 90/250\n",
            "2129/2129 [==============================] - 0s 21us/step - loss: 0.0129 - mse: 7.7704e-05 - val_loss: 0.0603 - val_mse: 9.5205e-05\n",
            "Epoch 91/250\n",
            "2129/2129 [==============================] - 0s 22us/step - loss: 0.0132 - mse: 7.7710e-05 - val_loss: 0.0422 - val_mse: 8.3947e-05\n",
            "Epoch 92/250\n",
            "2129/2129 [==============================] - 0s 22us/step - loss: 0.0131 - mse: 7.7809e-05 - val_loss: 0.0482 - val_mse: 8.4166e-05\n",
            "\n",
            "Epoch 00092: ReduceLROnPlateau reducing learning rate to 0.00038742052274756136.\n",
            "Epoch 93/250\n",
            "2129/2129 [==============================] - 0s 20us/step - loss: 0.0125 - mse: 7.7677e-05 - val_loss: 0.0498 - val_mse: 1.3809e-04\n",
            "Epoch 94/250\n",
            "2129/2129 [==============================] - 0s 21us/step - loss: 0.0116 - mse: 7.7847e-05 - val_loss: 0.0404 - val_mse: 1.0813e-04\n",
            "Epoch 95/250\n",
            "2129/2129 [==============================] - 0s 21us/step - loss: 0.0115 - mse: 7.7634e-05 - val_loss: 0.0349 - val_mse: 1.2133e-04\n",
            "Epoch 96/250\n",
            "2129/2129 [==============================] - 0s 24us/step - loss: 0.0110 - mse: 7.7731e-05 - val_loss: 0.0372 - val_mse: 9.6875e-05\n",
            "Epoch 97/250\n",
            "2129/2129 [==============================] - 0s 22us/step - loss: 0.0110 - mse: 7.7792e-05 - val_loss: 0.0312 - val_mse: 9.0870e-05\n",
            "Epoch 98/250\n",
            "2129/2129 [==============================] - 0s 22us/step - loss: 0.0112 - mse: 7.7812e-05 - val_loss: 0.0268 - val_mse: 9.9039e-05\n",
            "Epoch 99/250\n",
            "2129/2129 [==============================] - 0s 24us/step - loss: 0.0103 - mse: 7.7831e-05 - val_loss: 0.0308 - val_mse: 8.8623e-05\n",
            "Epoch 100/250\n",
            "2129/2129 [==============================] - 0s 22us/step - loss: 0.0096 - mse: 7.7765e-05 - val_loss: 0.0356 - val_mse: 9.0836e-05\n",
            "Epoch 101/250\n",
            "2129/2129 [==============================] - 0s 25us/step - loss: 0.0103 - mse: 7.7793e-05 - val_loss: 0.0429 - val_mse: 8.3784e-05\n",
            "Epoch 102/250\n",
            "2129/2129 [==============================] - 0s 30us/step - loss: 0.0106 - mse: 7.7815e-05 - val_loss: 0.0395 - val_mse: 9.5929e-05\n",
            "Epoch 103/250\n",
            "2129/2129 [==============================] - 0s 25us/step - loss: 0.0109 - mse: 7.7764e-05 - val_loss: 0.0372 - val_mse: 8.5684e-05\n",
            "\n",
            "Epoch 00103: ReduceLROnPlateau reducing learning rate to 0.0003486784757114947.\n",
            "Epoch 104/250\n",
            "2129/2129 [==============================] - 0s 22us/step - loss: 0.0094 - mse: 7.7744e-05 - val_loss: 0.0384 - val_mse: 8.5225e-05\n",
            "Epoch 105/250\n",
            "2129/2129 [==============================] - 0s 21us/step - loss: 0.0094 - mse: 7.7813e-05 - val_loss: 0.0332 - val_mse: 9.2322e-05\n",
            "Epoch 106/250\n",
            "2129/2129 [==============================] - 0s 21us/step - loss: 0.0095 - mse: 7.7769e-05 - val_loss: 0.0342 - val_mse: 9.4224e-05\n",
            "Epoch 107/250\n",
            "2129/2129 [==============================] - 0s 22us/step - loss: 0.0097 - mse: 7.7763e-05 - val_loss: 0.0404 - val_mse: 9.2408e-05\n",
            "Epoch 108/250\n",
            "2129/2129 [==============================] - 0s 21us/step - loss: 0.0097 - mse: 7.7716e-05 - val_loss: 0.0361 - val_mse: 8.4708e-05\n",
            "\n",
            "Epoch 00108: ReduceLROnPlateau reducing learning rate to 0.00031381062290165574.\n",
            "Epoch 109/250\n",
            "2129/2129 [==============================] - 0s 22us/step - loss: 0.0089 - mse: 7.7876e-05 - val_loss: 0.0331 - val_mse: 8.4090e-05\n",
            "Epoch 110/250\n",
            "2129/2129 [==============================] - 0s 22us/step - loss: 0.0088 - mse: 7.7716e-05 - val_loss: 0.0251 - val_mse: 9.2048e-05\n",
            "Epoch 111/250\n",
            "2129/2129 [==============================] - 0s 20us/step - loss: 0.0081 - mse: 7.7760e-05 - val_loss: 0.0224 - val_mse: 9.0319e-05\n",
            "Epoch 112/250\n",
            "2129/2129 [==============================] - 0s 21us/step - loss: 0.0088 - mse: 7.7750e-05 - val_loss: 0.0247 - val_mse: 9.1348e-05\n",
            "Epoch 113/250\n",
            "2129/2129 [==============================] - 0s 21us/step - loss: 0.0082 - mse: 7.7792e-05 - val_loss: 0.0195 - val_mse: 8.4109e-05\n",
            "Epoch 114/250\n",
            "2129/2129 [==============================] - 0s 20us/step - loss: 0.0084 - mse: 7.7745e-05 - val_loss: 0.0247 - val_mse: 8.5047e-05\n",
            "Epoch 115/250\n",
            "2129/2129 [==============================] - 0s 21us/step - loss: 0.0079 - mse: 7.7810e-05 - val_loss: 0.0267 - val_mse: 9.4834e-05\n",
            "Epoch 116/250\n",
            "2129/2129 [==============================] - 0s 22us/step - loss: 0.0083 - mse: 7.7815e-05 - val_loss: 0.0226 - val_mse: 1.0588e-04\n",
            "Epoch 117/250\n",
            "2129/2129 [==============================] - 0s 21us/step - loss: 0.0081 - mse: 7.7828e-05 - val_loss: 0.0258 - val_mse: 9.7485e-05\n",
            "Epoch 118/250\n",
            "2129/2129 [==============================] - 0s 20us/step - loss: 0.0088 - mse: 7.7661e-05 - val_loss: 0.0390 - val_mse: 8.9806e-05\n",
            "\n",
            "Epoch 00118: ReduceLROnPlateau reducing learning rate to 0.0002824295632308349.\n",
            "Epoch 119/250\n",
            "2129/2129 [==============================] - 0s 20us/step - loss: 0.0080 - mse: 7.7777e-05 - val_loss: 0.0307 - val_mse: 8.5573e-05\n",
            "Epoch 120/250\n",
            "2129/2129 [==============================] - 0s 24us/step - loss: 0.0075 - mse: 7.7721e-05 - val_loss: 0.0279 - val_mse: 9.2956e-05\n",
            "Epoch 121/250\n",
            "2129/2129 [==============================] - 0s 22us/step - loss: 0.0079 - mse: 7.7702e-05 - val_loss: 0.0273 - val_mse: 8.4483e-05\n",
            "Epoch 122/250\n",
            "2129/2129 [==============================] - 0s 21us/step - loss: 0.0075 - mse: 7.7808e-05 - val_loss: 0.0222 - val_mse: 8.7008e-05\n",
            "Epoch 123/250\n",
            "2129/2129 [==============================] - 0s 22us/step - loss: 0.0071 - mse: 7.7715e-05 - val_loss: 0.0200 - val_mse: 8.3841e-05\n",
            "\n",
            "Epoch 00123: ReduceLROnPlateau reducing learning rate to 0.00025418660952709616.\n",
            "Epoch 124/250\n",
            "2129/2129 [==============================] - 0s 21us/step - loss: 0.0063 - mse: 7.7761e-05 - val_loss: 0.0221 - val_mse: 8.7391e-05\n",
            "Epoch 125/250\n",
            "2129/2129 [==============================] - 0s 21us/step - loss: 0.0067 - mse: 7.7764e-05 - val_loss: 0.0223 - val_mse: 8.6126e-05\n",
            "Epoch 126/250\n",
            "2129/2129 [==============================] - 0s 23us/step - loss: 0.0070 - mse: 7.7684e-05 - val_loss: 0.0234 - val_mse: 8.4157e-05\n",
            "Epoch 127/250\n",
            "2129/2129 [==============================] - 0s 20us/step - loss: 0.0067 - mse: 7.7746e-05 - val_loss: 0.0301 - val_mse: 8.6412e-05\n",
            "Epoch 128/250\n",
            "2129/2129 [==============================] - 0s 21us/step - loss: 0.0064 - mse: 7.7681e-05 - val_loss: 0.0184 - val_mse: 9.1426e-05\n",
            "Epoch 129/250\n",
            "2129/2129 [==============================] - 0s 21us/step - loss: 0.0065 - mse: 7.7713e-05 - val_loss: 0.0215 - val_mse: 8.8696e-05\n",
            "Epoch 130/250\n",
            "2129/2129 [==============================] - 0s 21us/step - loss: 0.0073 - mse: 7.7746e-05 - val_loss: 0.0210 - val_mse: 8.5423e-05\n",
            "Epoch 131/250\n",
            "2129/2129 [==============================] - 0s 23us/step - loss: 0.0069 - mse: 7.7699e-05 - val_loss: 0.0178 - val_mse: 8.5908e-05\n",
            "Epoch 132/250\n",
            "2129/2129 [==============================] - 0s 21us/step - loss: 0.0069 - mse: 7.7716e-05 - val_loss: 0.0187 - val_mse: 8.4450e-05\n",
            "Epoch 133/250\n",
            "2129/2129 [==============================] - 0s 23us/step - loss: 0.0069 - mse: 7.7709e-05 - val_loss: 0.0208 - val_mse: 8.4038e-05\n",
            "Epoch 134/250\n",
            "2129/2129 [==============================] - 0s 24us/step - loss: 0.0072 - mse: 7.7739e-05 - val_loss: 0.0222 - val_mse: 9.0753e-05\n",
            "Epoch 135/250\n",
            "2129/2129 [==============================] - 0s 22us/step - loss: 0.0069 - mse: 7.7663e-05 - val_loss: 0.0207 - val_mse: 8.3917e-05\n",
            "Epoch 136/250\n",
            "2129/2129 [==============================] - 0s 21us/step - loss: 0.0070 - mse: 7.7803e-05 - val_loss: 0.0237 - val_mse: 8.6551e-05\n",
            "\n",
            "Epoch 00136: ReduceLROnPlateau reducing learning rate to 0.00022876793809700757.\n",
            "Epoch 137/250\n",
            "2129/2129 [==============================] - 0s 23us/step - loss: 0.0061 - mse: 7.7681e-05 - val_loss: 0.0227 - val_mse: 8.6983e-05\n",
            "Epoch 138/250\n",
            "2129/2129 [==============================] - 0s 21us/step - loss: 0.0061 - mse: 7.7780e-05 - val_loss: 0.0246 - val_mse: 8.4006e-05\n",
            "Epoch 139/250\n",
            "2129/2129 [==============================] - 0s 21us/step - loss: 0.0059 - mse: 7.7787e-05 - val_loss: 0.0191 - val_mse: 8.6268e-05\n",
            "Epoch 140/250\n",
            "2129/2129 [==============================] - 0s 21us/step - loss: 0.0057 - mse: 7.7742e-05 - val_loss: 0.0166 - val_mse: 1.0578e-04\n",
            "Epoch 141/250\n",
            "2129/2129 [==============================] - 0s 24us/step - loss: 0.0058 - mse: 7.7750e-05 - val_loss: 0.0170 - val_mse: 8.8508e-05\n",
            "Epoch 142/250\n",
            "2129/2129 [==============================] - 0s 24us/step - loss: 0.0063 - mse: 7.7795e-05 - val_loss: 0.0177 - val_mse: 8.5368e-05\n",
            "Epoch 143/250\n",
            "2129/2129 [==============================] - 0s 22us/step - loss: 0.0061 - mse: 7.7709e-05 - val_loss: 0.0218 - val_mse: 8.4020e-05\n",
            "Epoch 144/250\n",
            "2129/2129 [==============================] - 0s 22us/step - loss: 0.0061 - mse: 7.7652e-05 - val_loss: 0.0232 - val_mse: 8.7940e-05\n",
            "Epoch 145/250\n",
            "2129/2129 [==============================] - 0s 24us/step - loss: 0.0064 - mse: 7.7762e-05 - val_loss: 0.0203 - val_mse: 8.3815e-05\n",
            "\n",
            "Epoch 00145: ReduceLROnPlateau reducing learning rate to 0.00020589114428730683.\n",
            "Epoch 146/250\n",
            "2129/2129 [==============================] - 0s 21us/step - loss: 0.0057 - mse: 7.7745e-05 - val_loss: 0.0188 - val_mse: 8.3879e-05\n",
            "Epoch 147/250\n",
            "2129/2129 [==============================] - 0s 21us/step - loss: 0.0054 - mse: 7.7735e-05 - val_loss: 0.0204 - val_mse: 8.7015e-05\n",
            "Epoch 148/250\n",
            "2129/2129 [==============================] - 0s 22us/step - loss: 0.0054 - mse: 7.7701e-05 - val_loss: 0.0152 - val_mse: 8.9060e-05\n",
            "Epoch 149/250\n",
            "2129/2129 [==============================] - 0s 22us/step - loss: 0.0052 - mse: 7.7763e-05 - val_loss: 0.0167 - val_mse: 8.7242e-05\n",
            "Epoch 150/250\n",
            "2129/2129 [==============================] - 0s 22us/step - loss: 0.0053 - mse: 7.7702e-05 - val_loss: 0.0127 - val_mse: 8.4437e-05\n",
            "Epoch 151/250\n",
            "2129/2129 [==============================] - 0s 21us/step - loss: 0.0053 - mse: 7.7759e-05 - val_loss: 0.0171 - val_mse: 8.3873e-05\n",
            "Epoch 152/250\n",
            "2129/2129 [==============================] - 0s 21us/step - loss: 0.0057 - mse: 7.7683e-05 - val_loss: 0.0174 - val_mse: 8.4766e-05\n",
            "Epoch 153/250\n",
            "2129/2129 [==============================] - 0s 21us/step - loss: 0.0056 - mse: 7.7762e-05 - val_loss: 0.0231 - val_mse: 8.5957e-05\n",
            "Epoch 154/250\n",
            "2129/2129 [==============================] - 0s 21us/step - loss: 0.0051 - mse: 7.7716e-05 - val_loss: 0.0199 - val_mse: 8.7533e-05\n",
            "Epoch 155/250\n",
            "2129/2129 [==============================] - 0s 23us/step - loss: 0.0053 - mse: 7.7724e-05 - val_loss: 0.0192 - val_mse: 8.9716e-05\n",
            "\n",
            "Epoch 00155: ReduceLROnPlateau reducing learning rate to 0.00018530203378759326.\n",
            "Epoch 156/250\n",
            "2129/2129 [==============================] - 0s 20us/step - loss: 0.0047 - mse: 7.7714e-05 - val_loss: 0.0153 - val_mse: 8.6817e-05\n",
            "Epoch 157/250\n",
            "2129/2129 [==============================] - 0s 21us/step - loss: 0.0045 - mse: 7.7749e-05 - val_loss: 0.0135 - val_mse: 8.4614e-05\n",
            "Epoch 158/250\n",
            "2129/2129 [==============================] - 0s 31us/step - loss: 0.0044 - mse: 7.7732e-05 - val_loss: 0.0131 - val_mse: 8.4129e-05\n",
            "Epoch 159/250\n",
            "2129/2129 [==============================] - 0s 21us/step - loss: 0.0046 - mse: 7.7741e-05 - val_loss: 0.0167 - val_mse: 8.3762e-05\n",
            "Epoch 160/250\n",
            "2129/2129 [==============================] - 0s 22us/step - loss: 0.0050 - mse: 7.7769e-05 - val_loss: 0.0173 - val_mse: 8.3937e-05\n",
            "\n",
            "Epoch 00160: ReduceLROnPlateau reducing learning rate to 0.00016677183302817866.\n",
            "Epoch 161/250\n",
            "2129/2129 [==============================] - 0s 23us/step - loss: 0.0045 - mse: 7.7730e-05 - val_loss: 0.0119 - val_mse: 8.3841e-05\n",
            "Epoch 162/250\n",
            "2129/2129 [==============================] - 0s 22us/step - loss: 0.0042 - mse: 7.7714e-05 - val_loss: 0.0116 - val_mse: 8.7139e-05\n",
            "Epoch 163/250\n",
            "2129/2129 [==============================] - 0s 21us/step - loss: 0.0041 - mse: 7.7757e-05 - val_loss: 0.0165 - val_mse: 8.3760e-05\n",
            "Epoch 164/250\n",
            "2129/2129 [==============================] - 0s 20us/step - loss: 0.0044 - mse: 7.7689e-05 - val_loss: 0.0118 - val_mse: 8.3752e-05\n",
            "Epoch 165/250\n",
            "2129/2129 [==============================] - 0s 19us/step - loss: 0.0044 - mse: 7.7693e-05 - val_loss: 0.0163 - val_mse: 8.3695e-05\n",
            "Epoch 166/250\n",
            "2129/2129 [==============================] - 0s 23us/step - loss: 0.0042 - mse: 7.7693e-05 - val_loss: 0.0144 - val_mse: 8.4057e-05\n",
            "Epoch 167/250\n",
            "2129/2129 [==============================] - 0s 23us/step - loss: 0.0045 - mse: 7.7753e-05 - val_loss: 0.0138 - val_mse: 8.4246e-05\n",
            "\n",
            "Epoch 00167: ReduceLROnPlateau reducing learning rate to 0.00015009464841568844.\n",
            "Epoch 168/250\n",
            "2129/2129 [==============================] - 0s 21us/step - loss: 0.0038 - mse: 7.7750e-05 - val_loss: 0.0125 - val_mse: 8.4559e-05\n",
            "Epoch 169/250\n",
            "2129/2129 [==============================] - 0s 21us/step - loss: 0.0041 - mse: 7.7712e-05 - val_loss: 0.0115 - val_mse: 8.6013e-05\n",
            "Epoch 170/250\n",
            "2129/2129 [==============================] - 0s 21us/step - loss: 0.0039 - mse: 7.7674e-05 - val_loss: 0.0134 - val_mse: 8.4091e-05\n",
            "Epoch 171/250\n",
            "2129/2129 [==============================] - 0s 21us/step - loss: 0.0037 - mse: 7.7742e-05 - val_loss: 0.0152 - val_mse: 8.3994e-05\n",
            "Epoch 172/250\n",
            "2129/2129 [==============================] - 0s 21us/step - loss: 0.0037 - mse: 7.7710e-05 - val_loss: 0.0079 - val_mse: 8.9463e-05\n",
            "Epoch 173/250\n",
            "2129/2129 [==============================] - 0s 22us/step - loss: 0.0036 - mse: 7.7697e-05 - val_loss: 0.0119 - val_mse: 8.5643e-05\n",
            "Epoch 174/250\n",
            "2129/2129 [==============================] - 0s 21us/step - loss: 0.0038 - mse: 7.7673e-05 - val_loss: 0.0130 - val_mse: 8.4460e-05\n",
            "Epoch 175/250\n",
            "2129/2129 [==============================] - 0s 19us/step - loss: 0.0041 - mse: 7.7757e-05 - val_loss: 0.0156 - val_mse: 8.3710e-05\n",
            "Epoch 176/250\n",
            "2129/2129 [==============================] - 0s 22us/step - loss: 0.0040 - mse: 7.7714e-05 - val_loss: 0.0159 - val_mse: 8.4169e-05\n",
            "Epoch 177/250\n",
            "2129/2129 [==============================] - 0s 21us/step - loss: 0.0040 - mse: 7.7685e-05 - val_loss: 0.0132 - val_mse: 8.6728e-05\n",
            "\n",
            "Epoch 00177: ReduceLROnPlateau reducing learning rate to 0.0001350851875031367.\n",
            "Epoch 178/250\n",
            "2129/2129 [==============================] - 0s 21us/step - loss: 0.0037 - mse: 7.7670e-05 - val_loss: 0.0118 - val_mse: 8.3923e-05\n",
            "Epoch 179/250\n",
            "2129/2129 [==============================] - 0s 22us/step - loss: 0.0035 - mse: 7.7718e-05 - val_loss: 0.0124 - val_mse: 8.4230e-05\n",
            "Epoch 180/250\n",
            "2129/2129 [==============================] - 0s 19us/step - loss: 0.0035 - mse: 7.7669e-05 - val_loss: 0.0091 - val_mse: 8.3790e-05\n",
            "Epoch 181/250\n",
            "2129/2129 [==============================] - 0s 20us/step - loss: 0.0034 - mse: 7.7718e-05 - val_loss: 0.0076 - val_mse: 8.5276e-05\n",
            "Epoch 182/250\n",
            "2129/2129 [==============================] - 0s 22us/step - loss: 0.0034 - mse: 7.7707e-05 - val_loss: 0.0127 - val_mse: 8.3699e-05\n",
            "Epoch 183/250\n",
            "2129/2129 [==============================] - 0s 25us/step - loss: 0.0035 - mse: 7.7741e-05 - val_loss: 0.0089 - val_mse: 8.3992e-05\n",
            "Epoch 184/250\n",
            "2129/2129 [==============================] - 0s 21us/step - loss: 0.0035 - mse: 7.7711e-05 - val_loss: 0.0115 - val_mse: 8.8229e-05\n",
            "Epoch 185/250\n",
            "2129/2129 [==============================] - 0s 20us/step - loss: 0.0035 - mse: 7.7727e-05 - val_loss: 0.0107 - val_mse: 8.3808e-05\n",
            "Epoch 186/250\n",
            "2129/2129 [==============================] - 0s 21us/step - loss: 0.0036 - mse: 7.7699e-05 - val_loss: 0.0142 - val_mse: 8.4539e-05\n",
            "\n",
            "Epoch 00186: ReduceLROnPlateau reducing learning rate to 0.00012157666351413355.\n",
            "Epoch 187/250\n",
            "2129/2129 [==============================] - 0s 20us/step - loss: 0.0033 - mse: 7.7767e-05 - val_loss: 0.0072 - val_mse: 8.3735e-05\n",
            "Epoch 188/250\n",
            "2129/2129 [==============================] - 0s 22us/step - loss: 0.0030 - mse: 7.7723e-05 - val_loss: 0.0105 - val_mse: 8.3719e-05\n",
            "Epoch 189/250\n",
            "2129/2129 [==============================] - 0s 24us/step - loss: 0.0031 - mse: 7.7742e-05 - val_loss: 0.0118 - val_mse: 8.4719e-05\n",
            "Epoch 190/250\n",
            "2129/2129 [==============================] - 0s 21us/step - loss: 0.0029 - mse: 7.7736e-05 - val_loss: 0.0083 - val_mse: 8.3804e-05\n",
            "Epoch 191/250\n",
            "2129/2129 [==============================] - 0s 21us/step - loss: 0.0031 - mse: 7.7750e-05 - val_loss: 0.0099 - val_mse: 8.4163e-05\n",
            "Epoch 192/250\n",
            "2129/2129 [==============================] - 0s 21us/step - loss: 0.0031 - mse: 7.7701e-05 - val_loss: 0.0102 - val_mse: 8.4013e-05\n",
            "\n",
            "Epoch 00192: ReduceLROnPlateau reducing learning rate to 0.00010941899454337544.\n",
            "Epoch 193/250\n",
            "2129/2129 [==============================] - 0s 21us/step - loss: 0.0029 - mse: 7.7757e-05 - val_loss: 0.0105 - val_mse: 8.3834e-05\n",
            "Epoch 194/250\n",
            "2129/2129 [==============================] - 0s 21us/step - loss: 0.0028 - mse: 7.7704e-05 - val_loss: 0.0098 - val_mse: 8.5343e-05\n",
            "Epoch 195/250\n",
            "2129/2129 [==============================] - 0s 21us/step - loss: 0.0027 - mse: 7.7740e-05 - val_loss: 0.0094 - val_mse: 8.3800e-05\n",
            "Epoch 196/250\n",
            "2129/2129 [==============================] - 0s 22us/step - loss: 0.0029 - mse: 7.7717e-05 - val_loss: 0.0077 - val_mse: 8.4157e-05\n",
            "Epoch 197/250\n",
            "2129/2129 [==============================] - 0s 21us/step - loss: 0.0026 - mse: 7.7718e-05 - val_loss: 0.0077 - val_mse: 8.4099e-05\n",
            "\n",
            "Epoch 00197: ReduceLROnPlateau reducing learning rate to 0.0001.\n",
            "Epoch 198/250\n",
            "2129/2129 [==============================] - 0s 21us/step - loss: 0.0025 - mse: 7.7705e-05 - val_loss: 0.0065 - val_mse: 8.3979e-05\n",
            "Epoch 199/250\n",
            "2129/2129 [==============================] - 0s 19us/step - loss: 0.0024 - mse: 7.7731e-05 - val_loss: 0.0071 - val_mse: 8.3738e-05\n",
            "Epoch 200/250\n",
            "2129/2129 [==============================] - 0s 21us/step - loss: 0.0024 - mse: 7.7720e-05 - val_loss: 0.0082 - val_mse: 8.3867e-05\n",
            "Epoch 201/250\n",
            "2129/2129 [==============================] - 0s 21us/step - loss: 0.0025 - mse: 7.7735e-05 - val_loss: 0.0074 - val_mse: 8.4390e-05\n",
            "Epoch 202/250\n",
            "2129/2129 [==============================] - 0s 24us/step - loss: 0.0024 - mse: 7.7737e-05 - val_loss: 0.0086 - val_mse: 8.3857e-05\n",
            "Epoch 203/250\n",
            "2129/2129 [==============================] - 0s 21us/step - loss: 0.0025 - mse: 7.7724e-05 - val_loss: 0.0073 - val_mse: 8.3814e-05\n",
            "Epoch 204/250\n",
            "2129/2129 [==============================] - 0s 23us/step - loss: 0.0025 - mse: 7.7720e-05 - val_loss: 0.0062 - val_mse: 8.3788e-05\n",
            "Epoch 205/250\n",
            "2129/2129 [==============================] - 0s 24us/step - loss: 0.0025 - mse: 7.7741e-05 - val_loss: 0.0082 - val_mse: 8.3755e-05\n",
            "Epoch 206/250\n",
            "2129/2129 [==============================] - 0s 20us/step - loss: 0.0025 - mse: 7.7714e-05 - val_loss: 0.0083 - val_mse: 8.3762e-05\n",
            "Epoch 207/250\n",
            "2129/2129 [==============================] - 0s 22us/step - loss: 0.0025 - mse: 7.7725e-05 - val_loss: 0.0074 - val_mse: 8.3986e-05\n",
            "Epoch 208/250\n",
            "2129/2129 [==============================] - 0s 25us/step - loss: 0.0027 - mse: 7.7718e-05 - val_loss: 0.0079 - val_mse: 8.3991e-05\n",
            "Epoch 209/250\n",
            "2129/2129 [==============================] - 0s 22us/step - loss: 0.0026 - mse: 7.7736e-05 - val_loss: 0.0073 - val_mse: 8.3925e-05\n",
            "Epoch 210/250\n",
            "2129/2129 [==============================] - 0s 22us/step - loss: 0.0026 - mse: 7.7711e-05 - val_loss: 0.0067 - val_mse: 8.4459e-05\n",
            "Epoch 211/250\n",
            "2129/2129 [==============================] - 0s 21us/step - loss: 0.0027 - mse: 7.7738e-05 - val_loss: 0.0064 - val_mse: 8.4273e-05\n",
            "Epoch 212/250\n",
            "2129/2129 [==============================] - 0s 21us/step - loss: 0.0026 - mse: 7.7685e-05 - val_loss: 0.0064 - val_mse: 8.3685e-05\n",
            "Epoch 213/250\n",
            "2129/2129 [==============================] - 0s 20us/step - loss: 0.0026 - mse: 7.7737e-05 - val_loss: 0.0097 - val_mse: 8.3896e-05\n",
            "Epoch 214/250\n",
            "2129/2129 [==============================] - 0s 21us/step - loss: 0.0024 - mse: 7.7718e-05 - val_loss: 0.0072 - val_mse: 8.4942e-05\n",
            "Epoch 215/250\n",
            "2129/2129 [==============================] - 0s 21us/step - loss: 0.0023 - mse: 7.7741e-05 - val_loss: 0.0057 - val_mse: 8.3702e-05\n",
            "Epoch 216/250\n",
            "2129/2129 [==============================] - 0s 22us/step - loss: 0.0025 - mse: 7.7719e-05 - val_loss: 0.0095 - val_mse: 8.3685e-05\n",
            "Epoch 217/250\n",
            "2129/2129 [==============================] - 0s 21us/step - loss: 0.0026 - mse: 7.7755e-05 - val_loss: 0.0092 - val_mse: 8.4779e-05\n",
            "Epoch 218/250\n",
            "2129/2129 [==============================] - 0s 21us/step - loss: 0.0027 - mse: 7.7726e-05 - val_loss: 0.0082 - val_mse: 8.4187e-05\n",
            "Epoch 219/250\n",
            "2129/2129 [==============================] - 0s 20us/step - loss: 0.0026 - mse: 7.7745e-05 - val_loss: 0.0090 - val_mse: 8.4013e-05\n",
            "Epoch 220/250\n",
            "2129/2129 [==============================] - 0s 21us/step - loss: 0.0027 - mse: 7.7741e-05 - val_loss: 0.0090 - val_mse: 8.5686e-05\n",
            "Epoch 221/250\n",
            "2129/2129 [==============================] - 0s 22us/step - loss: 0.0026 - mse: 7.7728e-05 - val_loss: 0.0087 - val_mse: 8.4264e-05\n",
            "Epoch 222/250\n",
            "2129/2129 [==============================] - 0s 21us/step - loss: 0.0024 - mse: 7.7733e-05 - val_loss: 0.0111 - val_mse: 8.4249e-05\n",
            "Epoch 223/250\n",
            "2129/2129 [==============================] - 0s 24us/step - loss: 0.0026 - mse: 7.7711e-05 - val_loss: 0.0113 - val_mse: 8.3810e-05\n",
            "Epoch 224/250\n",
            "2129/2129 [==============================] - 0s 26us/step - loss: 0.0027 - mse: 7.7702e-05 - val_loss: 0.0098 - val_mse: 8.3916e-05\n",
            "Epoch 225/250\n",
            "2129/2129 [==============================] - 0s 23us/step - loss: 0.0026 - mse: 7.7726e-05 - val_loss: 0.0071 - val_mse: 8.4001e-05\n",
            "Epoch 226/250\n",
            "2129/2129 [==============================] - 0s 25us/step - loss: 0.0025 - mse: 7.7701e-05 - val_loss: 0.0077 - val_mse: 8.3769e-05\n",
            "Epoch 227/250\n",
            "2129/2129 [==============================] - 0s 21us/step - loss: 0.0025 - mse: 7.7760e-05 - val_loss: 0.0068 - val_mse: 8.3869e-05\n",
            "Epoch 228/250\n",
            "2129/2129 [==============================] - 0s 21us/step - loss: 0.0026 - mse: 7.7721e-05 - val_loss: 0.0065 - val_mse: 8.3883e-05\n",
            "Epoch 229/250\n",
            "2129/2129 [==============================] - 0s 21us/step - loss: 0.0024 - mse: 7.7762e-05 - val_loss: 0.0081 - val_mse: 8.3929e-05\n",
            "Epoch 230/250\n",
            "2129/2129 [==============================] - 0s 21us/step - loss: 0.0025 - mse: 7.7735e-05 - val_loss: 0.0072 - val_mse: 8.5011e-05\n",
            "Epoch 231/250\n",
            "2129/2129 [==============================] - 0s 21us/step - loss: 0.0025 - mse: 7.7714e-05 - val_loss: 0.0067 - val_mse: 8.4061e-05\n",
            "Epoch 232/250\n",
            "2129/2129 [==============================] - 0s 23us/step - loss: 0.0026 - mse: 7.7721e-05 - val_loss: 0.0084 - val_mse: 8.5590e-05\n",
            "Epoch 233/250\n",
            "2129/2129 [==============================] - 0s 21us/step - loss: 0.0028 - mse: 7.7727e-05 - val_loss: 0.0090 - val_mse: 8.3972e-05\n",
            "Epoch 234/250\n",
            "2129/2129 [==============================] - 0s 21us/step - loss: 0.0027 - mse: 7.7733e-05 - val_loss: 0.0076 - val_mse: 8.3692e-05\n",
            "Epoch 235/250\n",
            "2129/2129 [==============================] - 0s 21us/step - loss: 0.0028 - mse: 7.7732e-05 - val_loss: 0.0066 - val_mse: 8.4807e-05\n",
            "Epoch 236/250\n",
            "2129/2129 [==============================] - 0s 21us/step - loss: 0.0026 - mse: 7.7743e-05 - val_loss: 0.0097 - val_mse: 8.3871e-05\n",
            "Epoch 237/250\n",
            "2129/2129 [==============================] - 0s 20us/step - loss: 0.0025 - mse: 7.7734e-05 - val_loss: 0.0093 - val_mse: 8.3862e-05\n",
            "Epoch 238/250\n",
            "2129/2129 [==============================] - 0s 22us/step - loss: 0.0026 - mse: 7.7732e-05 - val_loss: 0.0077 - val_mse: 8.3908e-05\n",
            "Epoch 239/250\n",
            "2129/2129 [==============================] - 0s 22us/step - loss: 0.0025 - mse: 7.7702e-05 - val_loss: 0.0076 - val_mse: 8.3756e-05\n",
            "Epoch 240/250\n",
            "2129/2129 [==============================] - 0s 21us/step - loss: 0.0025 - mse: 7.7741e-05 - val_loss: 0.0061 - val_mse: 8.3750e-05\n",
            "Epoch 241/250\n",
            "2129/2129 [==============================] - 0s 21us/step - loss: 0.0025 - mse: 7.7725e-05 - val_loss: 0.0067 - val_mse: 8.4104e-05\n",
            "Epoch 242/250\n",
            "2129/2129 [==============================] - 0s 21us/step - loss: 0.0026 - mse: 7.7723e-05 - val_loss: 0.0082 - val_mse: 8.4628e-05\n",
            "Epoch 243/250\n",
            "2129/2129 [==============================] - 0s 21us/step - loss: 0.0028 - mse: 7.7723e-05 - val_loss: 0.0092 - val_mse: 8.4526e-05\n",
            "Epoch 244/250\n",
            "2129/2129 [==============================] - 0s 21us/step - loss: 0.0029 - mse: 7.7747e-05 - val_loss: 0.0085 - val_mse: 8.3707e-05\n",
            "Epoch 245/250\n",
            "2129/2129 [==============================] - 0s 22us/step - loss: 0.0026 - mse: 7.7721e-05 - val_loss: 0.0084 - val_mse: 8.3676e-05\n",
            "Epoch 246/250\n",
            "2129/2129 [==============================] - 0s 25us/step - loss: 0.0026 - mse: 7.7726e-05 - val_loss: 0.0061 - val_mse: 8.3758e-05\n",
            "Epoch 247/250\n",
            "2129/2129 [==============================] - 0s 21us/step - loss: 0.0026 - mse: 7.7722e-05 - val_loss: 0.0074 - val_mse: 8.3860e-05\n",
            "Epoch 248/250\n",
            "2129/2129 [==============================] - 0s 21us/step - loss: 0.0026 - mse: 7.7719e-05 - val_loss: 0.0092 - val_mse: 8.3745e-05\n",
            "Epoch 249/250\n",
            "2129/2129 [==============================] - 0s 26us/step - loss: 0.0026 - mse: 7.7731e-05 - val_loss: 0.0064 - val_mse: 8.4838e-05\n",
            "Epoch 250/250\n",
            "2129/2129 [==============================] - 0s 23us/step - loss: 0.0028 - mse: 7.7753e-05 - val_loss: 0.0084 - val_mse: 8.4272e-05\n"
          ],
          "name": "stdout"
        }
      ]
    },
    {
      "cell_type": "code",
      "metadata": {
        "id": "K32aAOIgRatV",
        "colab_type": "code",
        "outputId": "f91e4766-61f6-481e-80c6-8ba87c8b069f",
        "colab": {
          "base_uri": "https://localhost:8080/",
          "height": 391
        }
      },
      "source": [
        "fig, ax = plt.subplots(1, figsize=(8, 6))\n",
        "ax.plot(history_mlp_pct_big.history['mse'], color=\"red\", label=\"Train loss\")\n",
        "ax.plot(history_mlp_pct_big.history['val_mse'], color=\"green\", label=\"Val loss\")\n",
        "ax.legend()"
      ],
      "execution_count": 0,
      "outputs": [
        {
          "output_type": "execute_result",
          "data": {
            "text/plain": [
              "<matplotlib.legend.Legend at 0x7f81173e2668>"
            ]
          },
          "metadata": {
            "tags": []
          },
          "execution_count": 22
        },
        {
          "output_type": "display_data",
          "data": {
            "image/png": "[encoded data removed]",
            "text/plain": [
              "<Figure size 576x432 with 1 Axes>"
            ]
          },
          "metadata": {
            "tags": [],
            "needs_background": "light"
          }
        }
      ]
    },
    {
      "cell_type": "code",
      "metadata": {
        "id": "yiz2CqdtRatX",
        "colab_type": "code",
        "outputId": "7c00091a-94d6-4e67-cce5-96c5f62d2c22",
        "colab": {
          "base_uri": "https://localhost:8080/",
          "height": 34
        }
      },
      "source": [
        "X_test_pct.shape"
      ],
      "execution_count": 0,
      "outputs": [
        {
          "output_type": "execute_result",
          "data": {
            "text/plain": [
              "(375, 10)"
            ]
          },
          "metadata": {
            "tags": []
          },
          "execution_count": 23
        }
      ]
    },
    {
      "cell_type": "code",
      "metadata": {
        "id": "GOXYRJpTRatZ",
        "colab_type": "code",
        "outputId": "c0ca294a-b05c-480f-c74a-f32d56b473a4",
        "colab": {
          "base_uri": "https://localhost:8080/",
          "height": 391
        }
      },
      "source": [
        "fig, ax = plt.subplots(1, figsize=(8, 6))\n",
        "ax.plot((X_test[-375:,-1]*(np.hstack(1+model_mlp_pct_big.predict(X_test_pct[-375:])))), color=\"red\", label=\"Predicted price\")\n",
        "ax.plot(close_price[-375:], color=\"blue\", label=\"Real price\")\n",
        "ax.legend()"
      ],
      "execution_count": 0,
      "outputs": [
        {
          "output_type": "execute_result",
          "data": {
            "text/plain": [
              "<matplotlib.legend.Legend at 0x7f81173d4c88>"
            ]
          },
          "metadata": {
            "tags": []
          },
          "execution_count": 24
        },
        {
          "output_type": "display_data",
          "data": {
            "image/png": "[encoded data removed]",
            "text/plain": [
              "<Figure size 576x432 with 1 Axes>"
            ]
          },
          "metadata": {
            "tags": [],
            "needs_background": "light"
          }
        }
      ]
    },
    {
      "cell_type": "code",
      "metadata": {
        "id": "lmEx1FTYRatb",
        "colab_type": "code",
        "colab": {}
      },
      "source": [
        "def accuracy(arr1, arr2):\n",
        "    t=0\n",
        "    for i in range(len(arr1)-1):\n",
        "        if((arr1[i+1]-arr1[i]>0) & (arr2[i+1]-arr2[i]>0)):\n",
        "            t+=1\n",
        "        if((arr1[i+1]-arr1[i]<0) & (arr2[i+1]-arr2[i]<0)): \n",
        "            t+=1\n",
        "    return t/len(arr1)\n",
        "        "
      ],
      "execution_count": 0,
      "outputs": []
    },
    {
      "cell_type": "code",
      "metadata": {
        "id": "Q7PuHnlERatd",
        "colab_type": "code",
        "outputId": "d11e91f1-0f66-40e8-d51d-226cd8983521",
        "colab": {}
      },
      "source": [
        "X_test_pct[:].shape"
      ],
      "execution_count": 0,
      "outputs": [
        {
          "output_type": "execute_result",
          "data": {
            "text/plain": [
              "(375, 10)"
            ]
          },
          "metadata": {
            "tags": []
          },
          "execution_count": 227
        }
      ]
    },
    {
      "cell_type": "code",
      "metadata": {
        "id": "KqM9tMG0Rath",
        "colab_type": "code",
        "outputId": "97cc2196-dfb5-41b0-917d-1ea2d5f59dab",
        "colab": {}
      },
      "source": [
        "accuracy(X_test[:,-1]*(np.hstack(1+model_mlp_pct_big.predict(X_test_pct[:]))),close_price[-375:])"
      ],
      "execution_count": 0,
      "outputs": [
        {
          "output_type": "execute_result",
          "data": {
            "text/plain": [
              "0.496"
            ]
          },
          "metadata": {
            "tags": []
          },
          "execution_count": 225
        }
      ]
    },
    {
      "cell_type": "code",
      "metadata": {
        "id": "eSKQwuUVRatj",
        "colab_type": "code",
        "outputId": "e770ab2b-ff96-4aa4-a97a-91b6b7d268e9",
        "colab": {}
      },
      "source": [
        "(X_test[1:,-1]*(np.hstack(1+model_mlp_pct_big.predict(X_test_pct[:-1]))))-close_price[-374:]"
      ],
      "execution_count": 0,
      "outputs": [
        {
          "output_type": "execute_result",
          "data": {
            "text/plain": [
              "array([-1.20009915e+02, -3.37462072e+02, -1.63129684e+02,  2.03473892e+02,\n",
              "       -2.42221908e+02, -1.11865855e+02, -6.48204325e+01, -7.39994876e+01,\n",
              "       -9.54955035e+01,  1.17541658e+02, -1.12926951e+01, -7.08751396e+00,\n",
              "       -2.16482999e+02, -1.91570186e+02, -1.29668327e+02,  5.71503774e+01,\n",
              "        1.26472450e+02, -1.28187354e+02,  6.20152460e+01, -1.16831141e+01,\n",
              "       -1.53844736e+02, -5.66842243e+01, -1.44812963e+02,  2.64928585e+01,\n",
              "        5.53986804e+01,  1.77181296e+02,  1.07809794e+02, -1.31402862e+02,\n",
              "        1.19155986e+02, -4.13665460e+02, -1.28857162e+02, -1.06921423e+02,\n",
              "       -8.32949199e+01,  7.06277826e+01,  5.53969012e+01, -1.51507873e+02,\n",
              "       -2.78700014e+02, -3.22285104e+01, -7.77282365e+01,  1.19919173e+02,\n",
              "        2.43889923e+00, -9.18915195e+00, -4.16478680e+01, -4.06714802e+01,\n",
              "        6.19775126e+01,  4.16053060e+01, -1.33131957e+02, -4.88625825e+01,\n",
              "       -1.65934279e+02, -2.72950443e+01,  7.48490195e+01, -2.03540354e+02,\n",
              "       -1.77564295e+02, -2.70704085e+02, -1.05149147e+02,  1.64086970e+02,\n",
              "        5.13367321e+01,  8.74665829e+01, -7.58234518e+01, -3.88428979e+01,\n",
              "       -2.10572681e+02, -1.41022095e+02, -7.31641226e+01,  1.80086719e+02,\n",
              "        1.60611302e+02, -6.13294739e+01,  3.73004741e+01,  8.12289007e+02,\n",
              "        5.28291699e+02, -3.07041487e+02,  6.95145053e+01, -5.69588519e+02,\n",
              "        7.28833496e+01,  3.10763512e+02, -8.42581463e+01,  1.08008576e+02,\n",
              "        9.94742640e+01,  5.89841299e+02, -4.14998326e+02,  2.78259690e+02,\n",
              "        2.28272224e+02, -4.54662689e+02, -2.59729290e+02, -2.85612342e+02,\n",
              "        9.26263017e+01, -2.09237968e+02, -1.92684682e+02, -5.62084885e+02,\n",
              "       -2.98780420e+01,  1.84614924e+02,  5.85751933e+02,  8.39035949e+01,\n",
              "        1.77989616e+02, -2.27908919e+02, -1.46648968e+02,  3.79305358e+02,\n",
              "        5.32968515e+02, -1.82279400e+01,  1.51499429e+02, -3.73834460e+02,\n",
              "       -1.27290715e+02, -6.32915281e+02,  9.73665538e+00, -2.15822217e+02,\n",
              "       -3.13675848e+02,  7.81119319e+02,  5.88577822e+01,  5.41779346e+02,\n",
              "       -5.24584711e+01,  3.27556351e+01, -1.72891465e+02, -9.15652856e+01,\n",
              "        4.79007909e+02,  4.85267820e+02, -1.02716111e+02,  3.26359119e+02,\n",
              "        4.47735446e+02,  3.97081561e+02,  6.38335861e+02, -1.10454394e+03,\n",
              "       -2.80287375e+02,  6.02379894e+01, -2.82155398e+02, -3.23512346e+01,\n",
              "        6.38291957e+02, -7.65058988e+02, -1.21127871e+02, -2.69971104e+02,\n",
              "       -1.08020481e+02, -1.33294819e+02, -2.27047628e+01,  6.92050135e+01,\n",
              "       -1.80119851e+02, -1.59516352e+02, -1.80079177e+02, -3.52575447e+02,\n",
              "        2.81717901e+02, -1.88067544e+02,  2.06916316e+00, -2.01191546e+02,\n",
              "        1.87365999e+02, -6.70794958e+01, -4.54521716e+02, -2.24334013e+00,\n",
              "       -8.56497800e+01, -1.93701405e+02, -1.90738554e+02,  3.34139985e+00,\n",
              "        2.02194746e+02,  4.48455171e+01,  3.51779585e+01, -3.90321886e+02,\n",
              "       -1.36845945e+02,  8.60215327e+01, -4.61252919e+02, -2.62826175e+01,\n",
              "       -8.37353226e+01,  8.30524260e+01, -1.98056264e+02, -7.87518674e+01,\n",
              "        1.70714872e+01,  5.19269804e+01,  5.04052980e+01, -1.30831025e+02,\n",
              "        1.87876049e+02, -8.72459053e+00,  1.14425476e+02,  1.82326456e+02,\n",
              "        3.19130499e+00, -2.19570676e+02,  7.61124571e+01, -1.66205474e+02,\n",
              "       -2.53349192e+01, -1.57171756e+02, -8.63397722e+01,  9.10103439e+00,\n",
              "        1.21863223e+02, -2.34298550e+02,  4.40910870e+02, -3.24114733e+01,\n",
              "       -1.63180371e+02,  1.47293178e+01, -1.13859605e+02, -2.28744168e+02,\n",
              "       -3.49970433e+02,  6.01037756e+01, -5.77700251e+01, -1.85551148e+02,\n",
              "       -5.90172537e+01,  6.62450660e+01,  1.72383911e+02, -2.54527696e+01,\n",
              "       -4.41727055e+00, -2.89114536e+02,  6.85759748e+00, -8.63976269e+01,\n",
              "       -1.54650632e+01, -1.28743191e+02,  2.53342725e+01, -1.64090281e+02,\n",
              "        3.93903100e+01,  1.17330984e+02, -1.01640855e+02, -3.00078456e+01,\n",
              "       -6.02493120e+01,  1.43948517e+02,  1.04008080e+02, -2.16503823e+02,\n",
              "        4.70101307e+01,  4.53889404e+02, -2.11879900e+01,  1.20316937e+02,\n",
              "       -1.32933179e+02,  5.95661324e+02, -2.24457385e+02, -1.37078038e+02,\n",
              "       -2.32003725e+02,  7.43866248e+01,  6.63259488e+01, -2.18549476e+02,\n",
              "        8.28750301e+01,  2.62596328e+02, -1.13803445e+02,  2.19599785e+02,\n",
              "        2.04661518e+02, -6.44018699e+01,  3.36427828e+02, -2.39891319e+01,\n",
              "       -5.30478343e+02, -2.25618326e+02, -2.00142662e+02, -2.80224329e+02,\n",
              "       -9.61251051e+01, -5.32130003e+00,  2.52004979e+01, -1.20114855e+02,\n",
              "       -6.94360125e-01, -3.88841875e+01, -3.71201297e+02, -5.81067366e+01,\n",
              "       -2.67847442e+02,  1.44635915e+01, -2.71831804e+01,  1.58130323e+02,\n",
              "       -6.69748751e+00, -1.18326362e+01, -9.18497753e+01, -1.37655097e+02,\n",
              "       -8.77753536e+01, -2.00405151e+02,  2.44309356e+01,  9.52395884e+01,\n",
              "        3.16877542e+00, -9.56920202e+01, -2.46911858e+02, -2.62713814e+02,\n",
              "       -4.55203192e+01,  4.70085352e+00,  9.63954749e+01, -2.38687220e+01,\n",
              "        4.63015046e+01, -3.65374658e+01, -1.95901177e+02,  6.06971138e+01,\n",
              "        1.09772930e+02, -7.17162399e+01, -5.01409252e+01,  2.93988331e+00,\n",
              "        3.14539630e+02,  2.62284888e+02,  7.88337166e+01,  7.47692946e+02,\n",
              "       -3.32665016e+02,  6.15236226e-01, -3.88773709e+02,  6.97524328e+01,\n",
              "        3.74056046e+02, -4.07312347e+02,  7.80625089e+02, -1.22611360e+02,\n",
              "       -3.26858876e+02, -2.65449258e+02,  1.55232228e+02, -2.56996084e+02,\n",
              "       -7.26166617e+01,  6.02990198e+02, -2.94637114e+02,  1.01744701e+02,\n",
              "       -2.77918436e+02, -3.43239611e+02, -5.77150649e+01,  2.63878689e+02,\n",
              "       -2.55778852e+02, -3.96577919e+02, -8.99255445e+01, -5.84361671e+01,\n",
              "       -9.09388257e+01, -2.46402588e+02, -6.45208426e+01, -5.91990067e+01,\n",
              "        1.22057298e+02, -5.18286352e+01, -5.50192332e+01,  3.19920500e+01,\n",
              "        1.37183385e+02, -3.36234752e+01,  1.22258659e+02, -1.82587189e+02,\n",
              "        5.70872896e+01,  5.19236242e+01, -1.16818499e+02,  3.25133818e+02,\n",
              "        4.73194392e+02, -1.42014775e+02, -3.93327362e+02,  7.63552075e+01,\n",
              "        2.95917821e+02, -1.99658532e+02, -1.70755855e+02, -3.40580646e+02,\n",
              "        7.45555691e+00, -2.55376587e+02,  5.15140676e+00, -4.08108124e+01,\n",
              "        2.30740570e+02, -7.69655128e+01,  1.82608321e+01, -6.32679575e+01,\n",
              "        5.67605568e+00, -1.71379719e+02, -1.55041630e+02,  7.02805924e-02,\n",
              "       -1.37599255e+02,  1.21007067e+02, -3.20510955e+02, -1.34091932e+02,\n",
              "       -4.91621513e+01, -1.96676909e+01, -2.00580389e+02, -2.79940793e+01,\n",
              "       -3.01217628e+01, -2.22938632e+01, -1.11275600e+02, -1.92271485e+01,\n",
              "       -2.42004390e+02, -5.37093314e+01,  8.27179456e+01,  9.24968400e+01,\n",
              "        3.50723883e+01, -1.32175695e+02, -2.10867850e+02, -7.49725313e+01,\n",
              "       -6.16567560e+01,  9.29523504e+01,  2.48166713e+02,  2.57248229e+02,\n",
              "       -1.68176313e+02, -4.86170491e+01, -3.56183929e+02,  8.60508604e+01,\n",
              "        8.89623086e+00, -5.22447982e+01, -2.41201165e+02, -2.84519090e+01,\n",
              "       -1.19526939e+02, -5.01459494e+01,  9.26827642e+00, -1.60455232e+02,\n",
              "       -9.86218924e+01, -1.19037697e+02,  1.65467744e+01, -1.25198477e+02,\n",
              "       -4.45403531e+01,  1.62565574e+02])"
            ]
          },
          "metadata": {
            "tags": []
          },
          "execution_count": 226
        }
      ]
    },
    {
      "cell_type": "code",
      "metadata": {
        "id": "rF0H_WkORatl",
        "colab_type": "code",
        "outputId": "2327fb90-6881-4773-a789-9942a69a2f6e",
        "colab": {}
      },
      "source": [
        "X_test[1:,-1].shape"
      ],
      "execution_count": 0,
      "outputs": [
        {
          "output_type": "execute_result",
          "data": {
            "text/plain": [
              "(374,)"
            ]
          },
          "metadata": {
            "tags": []
          },
          "execution_count": 224
        }
      ]
    },
    {
      "cell_type": "code",
      "metadata": {
        "id": "pBkzXSHnRato",
        "colab_type": "code",
        "outputId": "e70bb2c6-760d-4c0d-ae09-e00bcc8b5286",
        "colab": {}
      },
      "source": [
        "close_price[-375:]"
      ],
      "execution_count": 0,
      "outputs": [
        {
          "output_type": "execute_result",
          "data": {
            "text/plain": [
              "[24356.740234,\n",
              " 24456.480469,\n",
              " 24776.589844,\n",
              " 24919.660156,\n",
              " 24700.449219,\n",
              " 24924.890625,\n",
              " 25019.410156,\n",
              " 25064.359375,\n",
              " 25119.890625,\n",
              " 25199.289063,\n",
              " 25064.5,\n",
              " 25058.119141,\n",
              " 25044.289063,\n",
              " 25241.939453,\n",
              " 25414.099609,\n",
              " 25527.070313,\n",
              " 25451.060547,\n",
              " 25306.830078,\n",
              " 25415.189453,\n",
              " 25333.820313,\n",
              " 25326.160156,\n",
              " 25462.580078,\n",
              " 25502.179688,\n",
              " 25628.910156,\n",
              " 25583.75,\n",
              " 25509.230469,\n",
              " 25313.140625,\n",
              " 25187.699219,\n",
              " 25299.919922,\n",
              " 25162.410156,\n",
              " 25558.730469,\n",
              " 25669.320313,\n",
              " 25758.689453,\n",
              " 25822.289063,\n",
              " 25733.599609,\n",
              " 25656.980469,\n",
              " 25790.349609,\n",
              " 26049.640625,\n",
              " 26064.019531,\n",
              " 26124.570313,\n",
              " 25986.919922,\n",
              " 25964.820313,\n",
              " 25952.480469,\n",
              " 25974.990234,\n",
              " 25995.869141,\n",
              " 25916.539063,\n",
              " 25857.070313,\n",
              " 25971.060547,\n",
              " 25998.919922,\n",
              " 26145.990234,\n",
              " 26154.669922,\n",
              " 26062.119141,\n",
              " 26246.960938,\n",
              " 26405.759766,\n",
              " 26656.980469,\n",
              " 26743.5,\n",
              " 26562.050781,\n",
              " 26492.210938,\n",
              " 26385.279297,\n",
              " 26439.929688,\n",
              " 26458.310547,\n",
              " 26651.210938,\n",
              " 26773.939453,\n",
              " 26828.390625,\n",
              " 26627.480469,\n",
              " 26447.050781,\n",
              " 26486.779297,\n",
              " 26430.570313,\n",
              " 25598.740234,\n",
              " 25052.830078,\n",
              " 25339.990234,\n",
              " 25250.550781,\n",
              " 25798.419922,\n",
              " 25706.679688,\n",
              " 25379.449219,\n",
              " 25444.339844,\n",
              " 25317.410156,\n",
              " 25191.429688,\n",
              " 24583.419922,\n",
              " 24984.550781,\n",
              " 24688.310547,\n",
              " 24442.919922,\n",
              " 24874.640625,\n",
              " 25115.759766,\n",
              " 25380.740234,\n",
              " 25270.830078,\n",
              " 25461.699219,\n",
              " 25635.009766,\n",
              " 26180.300781,\n",
              " 26191.220703,\n",
              " 25989.300781,\n",
              " 25387.179688,\n",
              " 25286.490234,\n",
              " 25080.5,\n",
              " 25289.269531,\n",
              " 25413.220703,\n",
              " 25017.439453,\n",
              " 24465.640625,\n",
              " 24464.689453,\n",
              " 24285.949219,\n",
              " 24640.240234,\n",
              " 24748.730469,\n",
              " 25366.429688,\n",
              " 25338.839844,\n",
              " 25538.460938,\n",
              " 25826.429688,\n",
              " 25027.070313,\n",
              " 24947.669922,\n",
              " 24388.949219,\n",
              " 24423.259766,\n",
              " 24370.240234,\n",
              " 24527.269531,\n",
              " 24597.380859,\n",
              " 24100.509766,\n",
              " 23592.980469,\n",
              " 23675.640625,\n",
              " 23323.660156,\n",
              " 22859.599609,\n",
              " 22445.369141,\n",
              " 21792.199219,\n",
              " 22878.449219,\n",
              " 23138.820313,\n",
              " 23062.400391,\n",
              " 23327.460938,\n",
              " 23346.240234,\n",
              " 22686.220703,\n",
              " 23433.160156,\n",
              " 23531.349609,\n",
              " 23787.449219,\n",
              " 23879.119141,\n",
              " 24001.919922,\n",
              " 23995.949219,\n",
              " 23909.839844,\n",
              " 24065.589844,\n",
              " 24207.160156,\n",
              " 24370.099609,\n",
              " 24706.349609,\n",
              " 24404.480469,\n",
              " 24575.619141,\n",
              " 24553.240234,\n",
              " 24737.199219,\n",
              " 24528.220703,\n",
              " 24579.960938,\n",
              " 25014.859375,\n",
              " 24999.669922,\n",
              " 25063.890625,\n",
              " 25239.369141,\n",
              " 25411.519531,\n",
              " 25390.300781,\n",
              " 25169.529297,\n",
              " 25106.330078,\n",
              " 25053.109375,\n",
              " 25425.759766,\n",
              " 25543.269531,\n",
              " 25439.390625,\n",
              " 25883.25,\n",
              " 25891.320313,\n",
              " 25954.439453,\n",
              " 25850.630859,\n",
              " 26031.810547,\n",
              " 26091.949219,\n",
              " 26057.980469,\n",
              " 25985.160156,\n",
              " 25916.0,\n",
              " 26026.320313,\n",
              " 25819.650391,\n",
              " 25806.630859,\n",
              " 25673.460938,\n",
              " 25473.230469,\n",
              " 25450.240234,\n",
              " 25650.880859,\n",
              " 25554.660156,\n",
              " 25702.890625,\n",
              " 25709.939453,\n",
              " 25848.869141,\n",
              " 25914.099609,\n",
              " 25887.380859,\n",
              " 25745.669922,\n",
              " 25962.509766,\n",
              " 25502.320313,\n",
              " 25516.830078,\n",
              " 25657.730469,\n",
              " 25625.589844,\n",
              " 25717.460938,\n",
              " 25928.679688,\n",
              " 26258.419922,\n",
              " 26179.130859,\n",
              " 26218.130859,\n",
              " 26384.630859,\n",
              " 26424.990234,\n",
              " 26341.019531,\n",
              " 26150.580078,\n",
              " 26157.160156,\n",
              " 26143.050781,\n",
              " 26412.300781,\n",
              " 26384.769531,\n",
              " 26452.660156,\n",
              " 26449.539063,\n",
              " 26559.539063,\n",
              " 26511.050781,\n",
              " 26656.390625,\n",
              " 26597.050781,\n",
              " 26462.080078,\n",
              " 26543.330078,\n",
              " 26554.390625,\n",
              " 26592.910156,\n",
              " 26430.140625,\n",
              " 26307.789063,\n",
              " 26504.949219,\n",
              " 26438.480469,\n",
              " 25965.089844,\n",
              " 25967.330078,\n",
              " 25828.359375,\n",
              " 25942.369141,\n",
              " 25324.990234,\n",
              " 25532.050781,\n",
              " 25648.019531,\n",
              " 25862.679688,\n",
              " 25764.0,\n",
              " 25679.900391,\n",
              " 25877.330078,\n",
              " 25776.609375,\n",
              " 25490.470703,\n",
              " 25585.689453,\n",
              " 25347.769531,\n",
              " 25126.410156,\n",
              " 25169.880859,\n",
              " 24815.039063,\n",
              " 24819.779297,\n",
              " 25332.179688,\n",
              " 25539.570313,\n",
              " 25720.660156,\n",
              " 25983.939453,\n",
              " 26062.679688,\n",
              " 26048.509766,\n",
              " 26004.830078,\n",
              " 26106.769531,\n",
              " 26089.609375,\n",
              " 26112.529297,\n",
              " 26465.539063,\n",
              " 26504.0,\n",
              " 26753.169922,\n",
              " 26719.130859,\n",
              " 26727.539063,\n",
              " 26548.220703,\n",
              " 26536.820313,\n",
              " 26526.580078,\n",
              " 26599.960938,\n",
              " 26717.429688,\n",
              " 26786.679688,\n",
              " 26966.0,\n",
              " 26922.119141000003,\n",
              " 26806.140625,\n",
              " 26783.490234,\n",
              " 26860.199219,\n",
              " 27088.080077999995,\n",
              " 27332.029297000005,\n",
              " 27359.160156,\n",
              " 27335.630858999997,\n",
              " 27219.849608999997,\n",
              " 27222.970702999995,\n",
              " 27154.199219,\n",
              " 27171.900391000003,\n",
              " 27349.189452999995,\n",
              " 27269.970702999995,\n",
              " 27140.980469,\n",
              " 27192.449219,\n",
              " 27221.349608999997,\n",
              " 27198.019531,\n",
              " 26864.269531,\n",
              " 26583.419922,\n",
              " 26485.009766,\n",
              " 25717.740234,\n",
              " 26029.519531,\n",
              " 26007.070313,\n",
              " 26378.189453,\n",
              " 26287.439453,\n",
              " 25896.439453,\n",
              " 26279.910156,\n",
              " 25479.419922,\n",
              " 25579.390625,\n",
              " 25886.009766,\n",
              " 26135.789063,\n",
              " 25962.439453,\n",
              " 26202.730469,\n",
              " 26252.240234,\n",
              " 25628.900391,\n",
              " 25898.830078,\n",
              " 25777.900391,\n",
              " 26036.099609,\n",
              " 26362.25,\n",
              " 26403.279297,\n",
              " 26118.019531,\n",
              " 26355.470703,\n",
              " 26728.150391,\n",
              " 26797.460938,\n",
              " 26835.509766,\n",
              " 26909.429688,\n",
              " 27137.039063,\n",
              " 27182.449219,\n",
              " 27219.519531,\n",
              " 27076.820313,\n",
              " 27110.800781,\n",
              " 27147.080077999995,\n",
              " 27094.789063,\n",
              " 26935.070313,\n",
              " 26949.990233999997,\n",
              " 26807.769531,\n",
              " 26970.710938,\n",
              " 26891.119141000003,\n",
              " 26820.25,\n",
              " 26916.830077999995,\n",
              " 26573.039063,\n",
              " 26078.619141,\n",
              " 26201.039063,\n",
              " 26573.720703,\n",
              " 26478.019531,\n",
              " 26164.039063,\n",
              " 26346.009766,\n",
              " 26496.669922,\n",
              " 26816.589844,\n",
              " 26787.359375,\n",
              " 27024.800781,\n",
              " 27001.980469,\n",
              " 27025.880858999997,\n",
              " 26770.199219,\n",
              " 26827.640625,\n",
              " 26788.099609,\n",
              " 26833.949219,\n",
              " 26805.529297,\n",
              " 26958.060547000005,\n",
              " 27090.720702999995,\n",
              " 27071.460938,\n",
              " 27186.689452999995,\n",
              " 27046.230469,\n",
              " 27347.359375,\n",
              " 27462.109375,\n",
              " 27492.630858999997,\n",
              " 27492.560547000005,\n",
              " 27674.800781,\n",
              " 27681.240233999997,\n",
              " 27691.490233999997,\n",
              " 27691.490233999997,\n",
              " 27783.589844,\n",
              " 27781.960938,\n",
              " 28004.890625,\n",
              " 28036.220702999995,\n",
              " 27934.019531,\n",
              " 27821.089844,\n",
              " 27766.289063,\n",
              " 27875.619141000003,\n",
              " 28066.470702999995,\n",
              " 28121.679688,\n",
              " 28164.0,\n",
              " 28051.410156,\n",
              " 27783.039063,\n",
              " 27502.810547000005,\n",
              " 27649.779297000005,\n",
              " 27677.789063,\n",
              " 28015.060547000005,\n",
              " 27909.599608999997,\n",
              " 27881.720702999995,\n",
              " 27911.300781,\n",
              " 28132.050781,\n",
              " 28135.380858999997,\n",
              " 28235.890625,\n",
              " 28267.160156,\n",
              " 28239.279297000005,\n",
              " 28376.960938,\n",
              " 28455.089844,\n",
              " 28551.529297000005,\n",
              " 28515.449219,\n",
              " 28621.390625,\n",
              " 28645.259766000003,\n",
              " 28462.140625]"
            ]
          },
          "metadata": {
            "tags": []
          },
          "execution_count": 205
        }
      ]
    },
    {
      "cell_type": "code",
      "metadata": {
        "id": "jS3pWNKqRatq",
        "colab_type": "code",
        "outputId": "c1222480-8330-4fce-c119-036afc5878fd",
        "colab": {
          "base_uri": "https://localhost:8080/",
          "height": 34
        }
      },
      "source": [
        "np.mean(keras.losses.mean_squared_error(X_test[:,-1]*(1+model_mlp_pct_big.predict(X_test_pct)), y_test))"
      ],
      "execution_count": 0,
      "outputs": [
        {
          "output_type": "execute_result",
          "data": {
            "text/plain": [
              "53148.95"
            ]
          },
          "metadata": {
            "tags": []
          },
          "execution_count": 25
        }
      ]
    },
    {
      "cell_type": "markdown",
      "metadata": {
        "id": "PnE2wJ-gRats",
        "colab_type": "text"
      },
      "source": [
        "### MLP not big на процентах увеличения цены"
      ]
    },
    {
      "cell_type": "code",
      "metadata": {
        "id": "nXm4CdWQRatt",
        "colab_type": "code",
        "outputId": "3ad6796d-86a1-47fe-b1e9-83acc1808fb0",
        "colab": {
          "base_uri": "https://localhost:8080/",
          "height": 874
        }
      },
      "source": [
        "model_mlp_pct_sm = create_mlp()\n",
        "history_mlp_pct_sm = model_mlp_pct_sm.fit(X_train_pct, y_train_pct, \n",
        "          epochs = 25, \n",
        "          batch_size = 128, \n",
        "          verbose=1, \n",
        "          validation_data=(X_test_pct,y_test_pct),\n",
        "          shuffle=False,\n",
        "          callbacks=[reduce_lr])"
      ],
      "execution_count": 0,
      "outputs": [
        {
          "output_type": "stream",
          "text": [
            "Train on 2129 samples, validate on 375 samples\n",
            "Epoch 1/25\n",
            "2129/2129 [==============================] - 0s 155us/step - loss: 3.9704 - mse: 0.3928 - val_loss: 0.8105 - val_mse: 0.0021\n",
            "Epoch 2/25\n",
            "2129/2129 [==============================] - 0s 16us/step - loss: 2.9031 - mse: 0.1320 - val_loss: 1.0166 - val_mse: 0.0094\n",
            "Epoch 3/25\n",
            "2129/2129 [==============================] - 0s 16us/step - loss: 2.2653 - mse: 0.0717 - val_loss: 0.8956 - val_mse: 0.0177\n",
            "Epoch 4/25\n",
            "2129/2129 [==============================] - 0s 16us/step - loss: 1.8203 - mse: 0.0560 - val_loss: 0.7403 - val_mse: 0.0230\n",
            "Epoch 5/25\n",
            "2129/2129 [==============================] - 0s 16us/step - loss: 1.4824 - mse: 0.0475 - val_loss: 0.6085 - val_mse: 0.0253\n",
            "Epoch 6/25\n",
            "2129/2129 [==============================] - 0s 16us/step - loss: 1.2204 - mse: 0.0411 - val_loss: 0.4952 - val_mse: 0.0268\n",
            "Epoch 7/25\n",
            "2129/2129 [==============================] - 0s 16us/step - loss: 1.0165 - mse: 0.0348 - val_loss: 0.4078 - val_mse: 0.0278\n",
            "Epoch 8/25\n",
            "2129/2129 [==============================] - 0s 15us/step - loss: 0.8578 - mse: 0.0285 - val_loss: 0.3319 - val_mse: 0.0281\n",
            "Epoch 9/25\n",
            "2129/2129 [==============================] - 0s 17us/step - loss: 0.7334 - mse: 0.0232 - val_loss: 0.2726 - val_mse: 0.0270\n",
            "Epoch 10/25\n",
            "2129/2129 [==============================] - 0s 16us/step - loss: 0.6345 - mse: 0.0188 - val_loss: 0.2288 - val_mse: 0.0237\n",
            "Epoch 11/25\n",
            "2129/2129 [==============================] - 0s 16us/step - loss: 0.5546 - mse: 0.0155 - val_loss: 0.1983 - val_mse: 0.0195\n",
            "Epoch 12/25\n",
            "2129/2129 [==============================] - 0s 16us/step - loss: 0.4882 - mse: 0.0128 - val_loss: 0.1807 - val_mse: 0.0152\n",
            "Epoch 13/25\n",
            "2129/2129 [==============================] - 0s 18us/step - loss: 0.4316 - mse: 0.0105 - val_loss: 0.1728 - val_mse: 0.0113\n",
            "Epoch 14/25\n",
            "2129/2129 [==============================] - 0s 16us/step - loss: 0.3822 - mse: 0.0087 - val_loss: 0.1586 - val_mse: 0.0080\n",
            "Epoch 15/25\n",
            "2129/2129 [==============================] - 0s 16us/step - loss: 0.3386 - mse: 0.0071 - val_loss: 0.1430 - val_mse: 0.0057\n",
            "Epoch 16/25\n",
            "2129/2129 [==============================] - 0s 16us/step - loss: 0.3000 - mse: 0.0058 - val_loss: 0.1317 - val_mse: 0.0038\n",
            "Epoch 17/25\n",
            "2129/2129 [==============================] - 0s 16us/step - loss: 0.2665 - mse: 0.0047 - val_loss: 0.1231 - val_mse: 0.0026\n",
            "Epoch 18/25\n",
            "2129/2129 [==============================] - 0s 16us/step - loss: 0.2380 - mse: 0.0038 - val_loss: 0.1182 - val_mse: 0.0019\n",
            "Epoch 19/25\n",
            "2129/2129 [==============================] - 0s 16us/step - loss: 0.2142 - mse: 0.0031 - val_loss: 0.1149 - val_mse: 0.0012\n",
            "Epoch 20/25\n",
            "2129/2129 [==============================] - 0s 16us/step - loss: 0.1934 - mse: 0.0025 - val_loss: 0.1135 - val_mse: 9.0979e-04\n",
            "Epoch 21/25\n",
            "2129/2129 [==============================] - 0s 19us/step - loss: 0.1765 - mse: 0.0020 - val_loss: 0.1133 - val_mse: 7.7208e-04\n",
            "Epoch 22/25\n",
            "2129/2129 [==============================] - 0s 17us/step - loss: 0.1631 - mse: 0.0016 - val_loss: 0.1120 - val_mse: 5.2313e-04\n",
            "Epoch 23/25\n",
            "2129/2129 [==============================] - 0s 17us/step - loss: 0.1513 - mse: 0.0012 - val_loss: 0.1054 - val_mse: 2.3753e-04\n",
            "Epoch 24/25\n",
            "2129/2129 [==============================] - 0s 18us/step - loss: 0.1408 - mse: 9.6276e-04 - val_loss: 0.1065 - val_mse: 2.8760e-04\n",
            "Epoch 25/25\n",
            "2129/2129 [==============================] - 0s 17us/step - loss: 0.1312 - mse: 7.6993e-04 - val_loss: 0.1054 - val_mse: 1.7470e-04\n"
          ],
          "name": "stdout"
        }
      ]
    },
    {
      "cell_type": "code",
      "metadata": {
        "id": "rfhKwyXsRatv",
        "colab_type": "code",
        "outputId": "0e0addf0-b359-42a5-a7d7-2520c145b850",
        "colab": {
          "base_uri": "https://localhost:8080/",
          "height": 391
        }
      },
      "source": [
        "fig, ax = plt.subplots(1, figsize=(8, 6))\n",
        "ax.plot(history_mlp_pct_sm.history['loss'], color=\"red\", label=\"Train loss\")\n",
        "ax.plot(history_mlp_pct_sm.history['val_loss'], color=\"green\", label=\"Val loss\")\n",
        "ax.legend()"
      ],
      "execution_count": 0,
      "outputs": [
        {
          "output_type": "execute_result",
          "data": {
            "text/plain": [
              "<matplotlib.legend.Legend at 0x7f8116f1aa58>"
            ]
          },
          "metadata": {
            "tags": []
          },
          "execution_count": 28
        },
        {
          "output_type": "display_data",
          "data": {
            "image/png": "[encoded data removed]",
            "text/plain": [
              "<Figure size 576x432 with 1 Axes>"
            ]
          },
          "metadata": {
            "tags": [],
            "needs_background": "light"
          }
        }
      ]
    },
    {
      "cell_type": "code",
      "metadata": {
        "id": "fXcBbgbkRatw",
        "colab_type": "code",
        "outputId": "fd495e9a-d30d-43e6-8b17-bf617ed7b34d",
        "colab": {
          "base_uri": "https://localhost:8080/",
          "height": 34
        }
      },
      "source": [
        "np.mean(keras.losses.mean_squared_error(X_train[:,-1]*(1+model_mlp_pct_sm.predict(X_train_pct)), y_train))"
      ],
      "execution_count": 0,
      "outputs": [
        {
          "output_type": "execute_result",
          "data": {
            "text/plain": [
              "43593.438"
            ]
          },
          "metadata": {
            "tags": []
          },
          "execution_count": 29
        }
      ]
    },
    {
      "cell_type": "markdown",
      "metadata": {
        "id": "P6cZmCzwRatz",
        "colab_type": "text"
      },
      "source": [
        "# CNN"
      ]
    },
    {
      "cell_type": "code",
      "metadata": {
        "id": "X4qpw89nRat0",
        "colab_type": "code",
        "colab": {}
      },
      "source": [
        "def create_cnn(isbig=False):\n",
        "    model_cnn = keras.models.Sequential()\n",
        "    if isbig:\n",
        "        model_cnn.add(keras.layers.Conv1D(64,3,activation='relu'))\n",
        "        model_cnn.add(keras.layers.AveragePooling1D(2,1))\n",
        "        model_cnn.add(keras.layers.Dropout(0.2))\n",
        "        model_cnn.add(keras.layers.Conv1D(128,2,activation='relu'))\n",
        "        model_cnn.add(keras.layers.AveragePooling1D(2,1))\n",
        "        model_cnn.add(keras.layers.Dropout(0.2))\n",
        "    \n",
        "    else:\n",
        "        model_cnn.add(keras.layers.Conv1D(4,3,activation='relu'))\n",
        "        model_cnn.add(keras.layers.AveragePooling1D(2,1))\n",
        "        model_cnn.add(keras.layers.Dropout(0.2))\n",
        "        model_cnn.add(keras.layers.Conv1D(16,2,activation='relu'))\n",
        "        model_cnn.add(keras.layers.AveragePooling1D(2,1))\n",
        "        model_cnn.add(keras.layers.Dropout(0.2))\n",
        "    \n",
        "    model_cnn.add(keras.layers.Flatten())\n",
        "    model_cnn.add(keras.layers.Dense(1))\n",
        "    model_cnn.add(keras.layers.Activation('linear'))\n",
        "    \n",
        "    opt = keras.optimizers.Adam(learning_rate = 0.001)\n",
        "    model_cnn.compile(optimizer=opt, \n",
        "              loss='mse',\n",
        "              metrics=['mse'])\n",
        "    \n",
        "    return model_cnn"
      ],
      "execution_count": 0,
      "outputs": []
    },
    {
      "cell_type": "code",
      "metadata": {
        "id": "MefeaboPRat1",
        "colab_type": "code",
        "colab": {}
      },
      "source": [
        "reduce_lr = keras.callbacks.ReduceLROnPlateau(monitor='val_loss', factor=0.9, patience=5, min_lr=0.0001, verbose=1)"
      ],
      "execution_count": 0,
      "outputs": []
    },
    {
      "cell_type": "code",
      "metadata": {
        "id": "5xt8IpNMRat4",
        "colab_type": "code",
        "outputId": "ebff2474-714d-460b-87b7-15bcb0b2c663",
        "colab": {
          "base_uri": "https://localhost:8080/",
          "height": 222
        }
      },
      "source": [
        "model_cnn_big = create_cnn(isbig=True)\n",
        "history_cnn_big = model_cnn_big.fit(np.expand_dims(X_train,2),y_train, \n",
        "    batch_size=128,\n",
        "    epochs = 5, \n",
        "    verbose=1,\n",
        "    validation_data=(np.expand_dims(X_test,2),y_test),\n",
        "    shuffle=False,\n",
        "    callbacks=[reduce_lr])"
      ],
      "execution_count": 0,
      "outputs": [
        {
          "output_type": "stream",
          "text": [
            "Train on 2130 samples, validate on 375 samples\n",
            "Epoch 1/5\n",
            "2130/2130 [==============================] - 0s 170us/step - loss: 46525135.9803 - mse: 46525140.0000 - val_loss: 713037.0923 - val_mse: 713037.1250\n",
            "Epoch 2/5\n",
            "2130/2130 [==============================] - 0s 85us/step - loss: 9777256.5718 - mse: 9777256.0000 - val_loss: 2168373.0807 - val_mse: 2168373.0000\n",
            "Epoch 3/5\n",
            "2130/2130 [==============================] - 0s 78us/step - loss: 5442491.6066 - mse: 5442491.5000 - val_loss: 6130455.3600 - val_mse: 6130455.0000\n",
            "Epoch 4/5\n",
            "2130/2130 [==============================] - 0s 81us/step - loss: 3055934.7676 - mse: 3055935.0000 - val_loss: 295183.3600 - val_mse: 295183.3750\n",
            "Epoch 5/5\n",
            "2130/2130 [==============================] - 0s 90us/step - loss: 2596341.9371 - mse: 2596342.0000 - val_loss: 425627.4433 - val_mse: 425627.4375\n"
          ],
          "name": "stdout"
        }
      ]
    },
    {
      "cell_type": "code",
      "metadata": {
        "id": "I8rE6O6KRat5",
        "colab_type": "code",
        "outputId": "258831ac-7694-4770-da89-26090d4b3b6b",
        "colab": {
          "base_uri": "https://localhost:8080/",
          "height": 403
        }
      },
      "source": [
        "model_cnn_pct_big = create_cnn(isbig=True)\n",
        "history_cnn_pct_big = model_cnn_pct_big.fit(np.expand_dims(X_train_pct,2),y_train_pct, batch_size=128,\n",
        "    epochs = 10, \n",
        "    verbose=1,\n",
        "    validation_data=(np.expand_dims(X_test_pct,2),y_test_pct),\n",
        "    shuffle=True,\n",
        "    callbacks=[reduce_lr])"
      ],
      "execution_count": 0,
      "outputs": [
        {
          "output_type": "stream",
          "text": [
            "Train on 2129 samples, validate on 375 samples\n",
            "Epoch 1/10\n",
            "2129/2129 [==============================] - 0s 150us/step - loss: 8.0474e-05 - mse: 8.0474e-05 - val_loss: 8.4345e-05 - val_mse: 8.4345e-05\n",
            "Epoch 2/10\n",
            "2129/2129 [==============================] - 0s 78us/step - loss: 7.8524e-05 - mse: 7.8524e-05 - val_loss: 8.4055e-05 - val_mse: 8.4055e-05\n",
            "Epoch 3/10\n",
            "2129/2129 [==============================] - 0s 78us/step - loss: 7.7879e-05 - mse: 7.7879e-05 - val_loss: 8.3738e-05 - val_mse: 8.3738e-05\n",
            "Epoch 4/10\n",
            "2129/2129 [==============================] - 0s 78us/step - loss: 7.7931e-05 - mse: 7.7931e-05 - val_loss: 8.3574e-05 - val_mse: 8.3574e-05\n",
            "Epoch 5/10\n",
            "2129/2129 [==============================] - 0s 80us/step - loss: 7.8915e-05 - mse: 7.8915e-05 - val_loss: 8.3669e-05 - val_mse: 8.3669e-05\n",
            "Epoch 6/10\n",
            "2129/2129 [==============================] - 0s 81us/step - loss: 7.8039e-05 - mse: 7.8039e-05 - val_loss: 8.3607e-05 - val_mse: 8.3607e-05\n",
            "\n",
            "Epoch 00006: ReduceLROnPlateau reducing learning rate to 0.0009000000427477062.\n",
            "Epoch 7/10\n",
            "2129/2129 [==============================] - 0s 76us/step - loss: 7.7761e-05 - mse: 7.7761e-05 - val_loss: 8.3759e-05 - val_mse: 8.3759e-05\n",
            "Epoch 8/10\n",
            "2129/2129 [==============================] - 0s 80us/step - loss: 7.7580e-05 - mse: 7.7580e-05 - val_loss: 8.3435e-05 - val_mse: 8.3435e-05\n",
            "Epoch 9/10\n",
            "2129/2129 [==============================] - 0s 76us/step - loss: 7.7792e-05 - mse: 7.7792e-05 - val_loss: 8.3572e-05 - val_mse: 8.3572e-05\n",
            "Epoch 10/10\n",
            "2129/2129 [==============================] - 0s 88us/step - loss: 7.7822e-05 - mse: 7.7822e-05 - val_loss: 8.3542e-05 - val_mse: 8.3542e-05\n"
          ],
          "name": "stdout"
        }
      ]
    },
    {
      "cell_type": "code",
      "metadata": {
        "id": "HuddZWNlRat8",
        "colab_type": "code",
        "outputId": "d53ca538-f3e7-444e-a40c-f499221dd000",
        "colab": {
          "base_uri": "https://localhost:8080/",
          "height": 1000
        }
      },
      "source": [
        "model_cnn_pct = create_cnn()\n",
        "history_cnn_pct = model_cnn_pct.fit(np.expand_dims(X_train_pct,2),y_train_pct, batch_size=128,\n",
        "    epochs = 25, \n",
        "    verbose=1,\n",
        "    validation_data=(np.expand_dims(X_test_pct,2),y_test_pct),\n",
        "    shuffle=True,\n",
        "    callbacks=[reduce_lr])"
      ],
      "execution_count": 0,
      "outputs": [
        {
          "output_type": "stream",
          "text": [
            "Train on 2129 samples, validate on 375 samples\n",
            "Epoch 1/25\n",
            "2129/2129 [==============================] - 0s 98us/step - loss: 7.9266e-05 - mse: 7.9266e-05 - val_loss: 8.3854e-05 - val_mse: 8.3854e-05\n",
            "Epoch 2/25\n",
            "2129/2129 [==============================] - 0s 27us/step - loss: 7.8120e-05 - mse: 7.8120e-05 - val_loss: 8.4159e-05 - val_mse: 8.4159e-05\n",
            "Epoch 3/25\n",
            "2129/2129 [==============================] - 0s 32us/step - loss: 7.7837e-05 - mse: 7.7837e-05 - val_loss: 8.3660e-05 - val_mse: 8.3660e-05\n",
            "Epoch 4/25\n",
            "2129/2129 [==============================] - 0s 26us/step - loss: 7.7721e-05 - mse: 7.7721e-05 - val_loss: 8.3623e-05 - val_mse: 8.3623e-05\n",
            "Epoch 5/25\n",
            "2129/2129 [==============================] - 0s 27us/step - loss: 7.7275e-05 - mse: 7.7275e-05 - val_loss: 8.3567e-05 - val_mse: 8.3567e-05\n",
            "Epoch 6/25\n",
            "2129/2129 [==============================] - 0s 27us/step - loss: 7.7617e-05 - mse: 7.7617e-05 - val_loss: 8.3466e-05 - val_mse: 8.3466e-05\n",
            "\n",
            "Epoch 00006: ReduceLROnPlateau reducing learning rate to 0.0009000000427477062.\n",
            "Epoch 7/25\n",
            "2129/2129 [==============================] - 0s 28us/step - loss: 7.7387e-05 - mse: 7.7387e-05 - val_loss: 8.5660e-05 - val_mse: 8.5660e-05\n",
            "Epoch 8/25\n",
            "2129/2129 [==============================] - 0s 26us/step - loss: 7.8658e-05 - mse: 7.8658e-05 - val_loss: 8.3821e-05 - val_mse: 8.3821e-05\n",
            "Epoch 9/25\n",
            "2129/2129 [==============================] - 0s 27us/step - loss: 7.8159e-05 - mse: 7.8159e-05 - val_loss: 8.3634e-05 - val_mse: 8.3634e-05\n",
            "Epoch 10/25\n",
            "2129/2129 [==============================] - 0s 26us/step - loss: 7.7930e-05 - mse: 7.7930e-05 - val_loss: 8.3530e-05 - val_mse: 8.3530e-05\n",
            "Epoch 11/25\n",
            "2129/2129 [==============================] - 0s 27us/step - loss: 7.7239e-05 - mse: 7.7239e-05 - val_loss: 8.3699e-05 - val_mse: 8.3699e-05\n",
            "\n",
            "Epoch 00011: ReduceLROnPlateau reducing learning rate to 0.0008100000384729356.\n",
            "Epoch 12/25\n",
            "2129/2129 [==============================] - 0s 26us/step - loss: 7.7575e-05 - mse: 7.7575e-05 - val_loss: 8.3631e-05 - val_mse: 8.3631e-05\n",
            "Epoch 13/25\n",
            "2129/2129 [==============================] - 0s 28us/step - loss: 7.7641e-05 - mse: 7.7641e-05 - val_loss: 8.3631e-05 - val_mse: 8.3631e-05\n",
            "Epoch 14/25\n",
            "2129/2129 [==============================] - 0s 27us/step - loss: 7.7787e-05 - mse: 7.7787e-05 - val_loss: 8.3878e-05 - val_mse: 8.3878e-05\n",
            "Epoch 15/25\n",
            "2129/2129 [==============================] - 0s 30us/step - loss: 7.7123e-05 - mse: 7.7123e-05 - val_loss: 8.3616e-05 - val_mse: 8.3616e-05\n",
            "Epoch 16/25\n",
            "2129/2129 [==============================] - 0s 26us/step - loss: 7.7859e-05 - mse: 7.7859e-05 - val_loss: 8.3603e-05 - val_mse: 8.3603e-05\n",
            "\n",
            "Epoch 00016: ReduceLROnPlateau reducing learning rate to 0.0007290000503417104.\n",
            "Epoch 17/25\n",
            "2129/2129 [==============================] - 0s 27us/step - loss: 7.7031e-05 - mse: 7.7031e-05 - val_loss: 8.4288e-05 - val_mse: 8.4288e-05\n",
            "Epoch 18/25\n",
            "2129/2129 [==============================] - 0s 27us/step - loss: 7.7972e-05 - mse: 7.7972e-05 - val_loss: 8.3644e-05 - val_mse: 8.3644e-05\n",
            "Epoch 19/25\n",
            "2129/2129 [==============================] - 0s 26us/step - loss: 7.7449e-05 - mse: 7.7449e-05 - val_loss: 8.3684e-05 - val_mse: 8.3684e-05\n",
            "Epoch 20/25\n",
            "2129/2129 [==============================] - 0s 26us/step - loss: 7.7152e-05 - mse: 7.7152e-05 - val_loss: 8.3964e-05 - val_mse: 8.3964e-05\n",
            "Epoch 21/25\n",
            "2129/2129 [==============================] - 0s 27us/step - loss: 7.7558e-05 - mse: 7.7558e-05 - val_loss: 8.3841e-05 - val_mse: 8.3841e-05\n",
            "\n",
            "Epoch 00021: ReduceLROnPlateau reducing learning rate to 0.0006561000715009868.\n",
            "Epoch 22/25\n",
            "2129/2129 [==============================] - 0s 26us/step - loss: 7.6936e-05 - mse: 7.6936e-05 - val_loss: 8.3602e-05 - val_mse: 8.3602e-05\n",
            "Epoch 23/25\n",
            "2129/2129 [==============================] - 0s 30us/step - loss: 7.7677e-05 - mse: 7.7677e-05 - val_loss: 8.3775e-05 - val_mse: 8.3775e-05\n",
            "Epoch 24/25\n",
            "2129/2129 [==============================] - 0s 27us/step - loss: 7.7016e-05 - mse: 7.7016e-05 - val_loss: 8.4380e-05 - val_mse: 8.4380e-05\n",
            "Epoch 25/25\n",
            "2129/2129 [==============================] - 0s 26us/step - loss: 7.7422e-05 - mse: 7.7422e-05 - val_loss: 8.3907e-05 - val_mse: 8.3907e-05\n"
          ],
          "name": "stdout"
        }
      ]
    },
    {
      "cell_type": "code",
      "metadata": {
        "id": "HvxYJVZqRat-",
        "colab_type": "code",
        "outputId": "b9dbb8a9-bbfc-473e-9acc-a205324a1041",
        "colab": {
          "base_uri": "https://localhost:8080/",
          "height": 395
        }
      },
      "source": [
        "fig, ax = plt.subplots(1, figsize=(8, 6))\n",
        "ax.plot((X_test[:,-1]*(np.hstack(1+model_cnn_pct.predict(np.expand_dims(X_test_pct,2))))), color=\"red\", label=\"Predicted price\")\n",
        "ax.plot(close_price[-375:], color=\"green\", label=\"Real price\")\n",
        "ax.legend()"
      ],
      "execution_count": 0,
      "outputs": [
        {
          "output_type": "execute_result",
          "data": {
            "text/plain": [
              "<matplotlib.legend.Legend at 0x7f81166e1f98>"
            ]
          },
          "metadata": {
            "tags": []
          },
          "execution_count": 36
        },
        {
          "output_type": "display_data",
          "data": {
            "image/png": "[encoded data removed]",
            "text/plain": [
              "<Figure size 576x432 with 1 Axes>"
            ]
          },
          "metadata": {
            "tags": [],
            "needs_background": "light"
          }
        }
      ]
    },
    {
      "cell_type": "code",
      "metadata": {
        "id": "xIdX7qAzRauA",
        "colab_type": "code",
        "outputId": "55f2cb6f-b8c9-4e76-c000-880d0d7e457a",
        "colab": {
          "base_uri": "https://localhost:8080/",
          "height": 402
        }
      },
      "source": [
        "fig, ax = plt.subplots(1, figsize=(8, 6))\n",
        "ax.plot(history_cnn_pct.history['loss'], color=\"red\", label=\"Train loss\")\n",
        "ax.plot(history_cnn_pct.history['val_loss'], color=\"green\", label=\"Val loss\")\n",
        "ax.legend()"
      ],
      "execution_count": 0,
      "outputs": [
        {
          "output_type": "execute_result",
          "data": {
            "text/plain": [
              "<matplotlib.legend.Legend at 0x7f811416fc18>"
            ]
          },
          "metadata": {
            "tags": []
          },
          "execution_count": 46
        },
        {
          "output_type": "display_data",
          "data": {
            "image/png": "[encoded data removed]",
            "text/plain": [
              "<Figure size 576x432 with 1 Axes>"
            ]
          },
          "metadata": {
            "tags": [],
            "needs_background": "light"
          }
        }
      ]
    },
    {
      "cell_type": "code",
      "metadata": {
        "id": "Rd2z0cnKRauD",
        "colab_type": "code",
        "outputId": "25615883-26e3-496b-a4d9-a5415fc586c7",
        "colab": {
          "base_uri": "https://localhost:8080/",
          "height": 34
        }
      },
      "source": [
        "np.mean(keras.losses.mean_squared_error(X_train[:,-1]*(1+model_cnn_pct.predict(np.expand_dims(X_train_pct,2))), y_train))"
      ],
      "execution_count": 0,
      "outputs": [
        {
          "output_type": "execute_result",
          "data": {
            "text/plain": [
              "19015.084"
            ]
          },
          "metadata": {
            "tags": []
          },
          "execution_count": 38
        }
      ]
    },
    {
      "cell_type": "markdown",
      "metadata": {
        "id": "uCPxLlGkRauE",
        "colab_type": "text"
      },
      "source": [
        "# LSTM"
      ]
    },
    {
      "cell_type": "code",
      "metadata": {
        "id": "zTIfIa72RauF",
        "colab_type": "code",
        "colab": {}
      },
      "source": [
        "batch_size=5"
      ],
      "execution_count": 0,
      "outputs": []
    },
    {
      "cell_type": "code",
      "metadata": {
        "id": "TnrBXn-eRauH",
        "colab_type": "code",
        "colab": {}
      },
      "source": [
        "lstm_model = keras.models.Sequential()\n",
        "lstm_model.add(keras.layers.LSTM(200, batch_input_shape=(batch_size, 10,1), recurrent_dropout=0.0, stateful=True, kernel_initializer='random_uniform'))\n",
        "lstm_model.add(keras.layers.Dropout(0.5))\n",
        "lstm_model.add(keras.layers.Dense(30,activation='relu'))\n",
        "lstm_model.add(keras.layers.Dense(1,activation='linear'))"
      ],
      "execution_count": 0,
      "outputs": []
    },
    {
      "cell_type": "code",
      "metadata": {
        "id": "Y_f78Gp3RauJ",
        "colab_type": "code",
        "colab": {}
      },
      "source": [
        "optimizer = keras.optimizers.Adam(lr=0.001)\n",
        "reduce_lr = keras.callbacks.ReduceLROnPlateau(monitor='val_loss', factor=0.9, patience=5, min_lr=0.000001, verbose=1)\n",
        "lstm_model.compile(loss='mse', metrics=['mse'], optimizer=optimizer)"
      ],
      "execution_count": 0,
      "outputs": []
    },
    {
      "cell_type": "code",
      "metadata": {
        "id": "f40yn3-1RauL",
        "colab_type": "code",
        "outputId": "64cd5e08-9856-4143-d7b4-eea3eec24035",
        "colab": {
          "base_uri": "https://localhost:8080/",
          "height": 1000
        }
      },
      "source": [
        "history_lstm = lstm_model.fit(np.expand_dims(X_train_pct[:-4],2),y_train_pct[:-4], batch_size = batch_size,\n",
        "    epochs = 50, \n",
        "    verbose=1,\n",
        "    validation_data=(np.expand_dims(X_test_pct,2),y_test_pct),\n",
        "    shuffle=True,\n",
        "    callbacks=[reduce_lr])"
      ],
      "execution_count": 0,
      "outputs": [
        {
          "output_type": "stream",
          "text": [
            "Train on 2125 samples, validate on 375 samples\n",
            "Epoch 1/50\n",
            "2125/2125 [==============================] - 7s 3ms/step - loss: 8.7106e-05 - mse: 8.7106e-05 - val_loss: 8.4863e-05 - val_mse: 8.4863e-05\n",
            "Epoch 2/50\n",
            "2125/2125 [==============================] - 7s 3ms/step - loss: 8.1492e-05 - mse: 8.1492e-05 - val_loss: 8.6008e-05 - val_mse: 8.6008e-05\n",
            "Epoch 3/50\n",
            "2125/2125 [==============================] - 7s 3ms/step - loss: 7.9863e-05 - mse: 7.9864e-05 - val_loss: 8.6743e-05 - val_mse: 8.6743e-05\n",
            "Epoch 4/50\n",
            "2125/2125 [==============================] - 7s 3ms/step - loss: 7.9674e-05 - mse: 7.9674e-05 - val_loss: 8.4485e-05 - val_mse: 8.4485e-05\n",
            "Epoch 5/50\n",
            "2125/2125 [==============================] - 7s 3ms/step - loss: 8.1540e-05 - mse: 8.1540e-05 - val_loss: 8.4527e-05 - val_mse: 8.4527e-05\n",
            "Epoch 6/50\n",
            "2125/2125 [==============================] - 7s 3ms/step - loss: 7.9828e-05 - mse: 7.9828e-05 - val_loss: 8.3832e-05 - val_mse: 8.3832e-05\n",
            "\n",
            "Epoch 00006: ReduceLROnPlateau reducing learning rate to 0.0009000000427477062.\n",
            "Epoch 7/50\n",
            "2125/2125 [==============================] - 7s 3ms/step - loss: 8.0397e-05 - mse: 8.0397e-05 - val_loss: 8.5323e-05 - val_mse: 8.5323e-05\n",
            "Epoch 8/50\n",
            "2125/2125 [==============================] - 7s 3ms/step - loss: 8.3194e-05 - mse: 8.3194e-05 - val_loss: 8.8551e-05 - val_mse: 8.8551e-05\n",
            "Epoch 9/50\n",
            "2125/2125 [==============================] - 7s 3ms/step - loss: 7.9405e-05 - mse: 7.9405e-05 - val_loss: 8.8831e-05 - val_mse: 8.8831e-05\n",
            "Epoch 10/50\n",
            "2125/2125 [==============================] - 7s 3ms/step - loss: 7.9511e-05 - mse: 7.9511e-05 - val_loss: 8.3778e-05 - val_mse: 8.3778e-05\n",
            "Epoch 11/50\n",
            "2125/2125 [==============================] - 7s 3ms/step - loss: 7.9936e-05 - mse: 7.9935e-05 - val_loss: 8.3804e-05 - val_mse: 8.3804e-05\n",
            "\n",
            "Epoch 00011: ReduceLROnPlateau reducing learning rate to 0.0008100000384729356.\n",
            "Epoch 12/50\n",
            "2125/2125 [==============================] - 7s 3ms/step - loss: 7.9169e-05 - mse: 7.9169e-05 - val_loss: 8.3907e-05 - val_mse: 8.3907e-05\n",
            "Epoch 13/50\n",
            "2125/2125 [==============================] - 7s 3ms/step - loss: 7.9087e-05 - mse: 7.9087e-05 - val_loss: 8.5157e-05 - val_mse: 8.5157e-05\n",
            "Epoch 14/50\n",
            "2125/2125 [==============================] - 7s 3ms/step - loss: 7.9048e-05 - mse: 7.9048e-05 - val_loss: 8.3976e-05 - val_mse: 8.3976e-05\n",
            "Epoch 15/50\n",
            "2125/2125 [==============================] - 7s 3ms/step - loss: 7.9181e-05 - mse: 7.9181e-05 - val_loss: 8.9231e-05 - val_mse: 8.9231e-05\n",
            "Epoch 16/50\n",
            "2125/2125 [==============================] - 7s 3ms/step - loss: 7.9507e-05 - mse: 7.9507e-05 - val_loss: 8.4571e-05 - val_mse: 8.4571e-05\n",
            "\n",
            "Epoch 00016: ReduceLROnPlateau reducing learning rate to 0.0007290000503417104.\n",
            "Epoch 17/50\n",
            "2125/2125 [==============================] - 7s 3ms/step - loss: 7.8421e-05 - mse: 7.8421e-05 - val_loss: 8.4573e-05 - val_mse: 8.4573e-05\n",
            "Epoch 18/50\n",
            "2125/2125 [==============================] - 7s 3ms/step - loss: 7.9118e-05 - mse: 7.9118e-05 - val_loss: 8.7543e-05 - val_mse: 8.7543e-05\n",
            "Epoch 19/50\n",
            "2125/2125 [==============================] - 7s 3ms/step - loss: 8.0046e-05 - mse: 8.0046e-05 - val_loss: 8.3765e-05 - val_mse: 8.3765e-05\n",
            "Epoch 20/50\n",
            "2125/2125 [==============================] - 7s 3ms/step - loss: 7.9517e-05 - mse: 7.9517e-05 - val_loss: 8.5547e-05 - val_mse: 8.5547e-05\n",
            "Epoch 21/50\n",
            "2125/2125 [==============================] - 7s 3ms/step - loss: 7.9041e-05 - mse: 7.9041e-05 - val_loss: 8.3717e-05 - val_mse: 8.3717e-05\n",
            "\n",
            "Epoch 00021: ReduceLROnPlateau reducing learning rate to 0.0006561000715009868.\n",
            "Epoch 22/50\n",
            "2125/2125 [==============================] - 7s 3ms/step - loss: 7.9332e-05 - mse: 7.9332e-05 - val_loss: 8.8432e-05 - val_mse: 8.8432e-05\n",
            "Epoch 23/50\n",
            "2125/2125 [==============================] - 7s 3ms/step - loss: 7.9451e-05 - mse: 7.9451e-05 - val_loss: 8.4000e-05 - val_mse: 8.4000e-05\n",
            "Epoch 24/50\n",
            "2125/2125 [==============================] - 7s 3ms/step - loss: 7.9370e-05 - mse: 7.9370e-05 - val_loss: 8.3899e-05 - val_mse: 8.3899e-05\n",
            "Epoch 25/50\n",
            "2125/2125 [==============================] - 7s 3ms/step - loss: 7.8851e-05 - mse: 7.8851e-05 - val_loss: 8.7739e-05 - val_mse: 8.7739e-05\n",
            "Epoch 26/50\n",
            "2125/2125 [==============================] - 7s 3ms/step - loss: 7.9821e-05 - mse: 7.9821e-05 - val_loss: 8.4887e-05 - val_mse: 8.4887e-05\n",
            "\n",
            "Epoch 00026: ReduceLROnPlateau reducing learning rate to 0.0005904900433961303.\n",
            "Epoch 27/50\n",
            "2125/2125 [==============================] - 7s 3ms/step - loss: 8.1394e-05 - mse: 8.1394e-05 - val_loss: 8.3721e-05 - val_mse: 8.3721e-05\n",
            "Epoch 28/50\n",
            "2125/2125 [==============================] - 7s 3ms/step - loss: 7.8710e-05 - mse: 7.8710e-05 - val_loss: 8.3743e-05 - val_mse: 8.3743e-05\n",
            "Epoch 29/50\n",
            "2125/2125 [==============================] - 7s 3ms/step - loss: 7.9581e-05 - mse: 7.9581e-05 - val_loss: 8.3738e-05 - val_mse: 8.3738e-05\n",
            "Epoch 30/50\n",
            "2125/2125 [==============================] - 7s 3ms/step - loss: 7.8655e-05 - mse: 7.8655e-05 - val_loss: 8.5371e-05 - val_mse: 8.5371e-05\n",
            "Epoch 31/50\n",
            "2125/2125 [==============================] - 7s 3ms/step - loss: 7.9231e-05 - mse: 7.9231e-05 - val_loss: 8.4009e-05 - val_mse: 8.4009e-05\n",
            "\n",
            "Epoch 00031: ReduceLROnPlateau reducing learning rate to 0.0005314410547725857.\n",
            "Epoch 32/50\n",
            "2125/2125 [==============================] - 7s 3ms/step - loss: 7.8900e-05 - mse: 7.8900e-05 - val_loss: 8.5002e-05 - val_mse: 8.5002e-05\n",
            "Epoch 33/50\n",
            "2125/2125 [==============================] - 7s 3ms/step - loss: 7.8871e-05 - mse: 7.8871e-05 - val_loss: 8.3714e-05 - val_mse: 8.3714e-05\n",
            "Epoch 34/50\n",
            "2125/2125 [==============================] - 7s 3ms/step - loss: 7.8833e-05 - mse: 7.8833e-05 - val_loss: 8.3983e-05 - val_mse: 8.3983e-05\n",
            "Epoch 35/50\n",
            "2125/2125 [==============================] - 7s 3ms/step - loss: 7.8905e-05 - mse: 7.8905e-05 - val_loss: 8.5768e-05 - val_mse: 8.5768e-05\n",
            "Epoch 36/50\n",
            "2125/2125 [==============================] - 7s 3ms/step - loss: 7.8930e-05 - mse: 7.8930e-05 - val_loss: 8.3715e-05 - val_mse: 8.3715e-05\n",
            "\n",
            "Epoch 00036: ReduceLROnPlateau reducing learning rate to 0.00047829695977270604.\n",
            "Epoch 37/50\n",
            "2125/2125 [==============================] - 7s 3ms/step - loss: 7.9049e-05 - mse: 7.9049e-05 - val_loss: 8.3747e-05 - val_mse: 8.3747e-05\n",
            "Epoch 38/50\n",
            "2125/2125 [==============================] - 7s 3ms/step - loss: 7.8791e-05 - mse: 7.8791e-05 - val_loss: 8.4365e-05 - val_mse: 8.4365e-05\n",
            "Epoch 39/50\n",
            "2125/2125 [==============================] - 7s 3ms/step - loss: 7.8510e-05 - mse: 7.8510e-05 - val_loss: 8.3715e-05 - val_mse: 8.3715e-05\n",
            "Epoch 40/50\n",
            "2125/2125 [==============================] - 7s 3ms/step - loss: 7.9416e-05 - mse: 7.9416e-05 - val_loss: 8.3885e-05 - val_mse: 8.3885e-05\n",
            "Epoch 41/50\n",
            "2125/2125 [==============================] - 7s 3ms/step - loss: 7.8569e-05 - mse: 7.8569e-05 - val_loss: 9.0618e-05 - val_mse: 9.0618e-05\n",
            "\n",
            "Epoch 00041: ReduceLROnPlateau reducing learning rate to 0.0004304672533180565.\n",
            "Epoch 42/50\n",
            "2125/2125 [==============================] - 7s 3ms/step - loss: 7.9083e-05 - mse: 7.9083e-05 - val_loss: 8.3739e-05 - val_mse: 8.3739e-05\n",
            "Epoch 43/50\n",
            "2125/2125 [==============================] - 7s 3ms/step - loss: 7.8849e-05 - mse: 7.8849e-05 - val_loss: 8.3966e-05 - val_mse: 8.3966e-05\n",
            "Epoch 44/50\n",
            "2125/2125 [==============================] - 7s 3ms/step - loss: 7.8729e-05 - mse: 7.8729e-05 - val_loss: 8.3834e-05 - val_mse: 8.3834e-05\n",
            "Epoch 45/50\n",
            "2125/2125 [==============================] - 7s 3ms/step - loss: 7.8654e-05 - mse: 7.8654e-05 - val_loss: 8.4457e-05 - val_mse: 8.4457e-05\n",
            "Epoch 46/50\n",
            "2125/2125 [==============================] - 7s 3ms/step - loss: 7.8512e-05 - mse: 7.8512e-05 - val_loss: 8.4558e-05 - val_mse: 8.4558e-05\n",
            "\n",
            "Epoch 00046: ReduceLROnPlateau reducing learning rate to 0.00038742052274756136.\n",
            "Epoch 47/50\n",
            "2125/2125 [==============================] - 7s 3ms/step - loss: 7.8719e-05 - mse: 7.8719e-05 - val_loss: 8.3795e-05 - val_mse: 8.3795e-05\n",
            "Epoch 48/50\n",
            "2125/2125 [==============================] - 7s 3ms/step - loss: 7.8353e-05 - mse: 7.8353e-05 - val_loss: 8.3714e-05 - val_mse: 8.3714e-05\n",
            "Epoch 49/50\n",
            "2125/2125 [==============================] - 7s 3ms/step - loss: 7.8381e-05 - mse: 7.8381e-05 - val_loss: 8.3714e-05 - val_mse: 8.3714e-05\n",
            "Epoch 50/50\n",
            "2125/2125 [==============================] - 7s 3ms/step - loss: 7.8511e-05 - mse: 7.8511e-05 - val_loss: 8.3749e-05 - val_mse: 8.3749e-05\n"
          ],
          "name": "stdout"
        }
      ]
    },
    {
      "cell_type": "code",
      "metadata": {
        "id": "iS1n8Rj5RauN",
        "colab_type": "code",
        "outputId": "c514ad14-e512-43b9-c7c7-de5010e0f223",
        "colab": {
          "base_uri": "https://localhost:8080/",
          "height": 34
        }
      },
      "source": [
        "np.mean(keras.losses.mean_squared_error(X_train[:,-1]*(1+lstm_model.predict(np.expand_dims(X_train_pct[:-4],2),batch_size=5)), y_train))"
      ],
      "execution_count": 0,
      "outputs": [
        {
          "output_type": "execute_result",
          "data": {
            "text/plain": [
              "18919.139"
            ]
          },
          "metadata": {
            "tags": []
          },
          "execution_count": 43
        }
      ]
    },
    {
      "cell_type": "code",
      "metadata": {
        "id": "qU6mrx7IRauP",
        "colab_type": "code",
        "outputId": "c1401b15-d7b9-4947-c62d-4350bf3902a0",
        "colab": {
          "base_uri": "https://localhost:8080/",
          "height": 402
        }
      },
      "source": [
        "fig, ax = plt.subplots(1, figsize=(8, 6))\n",
        "ax.plot(history_lstm.history['loss'], color=\"red\", label=\"Train loss\")\n",
        "ax.plot(history_lstm.history['val_loss'], color=\"green\", label=\"Val loss\")\n",
        "ax.legend()"
      ],
      "execution_count": 0,
      "outputs": [
        {
          "output_type": "execute_result",
          "data": {
            "text/plain": [
              "<matplotlib.legend.Legend at 0x7f811439b550>"
            ]
          },
          "metadata": {
            "tags": []
          },
          "execution_count": 44
        },
        {
          "output_type": "display_data",
          "data": {
            "image/png": "[encoded data removed]",
            "text/plain": [
              "<Figure size 576x432 with 1 Axes>"
            ]
          },
          "metadata": {
            "tags": [],
            "needs_background": "light"
          }
        }
      ]
    },
    {
      "cell_type": "code",
      "metadata": {
        "id": "gibZIbN8RauS",
        "colab_type": "code",
        "outputId": "96677944-4617-4a04-8f92-b1602e9fcc9f",
        "colab": {
          "base_uri": "https://localhost:8080/"
        }
      },
      "source": [
        "fig, ax = plt.subplots(1, figsize=(20, 15))\n",
        "ax.plot((X[1:-4,-1]*(np.hstack(1+lstm_model.predict(np.expand_dims(X_pct[:-4],2),batch_size=5)))), color=\"red\", label=\"Predicted price\")\n",
        "ax.plot(close_price, color=\"green\", label=\"Real price\")\n",
        "ax.legend()"
      ],
      "execution_count": 0,
      "outputs": [
        {
          "output_type": "error",
          "ename": "NameError",
          "evalue": "ignored",
          "traceback": [
            "\u001b[0;31m---------------------------------------------------------------------------\u001b[0m",
            "\u001b[0;31mNameError\u001b[0m                                 Traceback (most recent call last)",
            "\u001b[0;32m<ipython-input-1-9c966bb6b9b5>\u001b[0m in \u001b[0;36m<module>\u001b[0;34m()\u001b[0m\n\u001b[0;32m----> 1\u001b[0;31m \u001b[0mfig\u001b[0m\u001b[0;34m,\u001b[0m \u001b[0max\u001b[0m \u001b[0;34m=\u001b[0m \u001b[0mplt\u001b[0m\u001b[0;34m.\u001b[0m\u001b[0msubplots\u001b[0m\u001b[0;34m(\u001b[0m\u001b[0;36m1\u001b[0m\u001b[0;34m,\u001b[0m \u001b[0mfigsize\u001b[0m\u001b[0;34m=\u001b[0m\u001b[0;34m(\u001b[0m\u001b[0;36m20\u001b[0m\u001b[0;34m,\u001b[0m \u001b[0;36m15\u001b[0m\u001b[0;34m)\u001b[0m\u001b[0;34m)\u001b[0m\u001b[0;34m\u001b[0m\u001b[0;34m\u001b[0m\u001b[0m\n\u001b[0m\u001b[1;32m      2\u001b[0m \u001b[0max\u001b[0m\u001b[0;34m.\u001b[0m\u001b[0mplot\u001b[0m\u001b[0;34m(\u001b[0m\u001b[0;34m(\u001b[0m\u001b[0mX\u001b[0m\u001b[0;34m[\u001b[0m\u001b[0;36m1\u001b[0m\u001b[0;34m:\u001b[0m\u001b[0;34m-\u001b[0m\u001b[0;36m4\u001b[0m\u001b[0;34m,\u001b[0m\u001b[0;34m-\u001b[0m\u001b[0;36m1\u001b[0m\u001b[0;34m]\u001b[0m\u001b[0;34m*\u001b[0m\u001b[0;34m(\u001b[0m\u001b[0mnp\u001b[0m\u001b[0;34m.\u001b[0m\u001b[0mhstack\u001b[0m\u001b[0;34m(\u001b[0m\u001b[0;36m1\u001b[0m\u001b[0;34m+\u001b[0m\u001b[0mlstm_model\u001b[0m\u001b[0;34m.\u001b[0m\u001b[0mpredict\u001b[0m\u001b[0;34m(\u001b[0m\u001b[0mnp\u001b[0m\u001b[0;34m.\u001b[0m\u001b[0mexpand_dims\u001b[0m\u001b[0;34m(\u001b[0m\u001b[0mX_pct\u001b[0m\u001b[0;34m[\u001b[0m\u001b[0;34m:\u001b[0m\u001b[0;34m-\u001b[0m\u001b[0;36m4\u001b[0m\u001b[0;34m]\u001b[0m\u001b[0;34m,\u001b[0m\u001b[0;36m2\u001b[0m\u001b[0;34m)\u001b[0m\u001b[0;34m,\u001b[0m\u001b[0mbatch_size\u001b[0m\u001b[0;34m=\u001b[0m\u001b[0;36m5\u001b[0m\u001b[0;34m)\u001b[0m\u001b[0;34m)\u001b[0m\u001b[0;34m)\u001b[0m\u001b[0;34m)\u001b[0m\u001b[0;34m,\u001b[0m \u001b[0mcolor\u001b[0m\u001b[0;34m=\u001b[0m\u001b[0;34m\"red\"\u001b[0m\u001b[0;34m,\u001b[0m \u001b[0mlabel\u001b[0m\u001b[0;34m=\u001b[0m\u001b[0;34m\"Predicted price\"\u001b[0m\u001b[0;34m)\u001b[0m\u001b[0;34m\u001b[0m\u001b[0;34m\u001b[0m\u001b[0m\n\u001b[1;32m      3\u001b[0m \u001b[0max\u001b[0m\u001b[0;34m.\u001b[0m\u001b[0mplot\u001b[0m\u001b[0;34m(\u001b[0m\u001b[0mclose_price\u001b[0m\u001b[0;34m,\u001b[0m \u001b[0mcolor\u001b[0m\u001b[0;34m=\u001b[0m\u001b[0;34m\"green\"\u001b[0m\u001b[0;34m,\u001b[0m \u001b[0mlabel\u001b[0m\u001b[0;34m=\u001b[0m\u001b[0;34m\"Real price\"\u001b[0m\u001b[0;34m)\u001b[0m\u001b[0;34m\u001b[0m\u001b[0;34m\u001b[0m\u001b[0m\n\u001b[1;32m      4\u001b[0m \u001b[0max\u001b[0m\u001b[0;34m.\u001b[0m\u001b[0mlegend\u001b[0m\u001b[0;34m(\u001b[0m\u001b[0;34m)\u001b[0m\u001b[0;34m\u001b[0m\u001b[0;34m\u001b[0m\u001b[0m\n",
            "\u001b[0;31mNameError\u001b[0m: name 'plt' is not defined"
          ]
        }
      ]
    },
    {
      "cell_type": "code",
      "metadata": {
        "id": "IfY6DSEhRauU",
        "colab_type": "code",
        "colab": {}
      },
      "source": [
        ""
      ],
      "execution_count": 0,
      "outputs": []
    }
  ]
}