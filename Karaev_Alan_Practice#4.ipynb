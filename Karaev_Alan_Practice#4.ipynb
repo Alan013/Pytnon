{
  "nbformat": 4,
  "nbformat_minor": 0,
  "metadata": {
    "kernelspec": {
      "name": "python3",
      "display_name": "Python 3"
    },
    "language_info": {
      "codemirror_mode": {
        "name": "ipython",
        "version": 3
      },
      "file_extension": ".py",
      "mimetype": "text/x-python",
      "name": "python",
      "nbconvert_exporter": "python",
      "pygments_lexer": "ipython3",
      "version": "3.7.3"
    },
    "colab": {
      "name": "Neural_Networks.ipynb",
      "provenance": [],
      "collapsed_sections": [],
      "machine_shape": "hm"
    },
    "accelerator": "GPU"
  },
  "cells": [
    {
      "cell_type": "code",
      "metadata": {
        "id": "Zqlphl6aq9Fz",
        "colab_type": "code",
        "outputId": "586c41b3-432b-4f44-b8c3-36af71a2ff90",
        "colab": {
          "base_uri": "https://localhost:8080/",
          "height": 85
        }
      },
      "source": [
        "import re \n",
        "import os\n",
        "import json\n",
        "from tqdm import tqdm_notebook\n",
        "import time\n",
        "import numpy as np\n",
        "import scipy\n",
        "import pandas as pd\n",
        "import matplotlib\n",
        "%matplotlib inline\n",
        "import matplotlib.pyplot as plt\n",
        "import seaborn as sns\n",
        "import warnings\n",
        "\n",
        "from sklearn.feature_extraction.text import TfidfVectorizer\n",
        "from sklearn.linear_model import LogisticRegression\n",
        "from sklearn.ensemble import GradientBoostingClassifier\n",
        "from lightgbm import LGBMClassifier\n",
        "from sklearn.metrics import accuracy_score\n",
        "import tensorflow as tf\n",
        "from sklearn.decomposition import TruncatedSVD\n",
        "import gensim\n",
        "\n",
        "warnings.filterwarnings('ignore')\n",
        "matplotlib.rcParams['figure.figsize'] = (8, 8)\n",
        "sns.set_style('whitegrid')\n",
        "\n",
        "# Для обработки текстов\n",
        "!pip3 install pymorphy2\n",
        "import pymorphy2\n",
        "\n",
        "import torch\n",
        "import torch.nn as nn\n",
        "import torch.optim as optim\n",
        "import torch.nn.functional as F\n",
        "from torch.utils.data import DataLoader\n",
        "\n",
        "from gensim.corpora import Dictionary\n",
        "from gensim.models.tfidfmodel import TfidfModel\n",
        "from gensim.matutils import sparse2full\n",
        "\n",
        "from sklearn.neural_network import MLPClassifier"
      ],
      "execution_count": 0,
      "outputs": [
        {
          "output_type": "stream",
          "text": [
            "Requirement already satisfied: pymorphy2 in /usr/local/lib/python3.6/dist-packages (0.8)\n",
            "Requirement already satisfied: docopt>=0.6 in /usr/local/lib/python3.6/dist-packages (from pymorphy2) (0.6.2)\n",
            "Requirement already satisfied: pymorphy2-dicts<3.0,>=2.4 in /usr/local/lib/python3.6/dist-packages (from pymorphy2) (2.4.393442.3710985)\n",
            "Requirement already satisfied: dawg-python>=0.7 in /usr/local/lib/python3.6/dist-packages (from pymorphy2) (0.7.2)\n"
          ],
          "name": "stdout"
        }
      ]
    },
    {
      "cell_type": "markdown",
      "metadata": {
        "id": "mETpPDnGq9GL",
        "colab_type": "text"
      },
      "source": [
        "\n",
        "Загрузите данные"
      ]
    },
    {
      "cell_type": "markdown",
      "metadata": {
        "id": "xehcKI--q9GN",
        "colab_type": "text"
      },
      "source": [
        "Создайте папку и положите в неё данные (avito_train.csv и avito_category.csv). Путь к папке назвать DIR_PATH"
      ]
    },
    {
      "cell_type": "code",
      "metadata": {
        "id": "g4PmV5-RzmZr",
        "colab_type": "code",
        "outputId": "c75534e3-d6e8-4a50-a14d-ec0dc66969eb",
        "colab": {
          "base_uri": "https://localhost:8080/",
          "height": 513
        }
      },
      "source": [
        "!wget -O prac4.zip https://www.dropbox.com/s/g6iurjn7azy7uco/%D0%B4%D0%B0%D0%BD%D0%BD%D1%8B%D0%B5%20%D0%B4%D0%BB%D1%8F%204%20%D0%BF%D1%80%D0%B0%D0%BA%D0%B0.zip?dl=0\n",
        "!unzip prac4.zip && mv 'данные для 4 прака' prac4_data"
      ],
      "execution_count": 0,
      "outputs": [
        {
          "output_type": "stream",
          "text": [
            "--2020-01-02 16:54:17--  https://www.dropbox.com/s/g6iurjn7azy7uco/%D0%B4%D0%B0%D0%BD%D0%BD%D1%8B%D0%B5%20%D0%B4%D0%BB%D1%8F%204%20%D0%BF%D1%80%D0%B0%D0%BA%D0%B0.zip?dl=0\n",
            "Resolving www.dropbox.com (www.dropbox.com)... 162.125.1.1, 2620:100:6016:1::a27d:101\n",
            "Connecting to www.dropbox.com (www.dropbox.com)|162.125.1.1|:443... connected.\n",
            "HTTP request sent, awaiting response... 301 Moved Permanently\n",
            "Location: /s/raw/g6iurjn7azy7uco/%D0%B4%D0%B0%D0%BD%D0%BD%D1%8B%D0%B5%20%D0%B4%D0%BB%D1%8F%204%20%D0%BF%D1%80%D0%B0%D0%BA%D0%B0.zip [following]\n",
            "--2020-01-02 16:54:17--  https://www.dropbox.com/s/raw/g6iurjn7azy7uco/%D0%B4%D0%B0%D0%BD%D0%BD%D1%8B%D0%B5%20%D0%B4%D0%BB%D1%8F%204%20%D0%BF%D1%80%D0%B0%D0%BA%D0%B0.zip\n",
            "Reusing existing connection to www.dropbox.com:443.\n",
            "HTTP request sent, awaiting response... 302 Found\n",
            "Location: https://uc44b8a89b8f584ccbe4a89c8e56.dl.dropboxusercontent.com/cd/0/inline/AvZEedcrs4GlG9uNlm98O5qEI0cYiOxzuIad36XOT6er9-ssvV8cLbw2kZ5Fy5zdugk456GJipYsD1EQQB4d21I6RU9nvnFQMc8mzXLPOdFIBch9Csf_vxMdp7kgiYThqVc/file# [following]\n",
            "--2020-01-02 16:54:17--  https://uc44b8a89b8f584ccbe4a89c8e56.dl.dropboxusercontent.com/cd/0/inline/AvZEedcrs4GlG9uNlm98O5qEI0cYiOxzuIad36XOT6er9-ssvV8cLbw2kZ5Fy5zdugk456GJipYsD1EQQB4d21I6RU9nvnFQMc8mzXLPOdFIBch9Csf_vxMdp7kgiYThqVc/file\n",
            "Resolving uc44b8a89b8f584ccbe4a89c8e56.dl.dropboxusercontent.com (uc44b8a89b8f584ccbe4a89c8e56.dl.dropboxusercontent.com)... 162.125.1.6, 2620:100:6016:6::a27d:106\n",
            "Connecting to uc44b8a89b8f584ccbe4a89c8e56.dl.dropboxusercontent.com (uc44b8a89b8f584ccbe4a89c8e56.dl.dropboxusercontent.com)|162.125.1.6|:443... connected.\n",
            "HTTP request sent, awaiting response... 302 FOUND\n",
            "Location: /cd/0/inline2/AvbzYQipMCN-cxgAQhjnG1SWeJxgTkzPqFgI4ltMYNWiQqDq81TzgqCTaJHdGOWF9grpArHgxNtLAv3QwKiGHQH9n-a2Odgl-eVUJj0RPs_RZ6HydJZRqjI78ZlMujyKsEnvjU_quotjAm8NJks50jl9EkFDfL7FiPPkPqSBhD88yBttd7gD-NZV0jla1wrEgOoUHqEgUTwRcrpz1shsI0TQkLnpnPwAkMThlH30ZvbvFstXWOad7o-N7AH-NH6qZ6RxudO_bG_d0YeEO3sVc0bzDRlP4tET71AsOmhQTBOtiQww5CKvt7rvp0-yx1UuY2ba-EjZrZoqlisXIP6lanWCbIgWzuAyU8R5jO12wUTsAA/file [following]\n",
            "--2020-01-02 16:54:18--  https://uc44b8a89b8f584ccbe4a89c8e56.dl.dropboxusercontent.com/cd/0/inline2/AvbzYQipMCN-cxgAQhjnG1SWeJxgTkzPqFgI4ltMYNWiQqDq81TzgqCTaJHdGOWF9grpArHgxNtLAv3QwKiGHQH9n-a2Odgl-eVUJj0RPs_RZ6HydJZRqjI78ZlMujyKsEnvjU_quotjAm8NJks50jl9EkFDfL7FiPPkPqSBhD88yBttd7gD-NZV0jla1wrEgOoUHqEgUTwRcrpz1shsI0TQkLnpnPwAkMThlH30ZvbvFstXWOad7o-N7AH-NH6qZ6RxudO_bG_d0YeEO3sVc0bzDRlP4tET71AsOmhQTBOtiQww5CKvt7rvp0-yx1UuY2ba-EjZrZoqlisXIP6lanWCbIgWzuAyU8R5jO12wUTsAA/file\n",
            "Reusing existing connection to uc44b8a89b8f584ccbe4a89c8e56.dl.dropboxusercontent.com:443.\n",
            "HTTP request sent, awaiting response... 200 OK\n",
            "Length: 86001333 (82M) [application/zip]\n",
            "Saving to: ‘prac4.zip’\n",
            "\n",
            "prac4.zip           100%[===================>]  82.02M  24.2MB/s    in 3.4s    \n",
            "\n",
            "2020-01-02 16:54:22 (24.2 MB/s) - ‘prac4.zip’ saved [86001333/86001333]\n",
            "\n",
            "Archive:  prac4.zip\n",
            "   creating: данные для 4 прака/\n",
            "  inflating: данные для 4 прака/avito_category.csv  \n",
            "  inflating: данные для 4 прака/avito.csv  \n"
          ],
          "name": "stdout"
        }
      ]
    },
    {
      "cell_type": "code",
      "metadata": {
        "colab_type": "code",
        "id": "ViYV__8FyCGp",
        "colab": {}
      },
      "source": [
        "DIR_PATH = 'prac4_data'\n",
        "\n",
        "dat = pd.read_csv(os.path.join(DIR_PATH, 'avito.csv'))\n",
        "cat_descr = pd.read_csv(os.path.join(DIR_PATH, 'avito_category.csv'))\n",
        "dat['category_name'] = dat.category_id.map(dict(zip(cat_descr.category_id, cat_descr.name)))"
      ],
      "execution_count": 0,
      "outputs": []
    },
    {
      "cell_type": "code",
      "metadata": {
        "id": "LgozAV0jq9GS",
        "colab_type": "code",
        "outputId": "1f546c77-e923-4feb-b57b-4e4e84df9819",
        "colab": {
          "base_uri": "https://localhost:8080/",
          "height": 204
        }
      },
      "source": [
        "dat.head()"
      ],
      "execution_count": 0,
      "outputs": [
        {
          "output_type": "execute_result",
          "data": {
            "text/html": [
              "<div>\n",
              "<style scoped>\n",
              "    .dataframe tbody tr th:only-of-type {\n",
              "        vertical-align: middle;\n",
              "    }\n",
              "\n",
              "    .dataframe tbody tr th {\n",
              "        vertical-align: top;\n",
              "    }\n",
              "\n",
              "    .dataframe thead th {\n",
              "        text-align: right;\n",
              "    }\n",
              "</style>\n",
              "<table border=\"1\" class=\"dataframe\">\n",
              "  <thead>\n",
              "    <tr style=\"text-align: right;\">\n",
              "      <th></th>\n",
              "      <th>item_id</th>\n",
              "      <th>title</th>\n",
              "      <th>description</th>\n",
              "      <th>price</th>\n",
              "      <th>category_id</th>\n",
              "      <th>category_name</th>\n",
              "    </tr>\n",
              "  </thead>\n",
              "  <tbody>\n",
              "    <tr>\n",
              "      <th>0</th>\n",
              "      <td>0</td>\n",
              "      <td>Картина</td>\n",
              "      <td>Гобелен. Размеры 139х84см.</td>\n",
              "      <td>1000.0</td>\n",
              "      <td>19</td>\n",
              "      <td>Для дома и дачи|Мебель и интерьер|Предметы инт...</td>\n",
              "    </tr>\n",
              "    <tr>\n",
              "      <th>1</th>\n",
              "      <td>1</td>\n",
              "      <td>Стулья из прессованной кожи</td>\n",
              "      <td>Продам недорого 4 стула из светлой прессованно...</td>\n",
              "      <td>1250.0</td>\n",
              "      <td>22</td>\n",
              "      <td>Для дома и дачи|Мебель и интерьер|Столы и стулья</td>\n",
              "    </tr>\n",
              "    <tr>\n",
              "      <th>2</th>\n",
              "      <td>2</td>\n",
              "      <td>Домашняя мини баня</td>\n",
              "      <td>Мини баня МБ-1(мини сауна), предназначена для ...</td>\n",
              "      <td>13000.0</td>\n",
              "      <td>37</td>\n",
              "      <td>Личные вещи|Красота и здоровье|Приборы и аксес...</td>\n",
              "    </tr>\n",
              "    <tr>\n",
              "      <th>3</th>\n",
              "      <td>3</td>\n",
              "      <td>Эксклюзивная коллекция книг \"Трансаэро\" + подарок</td>\n",
              "      <td>Продам эксклюзивную коллекцию книг, выпущенную...</td>\n",
              "      <td>4000.0</td>\n",
              "      <td>43</td>\n",
              "      <td>Хобби и отдых|Книги и журналы|Книги</td>\n",
              "    </tr>\n",
              "    <tr>\n",
              "      <th>4</th>\n",
              "      <td>4</td>\n",
              "      <td>Ноутбук aser</td>\n",
              "      <td>Продаётся ноутбук ACER e5-511C2TA. Куплен в ко...</td>\n",
              "      <td>19000.0</td>\n",
              "      <td>1</td>\n",
              "      <td>Бытовая электроника|Ноутбуки</td>\n",
              "    </tr>\n",
              "  </tbody>\n",
              "</table>\n",
              "</div>"
            ],
            "text/plain": [
              "   item_id  ...                                      category_name\n",
              "0        0  ...  Для дома и дачи|Мебель и интерьер|Предметы инт...\n",
              "1        1  ...   Для дома и дачи|Мебель и интерьер|Столы и стулья\n",
              "2        2  ...  Личные вещи|Красота и здоровье|Приборы и аксес...\n",
              "3        3  ...                Хобби и отдых|Книги и журналы|Книги\n",
              "4        4  ...                       Бытовая электроника|Ноутбуки\n",
              "\n",
              "[5 rows x 6 columns]"
            ]
          },
          "metadata": {
            "tags": []
          },
          "execution_count": 7
        }
      ]
    },
    {
      "cell_type": "markdown",
      "metadata": {
        "id": "rYKhoRMPq9GX",
        "colab_type": "text"
      },
      "source": [
        "### Задание 1\n",
        "### Подготовка данных"
      ]
    },
    {
      "cell_type": "markdown",
      "metadata": {
        "id": "C4_DrCDuq9Gc",
        "colab_type": "text"
      },
      "source": [
        "[1.1] (0.5 балла)"
      ]
    },
    {
      "cell_type": "markdown",
      "metadata": {
        "id": "qv-Uem5Aq9Gd",
        "colab_type": "text"
      },
      "source": [
        "Разбейте таргет на иерархические классы."
      ]
    },
    {
      "cell_type": "code",
      "metadata": {
        "id": "HpGORbzEq9Ge",
        "colab_type": "code",
        "colab": {}
      },
      "source": [
        "dat['tmp'] = dat['category_name'].apply(lambda x: x.split('|'))\n",
        "dat['category_1'] = dat['tmp'].apply(lambda x: x[0] if len(x) > 0 else '')\n",
        "dat['category_2'] = dat['tmp'].apply(lambda x: x[1] if len(x) > 1 else '')\n",
        "dat['category_3'] = dat['tmp'].apply(lambda x: x[2] if len(x) > 2 else '')\n",
        "dat['category_4'] = dat['tmp'].apply(lambda x: x[3] if len(x) > 3 else '')\n",
        "\n",
        "dat['last_cat'] = dat['tmp'].apply(lambda x: x[-1])\n",
        "del dat['tmp']"
      ],
      "execution_count": 0,
      "outputs": []
    },
    {
      "cell_type": "code",
      "metadata": {
        "id": "fniHIDgd5yjD",
        "colab_type": "code",
        "outputId": "bf188eef-8a16-4917-a5f6-0f07ca78ee09",
        "colab": {
          "base_uri": "https://localhost:8080/",
          "height": 476
        }
      },
      "source": [
        "print(dat['category_1'].unique(), '\\n')\n",
        "print(dat['category_2'].unique(), '\\n')\n",
        "print(dat['category_3'].unique(), '\\n')\n",
        "print(dat['category_4'].unique(), '\\n')"
      ],
      "execution_count": 0,
      "outputs": [
        {
          "output_type": "stream",
          "text": [
            "['Для дома и дачи' 'Личные вещи' 'Хобби и отдых' 'Бытовая электроника'] \n",
            "\n",
            "['Мебель и интерьер' 'Красота и здоровье' 'Книги и журналы' 'Ноутбуки'\n",
            " 'Музыкальные инструменты' 'Товары для детей и игрушки' 'Часы и украшения'\n",
            " 'Билеты и путешествия' 'Одежда, обувь, аксессуары' 'Спорт и отдых'\n",
            " 'Растения' 'Ремонт и строительство' 'Товары для компьютера'\n",
            " 'Аудио и видео' 'Игры, приставки и программы' 'Телефоны'\n",
            " 'Посуда и товары для кухни' 'Охота и рыбалка' 'Велосипеды'\n",
            " 'Коллекционирование' 'Настольные компьютеры' 'Бытовая техника'\n",
            " 'Планшеты и электронные книги'] \n",
            "\n",
            "['Предметы интерьера, искусство' 'Столы и стулья' 'Приборы и аксессуары'\n",
            " 'Книги' '' 'Гитары и другие струнные' 'Товары для кормления' 'Часы'\n",
            " 'Путешествия' 'Женская одежда' 'Игрушки' 'Детская мебель'\n",
            " 'Фитнес и тренажёры' 'Освещение' 'Инструменты' 'Детские коляски'\n",
            " 'Учебная литература' 'Шкафы и комоды' 'Сетевое оборудование'\n",
            " 'Телевизоры и проекторы' 'Игровые приставки' 'Samsung' 'Посуда'\n",
            " 'Мониторы' 'Игры для приставок' 'Sony' 'Запчасти и аксессуары'\n",
            " 'Сантехника и сауна' 'Двери' 'Зимние виды спорта' 'Ювелирные изделия'\n",
            " 'Аксессуары' 'Акустика, колонки, сабвуферы' 'Другое' 'Другие марки'\n",
            " 'iPhone' 'Стройматериалы' 'Текстиль и ковры' 'Для кухни'\n",
            " 'Для студии и концертов' 'Планшеты' 'Кровати, диваны и кресла' 'Монеты'\n",
            " 'Для дома' 'Nokia'] \n",
            "\n",
            "['' 'Обувь' 'Другое' 'Верхняя одежда' 'Мелкая кухонная техника'\n",
            " 'Чехлы и плёнки' 'Платья и юбки' 'Стиральные машины'] \n",
            "\n"
          ],
          "name": "stdout"
        }
      ]
    },
    {
      "cell_type": "markdown",
      "metadata": {
        "id": "JLmZCtOiq9Gi",
        "colab_type": "text"
      },
      "source": [
        "Загрузите список стоп-слов https://raw.githubusercontent.com/stopwords-iso/stopwords-ru/master/stopwords-ru.json"
      ]
    },
    {
      "cell_type": "code",
      "metadata": {
        "id": "x7Rj9-qYq9Gj",
        "colab_type": "code",
        "colab": {}
      },
      "source": [
        "stop_words = np.ravel(pd.read_json('https://raw.githubusercontent.com/stopwords-iso/stopwords-ru/master/stopwords-ru.json'))"
      ],
      "execution_count": 0,
      "outputs": []
    },
    {
      "cell_type": "markdown",
      "metadata": {
        "id": "m96jdH0zq9Go",
        "colab_type": "text"
      },
      "source": [
        "[1.2] (1 балл)\n",
        "\n",
        "Лемматизируйте категории (таргеты)"
      ]
    },
    {
      "cell_type": "code",
      "metadata": {
        "id": "M8b1I4B7sCMW",
        "colab_type": "code",
        "colab": {}
      },
      "source": [
        "morph = pymorphy2.MorphAnalyzer()\n",
        "dat['category_name_processed'] =  dat['category_name'].apply(lambda x: morph.parse(x)[0].normal_form)"
      ],
      "execution_count": 0,
      "outputs": []
    },
    {
      "cell_type": "markdown",
      "metadata": {
        "id": "S51Bon6Uq9Gu",
        "colab_type": "text"
      },
      "source": [
        "[1.3] (2 балла)\n",
        "\n",
        "Лемматизируйте заголовки и описания объявлений"
      ]
    },
    {
      "cell_type": "code",
      "metadata": {
        "id": "vVLirbd7sDUV",
        "colab_type": "code",
        "colab": {}
      },
      "source": [
        "dat['title_processed'] = dat['title'].apply(lambda x: morph.parse(x)[0].normal_form)\n",
        "dat['description_processed'] = dat['description'].apply(lambda x: morph.parse(x)[0].normal_form)\n",
        "dat['title&description'] = dat['title_processed'] + ' ' + dat['description_processed']"
      ],
      "execution_count": 0,
      "outputs": []
    },
    {
      "cell_type": "markdown",
      "metadata": {
        "id": "-d9XMk1gq9Gz",
        "colab_type": "text"
      },
      "source": [
        "[1.4] (0.5 балла)\n",
        "\n",
        "Разбейте данные на обучение, валидацию и отложенный тест в пропорции 60/30/10. Постройте распределений категорий в каждом из разбиений для того, чтобы убедиться, что распределения совпадают"
      ]
    },
    {
      "cell_type": "code",
      "metadata": {
        "id": "vxkA619lq9G0",
        "colab_type": "code",
        "outputId": "5c8b9c1a-0bd3-4dc7-d6a7-72b77397cf42",
        "colab": {
          "base_uri": "https://localhost:8080/",
          "height": 129
        }
      },
      "source": [
        "np.random.seed(10) # Не меняем random seed!\n",
        "tr_indexes, val_indexes, te_indexes = np.split(\n",
        "    np.random.permutation(np.arange(489517)), [int(489517*0.6), int(489517*0.9)]\n",
        ")\n",
        "\n",
        "vectorizer = TfidfVectorizer(stop_words = list(stop_words))\n",
        "X = vectorizer.fit_transform(dat['title&description'])\n",
        "\n",
        "tr = X[tr_indexes]; tr_target = dat['category_id'][tr_indexes]\n",
        "val = X[val_indexes]; val_target = dat['category_id'][val_indexes]\n",
        "test = X[te_indexes]; test_target = dat['category_id'][te_indexes]\n",
        "\n",
        "tr, val, test = \n",
        "tr_target, val_target, test_target = dat['category_id'][tr_indexes], dat['category_id'][val_indexes], dat['category_id'][te_indexes]\n"
      ],
      "execution_count": 0,
      "outputs": [
        {
          "output_type": "error",
          "ename": "SyntaxError",
          "evalue": "ignored",
          "traceback": [
            "\u001b[0;36m  File \u001b[0;32m\"<ipython-input-13-a3d82d29833f>\"\u001b[0;36m, line \u001b[0;32m13\u001b[0m\n\u001b[0;31m    tr, val, test =\u001b[0m\n\u001b[0m                    ^\u001b[0m\n\u001b[0;31mSyntaxError\u001b[0m\u001b[0;31m:\u001b[0m invalid syntax\n"
          ]
        }
      ]
    },
    {
      "cell_type": "code",
      "metadata": {
        "id": "shte3E10q9G7",
        "colab_type": "code",
        "colab": {}
      },
      "source": [
        "dat['category_id'][tr_indexes].hist()\n",
        "dat['category_id'][val_indexes].hist()\n",
        "dat['category_id'][te_indexes].hist()"
      ],
      "execution_count": 0,
      "outputs": []
    },
    {
      "cell_type": "markdown",
      "metadata": {
        "id": "v-_H_K-kq9G-",
        "colab_type": "text"
      },
      "source": [
        "### Задание 2\n",
        "### Бейзлайн"
      ]
    },
    {
      "cell_type": "markdown",
      "metadata": {
        "id": "87EBtwFEq9HB",
        "colab_type": "text"
      },
      "source": [
        "[2.1] (5 баллов)\n",
        "\n",
        "Обучите простую модель для того, чтобы в дальнейшем с ней сравниваться. Точность (accuracy) данной бейзлан модели должна быть > 0.6. \n",
        "\n",
        "В качестве такой модели можно взять Tf-Idf преобразования текстов + (logreg/random forest/boosting/...). Можно так же попробовать в качестве признаков взять word2vec вектора слов."
      ]
    },
    {
      "cell_type": "code",
      "metadata": {
        "id": "4rnKu2X3FH0v",
        "colab_type": "code",
        "colab": {}
      },
      "source": [
        "tr_target, val_target, test_target = dat['category_1'][tr_indexes], dat['category_1'][val_indexes], dat['category_1'][te_indexes]\n",
        "\n",
        "lr = LogisticRegression()\n",
        "lr.fit(tr, tr_target) \n",
        "\n",
        "print(accuracy_score(lr.predict(val), val_target))\n",
        "print(accuracy_score(lr.predict(test), test_target))\n",
        "\n",
        "cat_1 = lr.predict(X)"
      ],
      "execution_count": 0,
      "outputs": []
    },
    {
      "cell_type": "code",
      "metadata": {
        "id": "RedGKPXVFRAX",
        "colab_type": "code",
        "colab": {}
      },
      "source": [
        "tr_target, val_target, test_target = dat['category_2'][tr_indexes], dat['category_2'][val_indexes], dat['category_2'][te_indexes]\n",
        "\n",
        "lr = LogisticRegression()\n",
        "lr.fit(tr, tr_target) \n",
        "\n",
        "print(accuracy_score(lr.predict(val), val_target))\n",
        "print(accuracy_score(lr.predict(test), test_target))\n",
        "\n",
        "cat_2 = lr.predict(X)"
      ],
      "execution_count": 0,
      "outputs": []
    },
    {
      "cell_type": "code",
      "metadata": {
        "id": "8Kh4lqk1q9HC",
        "colab_type": "code",
        "colab": {}
      },
      "source": [
        "lr = LogisticRegression()\n",
        "lr.fit(tr, tr_target)\n",
        "print(accuracy_score(lr.predict(val), val_target))"
      ],
      "execution_count": 0,
      "outputs": []
    },
    {
      "cell_type": "markdown",
      "metadata": {
        "id": "LK54cvdWq9HG",
        "colab_type": "text"
      },
      "source": [
        "\n",
        "[2.2] (2 балла)\n",
        "\n",
        "Посчитайте качество вашей бейзлайн модели на отложенном тесте (te_indexe)"
      ]
    },
    {
      "cell_type": "code",
      "metadata": {
        "id": "aJgpwJ3ZRIHk",
        "colab_type": "code",
        "colab": {}
      },
      "source": [
        "accuracy_score(lr.predict(test), test_target)"
      ],
      "execution_count": 0,
      "outputs": []
    },
    {
      "cell_type": "code",
      "metadata": {
        "id": "KCPSvdjZI2Lr",
        "colab_type": "code",
        "colab": {}
      },
      "source": [
        "dat.to_csv('processed_prac4.csv', index = False)"
      ],
      "execution_count": 0,
      "outputs": []
    },
    {
      "cell_type": "markdown",
      "metadata": {
        "id": "gf5dtxnZq9HN",
        "colab_type": "text"
      },
      "source": [
        "### Задание 3\n",
        "\n",
        "### Нейросетки"
      ]
    },
    {
      "cell_type": "markdown",
      "metadata": {
        "id": "mtbdhcyaq9HO",
        "colab_type": "text"
      },
      "source": [
        "Настало время для действительно крутых моделей!\n",
        "\n",
        "[3.1] (26 баллов) [Точность на тесте 0.6 - 0 баллов, точность на тесте 0.86 и более - 26 баллов]\n",
        "\n",
        "Обучите нейросетку, которая бы решала данную задачу с точностью > 0.86. Вы неограничены в выборе архитектуры нейросети. Можно начать с Tf-Idf + полносвязная сеть. Экспериментируйте!"
      ]
    },
    {
      "cell_type": "code",
      "metadata": {
        "id": "r-xcX58k8Jt7",
        "colab_type": "code",
        "colab": {}
      },
      "source": [
        "# READ DATA AND VECTORIZE\n",
        "\n",
        "dat = pd.read_csv('processed_prac4.csv')\n",
        "stop_words = np.ravel(pd.read_json('https://raw.githubusercontent.com/stopwords-iso/stopwords-ru/master/stopwords-ru.json'))\n",
        "\n",
        "X = TfidfVectorizer(stop_words = set(stop_words)).fit_transform(dat['title&description'])"
      ],
      "execution_count": 0,
      "outputs": []
    },
    {
      "cell_type": "code",
      "metadata": {
        "id": "6FRUSj92oHL8",
        "colab_type": "code",
        "colab": {}
      },
      "source": [
        "#SPLIT \n",
        "\n",
        "np.random.seed(10) # Не меняем random seed!\n",
        "tr_indexes, val_indexes, te_indexes = np.split(\n",
        "    np.random.permutation(np.arange(489517)), [int(489517*0.6), int(489517*0.9)]\n",
        ")\n",
        "tr_target, val_target, test_target = dat['category_id'].values[tr_indexes], dat['category_id'].values[val_indexes], dat['category_id'].values[te_indexes]"
      ],
      "execution_count": 0,
      "outputs": []
    },
    {
      "cell_type": "code",
      "metadata": {
        "id": "oxo6OqMrhy75",
        "colab_type": "code",
        "outputId": "020b9562-30e0-449d-88d7-87da0703d886",
        "colab": {
          "base_uri": "https://localhost:8080/",
          "height": 34
        }
      },
      "source": [
        "# SKLEARN MLP\n",
        "\n",
        "mlp = MLPClassifier()\n",
        "mlp.fit(X[tr_indexes], tr_target)\n",
        "\n",
        "accuracy_score(mlp.predict(X[val_indexes]), val_target)"
      ],
      "execution_count": 0,
      "outputs": [
        {
          "output_type": "execute_result",
          "data": {
            "text/plain": [
              "0.8704232065642982"
            ]
          },
          "metadata": {
            "tags": []
          },
          "execution_count": 24
        }
      ]
    },
    {
      "cell_type": "code",
      "metadata": {
        "id": "jw8iX4dOqKsM",
        "colab_type": "code",
        "colab": {}
      },
      "source": [
        "#pretrained Russian embeddings\n",
        "!wget -O fasttext.tgz http://rusvectores.org/static/models/rusvectores4/fasttext/araneum_none_fasttextcbow_300_5_2018.tgz\n",
        "!tar xzf fasttext.tgz"
      ],
      "execution_count": 0,
      "outputs": []
    },
    {
      "cell_type": "code",
      "metadata": {
        "id": "gfO_3Koyo2vW",
        "colab_type": "code",
        "colab": {}
      },
      "source": [
        "# TFIDF-weighted wor2vec\n",
        "\n",
        "model = gensim.models.KeyedVectors.load('araneum_none_fasttextcbow_300_5_2018.model')\n",
        "\n",
        "vectorizer = TfidfVectorizer(stop_words = list(stop_words), max_features = 12000)\n",
        "Y = vectorizer.fit_transform(dat['title&description'])\n",
        "\n",
        "emb_vecs = np.vstack([ model[word] if word in model.vocab else np.zeros(300) for word in vectorizer.get_feature_names()])\n",
        "Y = np.vstack([np.dot(y.toarray(), emb_vecs) for y in Y])"
      ],
      "execution_count": 0,
      "outputs": []
    },
    {
      "cell_type": "code",
      "metadata": {
        "id": "kvQCDDjygmKV",
        "colab_type": "code",
        "colab": {}
      },
      "source": [
        "# SVD\n",
        "\n",
        "features = 800   # больше 800 не получается: недостаточно RAM. Желательно 4000-5000 фичей\n",
        "X = TruncatedSVD(features).fit_transform(X)"
      ],
      "execution_count": 0,
      "outputs": []
    },
    {
      "cell_type": "code",
      "metadata": {
        "id": "yrSC8MuKpKXC",
        "colab_type": "code",
        "colab": {}
      },
      "source": [
        "price = dat['price'].values/dat['price'].values.max()\n",
        "X = np.concatenate([X, Y, np.expand_dims(price, axis = 1)], axis = 1)"
      ],
      "execution_count": 0,
      "outputs": []
    },
    {
      "cell_type": "code",
      "metadata": {
        "id": "adhA60Ysq9HP",
        "colab_type": "code",
        "colab": {}
      },
      "source": [
        "# TENSORFLOW\n",
        "\n",
        "n_cats = len(dat['category_id'].unique())\n",
        "model = tf.keras.Sequential([\n",
        "    tf.keras.layers.Input(features + 301),\n",
        "    tf.keras.layers.Dense(512, activation='relu'),\n",
        "    tf.keras.layers.Dense(256, activation='sigmoid'),\n",
        "    tf.keras.layers.Dense(128, activation='relu'),\n",
        "    tf.keras.layers.Dense(len(dat['category_id'].unique()), activation='softmax')\n",
        "])\n",
        "model.compile(optimizer='adam',\n",
        "              loss='sparse_categorical_crossentropy',\n",
        "              metrics=['accuracy'])\n",
        "model.fit(tr, tr_target, epochs=5)"
      ],
      "execution_count": 0,
      "outputs": []
    },
    {
      "cell_type": "code",
      "metadata": {
        "id": "_8WszbzXq9HT",
        "colab_type": "code",
        "colab": {}
      },
      "source": [
        "model.evaluate(X[val_indexes], val_target)\n",
        "model.evaluate(X[test_indexes], test_target)"
      ],
      "execution_count": 0,
      "outputs": []
    },
    {
      "cell_type": "code",
      "metadata": {
        "id": "Q9AdtNijlAZ7",
        "colab_type": "code",
        "colab": {}
      },
      "source": [
        "# TORCH\n",
        "\n",
        "hidden_layers = int((features + 1) * n_cats**(1/2))\n",
        "model = nn.Sequential(\n",
        "    nn.Linear(features, hidden_layers),\n",
        "    nn.Dropout(0.1),\n",
        "    nn.Linear(hidden_layers, n_cats),\n",
        "    nn.Sigmoid()\n",
        ")\n",
        "\n",
        "optimizer = optim.Adamax(model.parameters(), lr=0.009)\n",
        "epochs = 3\n",
        "batch_size = 1024\n",
        "\n",
        "def iterate_minibatches(X, y, batchsize):\n",
        "    indexes = np.random.permutation(np.arange(len(X)))\n",
        "    for start in range(0, len(indexes), batchsize):\n",
        "        indexes = indexes[start: start + batchsize]\n",
        "        yield X[indexes], y[indexes]\n",
        "        \n",
        "def compute_loss_finction(X_batch, y_batch):\n",
        "    X_batch = torch.autograd.Variable(torch.FloatTensor(X_batch))\n",
        "    y_batch = torch.autograd.Variable(torch.LongTensor(y_batch))\n",
        "    logits = model(X_batch)\n",
        "    return nn.functional.cross_entropy(logits, y_batch).mean()\n",
        "\n",
        "for e in range(epochs):\n",
        "    running_loss = 0\n",
        "    for X_batch, y_batch in iterate_minibatches(X[train_indexes], tr_target, batch_size):\n",
        "        loss = compute_loss_function(X_batch, y_batch)\n",
        "        loss.backward()\n",
        "        optimizer.step()\n",
        "        optimizer.zero_grad()"
      ],
      "execution_count": 0,
      "outputs": []
    },
    {
      "cell_type": "code",
      "metadata": {
        "id": "Ah_jTVMrlDhe",
        "colab_type": "code",
        "colab": {}
      },
      "source": [
        "predictions = np.argmax(model(torch.autograd.Variable(torch.FloatTensor(X[test_indexes]))), axis=1)\n",
        "print(f'Accuracy: {accuracy_score(test_target, preds)}')"
      ],
      "execution_count": 0,
      "outputs": []
    },
    {
      "cell_type": "code",
      "metadata": {
        "id": "sQpWCazU1vbd",
        "colab_type": "code",
        "colab": {}
      },
      "source": [
        ""
      ],
      "execution_count": 0,
      "outputs": []
    },
    {
      "cell_type": "code",
      "metadata": {
        "id": "FRvpEPqa1yCy",
        "colab_type": "code",
        "colab": {}
      },
      "source": [
        ""
      ],
      "execution_count": 0,
      "outputs": []
    },
    {
      "cell_type": "code",
      "metadata": {
        "id": "-3A288CJ6INd",
        "colab_type": "code",
        "colab": {}
      },
      "source": [
        ""
      ],
      "execution_count": 0,
      "outputs": []
    },
    {
      "cell_type": "code",
      "metadata": {
        "id": "WzP5lEbcfrBt",
        "colab_type": "code",
        "colab": {}
      },
      "source": [
        ""
      ],
      "execution_count": 0,
      "outputs": []
    },
    {
      "cell_type": "code",
      "metadata": {
        "id": "oul93hsbfxQZ",
        "colab_type": "code",
        "colab": {}
      },
      "source": [
        ""
      ],
      "execution_count": 0,
      "outputs": []
    },
    {
      "cell_type": "code",
      "metadata": {
        "id": "sBw9ufW9fxXD",
        "colab_type": "code",
        "colab": {}
      },
      "source": [
        ""
      ],
      "execution_count": 0,
      "outputs": []
    },
    {
      "cell_type": "code",
      "metadata": {
        "id": "JGQaut7stz0c",
        "colab_type": "code",
        "colab": {}
      },
      "source": [
        ""
      ],
      "execution_count": 0,
      "outputs": []
    },
    {
      "cell_type": "code",
      "metadata": {
        "id": "VBSj78uut0CR",
        "colab_type": "code",
        "colab": {}
      },
      "source": [
        ""
      ],
      "execution_count": 0,
      "outputs": []
    },
    {
      "cell_type": "code",
      "metadata": {
        "id": "iUzZqy1Ctz_-",
        "colab_type": "code",
        "colab": {}
      },
      "source": [
        ""
      ],
      "execution_count": 0,
      "outputs": []
    },
    {
      "cell_type": "code",
      "metadata": {
        "id": "VgiA5a7Qtz9C",
        "colab_type": "code",
        "colab": {}
      },
      "source": [
        ""
      ],
      "execution_count": 0,
      "outputs": []
    },
    {
      "cell_type": "code",
      "metadata": {
        "id": "l8Jsf1P7tz6U",
        "colab_type": "code",
        "colab": {}
      },
      "source": [
        ""
      ],
      "execution_count": 0,
      "outputs": []
    }
  ]
}