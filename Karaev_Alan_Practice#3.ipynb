{
 "cells": [
  {
   "cell_type": "code",
   "execution_count": 0,
   "metadata": {
    "colab": {},
    "colab_type": "code",
    "id": "36pph7FiL8L-"
   },
   "outputs": [],
   "source": [
    "import os\n",
    "import time\n",
    "import math\n",
    "import numpy as np\n",
    "import pandas as pd\n",
    "from tqdm import tqdm_notebook\n",
    "import matplotlib\n",
    "import matplotlib.pyplot as plt\n",
    "%matplotlib inline\n",
    "import seaborn as sns\n",
    "from sklearn.linear_model import LogisticRegression\n",
    "from sklearn.metrics import accuracy_score\n",
    "import warnings\n",
    "warnings.filterwarnings('ignore')"
   ]
  },
  {
   "cell_type": "code",
   "execution_count": 0,
   "metadata": {
    "colab": {},
    "colab_type": "code",
    "id": "fdSMx9oQL8MZ"
   },
   "outputs": [],
   "source": [
    "matplotlib.rcParams['figure.figsize'] = (8, 8)\n",
    "sns.set_style('whitegrid')"
   ]
  },
  {
   "cell_type": "markdown",
   "metadata": {
    "colab_type": "text",
    "id": "QsvAIoniL8Ms"
   },
   "source": [
    "## Часть 1"
   ]
  },
  {
   "cell_type": "markdown",
   "metadata": {
    "colab_type": "text",
    "id": "4FnGp9v_L8M1"
   },
   "source": [
    "#### Задание 1.1 [6 баллов]"
   ]
  },
  {
   "cell_type": "markdown",
   "metadata": {
    "colab_type": "text",
    "id": "zAN7XedkL8M6"
   },
   "source": [
    "Реализуйте свой класс LogReg - собственная имплементация логистической регрессии с l2 регуляризацией"
   ]
  },
  {
   "cell_type": "code",
   "execution_count": 0,
   "metadata": {
    "colab": {},
    "colab_type": "code",
    "id": "k-M2xysVL8M9"
   },
   "outputs": [],
   "source": [
    "from sklearn.base import BaseEstimator"
   ]
  },
  {
   "cell_type": "code",
   "execution_count": 0,
   "metadata": {
    "colab": {},
    "colab_type": "code",
    "id": "X07WWR0KL8NI"
   },
   "outputs": [],
   "source": [
    "class LogReg(BaseEstimator):\n",
    "    def __init__(self, lambda_2=1.0, gd_type='full', batch_size=None,\n",
    "                 tolerance=1e-4, max_iter=1000, w0=None, alpha=1e-3, \n",
    "                 verbose=False):\n",
    "        \"\"\"\n",
    "        lambda_2: L2 regularization param value\n",
    "        gd_type: 'full' or 'stochastic'\n",
    "        tolerance: for stopping gradient descent\n",
    "        max_iter: maximum number of steps in gradient descent\n",
    "        w0: np.array of shape (d) - init weights\n",
    "        alpha: learning rate\n",
    "        \"\"\"\n",
    "        self.lambda_2 = lambda_2\n",
    "        self.gd_type = gd_type\n",
    "        self.tolerance = tolerance\n",
    "        self.max_iter = max_iter\n",
    "        self.batch_size = None if self.gd_type == 'full' else batch_size\n",
    "        if self.batch_size is None and self.gd_type != 'full':\n",
    "            raise Exception('Need to specify batch size!')\n",
    "        self.w0 = w0\n",
    "        self.alpha = alpha\n",
    "        self.w = None\n",
    "        self.loss_history = []\n",
    "        self.w_history = []\n",
    "        self.grad_norm_history = []\n",
    "        self.verbose = verbose\n",
    "        # Могут быть ешё параметры\n",
    "        \n",
    "\n",
    "    def sigmoid(self, z):\n",
    "        \"\"\"\n",
    "        Просто вычисляет сигмоиду\n",
    "        \"\"\"\n",
    "        sigm = lambda x: 1 / (1 + math.exp(-x))\n",
    "        return np.vectorize(sigm)(z)\n",
    "  \n",
    "    \n",
    "    def fit(self, X, y):\n",
    "        \"\"\"\n",
    "        X: np.array of shape (N, d)\n",
    "        y: np.array of shape (N, 1)\n",
    "        \"\"\"\n",
    "        i = 0; loss = self.tolerance + 10\n",
    "        self.w = self.w0 if self.w0 is not None else np.random.rand((X.spape[1], 1))     \n",
    "        while i < self.max_iter and loss > self.tolerance :\n",
    "            if self.gd_type == \"stochastic\":\n",
    "                indexes = np.random.choice(X.shape[0], self.batch_size)\n",
    "                data, target = X[indexes], y[indexes]\n",
    "            else:\n",
    "                data, target = X, y\n",
    "                \n",
    "            self.w_history.append(self.w)\n",
    "            loss = self.calc_loss(X, y)\n",
    "            self.loss_history.append(loss)\n",
    "            grad = self.calc_gradient(data, target)\n",
    "            grad_norm = np.linalg.norm(grad)\n",
    "            self.grad_norm_history.append(grad_norm)\n",
    "            \n",
    "            self.w = self.w - self.alpha*grad\n",
    "            i += 1\n",
    "    \n",
    "    def predict_proba(self, X):\n",
    "        \"\"\"\n",
    "        X: np.array of shape (N, d)\n",
    "        ---\n",
    "        output: np.array of shape (N, 2) where\n",
    "        first column has probabilities of -1\n",
    "        second column has probabilities of +1\n",
    "        \"\"\"\n",
    "        res = sigmoid(X.dot(self.w))\n",
    "        return [1 - res, res]\n",
    "    \n",
    "        \n",
    "    def calc_gradient(self, X, y):\n",
    "        \"\"\"\n",
    "        X: np.array of shape (N, d) (N is equal to batch_size if gd_type=\"stochastic\")\n",
    "        y: np.array of shape (N, 1)\n",
    "        ---\n",
    "        output: np.array of shape (d, 1)\n",
    "        \"\"\"\n",
    "        res = np.zeros((X.shape[1], 1))\n",
    "        for i in range(self.w.shape[0]):\n",
    "            k = 0\n",
    "            for x in X.dot(self.w):\n",
    "                res[i][0] += -y[k]*X[k][i]*math.exp(-y[k]*x)/(1 + math.exp(-y[k]*x))\n",
    "                k += 1\n",
    "        return res\n",
    "    \n",
    "    def calc_loss(self, X, y):\n",
    "        \"\"\"\n",
    "        X: np.array of shape (N, d)\n",
    "        y: np.array of shape (N, 1)\n",
    "        ---\n",
    "        output: float \n",
    "        \"\"\" \n",
    "        loss = 0; k = 0\n",
    "        for x in X.dot(self.w):\n",
    "            loss += math.log(1 + math.exp(-y[k]*x[0])) \n",
    "            k += 1\n",
    "        return loss + self.lambda_2*np.linalg.norm(self.w)    \n"
   ]
  },
  {
   "cell_type": "markdown",
   "metadata": {
    "colab_type": "text",
    "id": "13EBkCrWL8NW"
   },
   "source": [
    "Сгенерируем модельную выборку, для проверки нашего класса"
   ]
  },
  {
   "cell_type": "code",
   "execution_count": 0,
   "metadata": {
    "colab": {},
    "colab_type": "code",
    "id": "dEVwKoPFL8Na"
   },
   "outputs": [],
   "source": [
    "N = 10000\n",
    "X = np.random.normal(loc=0, scale=4, size=(N))\n",
    "X = np.hstack((\n",
    "    np.ones(X.shape[0]).reshape(-1, 1),\n",
    "    X.reshape(-1, 1)\n",
    "))\n",
    "y = (\n",
    "    2*(3*X[:, 1] + np.random.normal(scale=4, size=N) > 0) - 1\n",
    ").astype(int).reshape(-1, 1)\n",
    "w_init = np.random.randint(-10, 10, size=(2, 1))"
   ]
  },
  {
   "cell_type": "markdown",
   "metadata": {
    "colab_type": "text",
    "id": "umbhYwIDL8Ni"
   },
   "source": [
    "Разделите данные на обучение и контроль"
   ]
  },
  {
   "cell_type": "code",
   "execution_count": 0,
   "metadata": {
    "colab": {},
    "colab_type": "code",
    "id": "bgKe9FN3L8Nl"
   },
   "outputs": [],
   "source": [
    "from sklearn.model_selection import train_test_split\n",
    "X_train, X_test, y_train, y_test = train_test_split(X, y, test_size = 0.3, random_state = 42)"
   ]
  },
  {
   "cell_type": "markdown",
   "metadata": {
    "colab_type": "text",
    "id": "QsouxcgXL8Ny"
   },
   "source": [
    "#### Задание 1.2 [3 балла]"
   ]
  },
  {
   "cell_type": "markdown",
   "metadata": {
    "colab_type": "text",
    "id": "Fzi1OP0GL8N4"
   },
   "source": [
    "Обучите Вашу реализацию логрега на обучающей выборке и протестируйте качество на котрольной выборке. Нарисуйте графики лосса в зависимости от числа итераций для обучения для полного градиентного спуска, а так же для стохастического градиентного спуска c различной величиной батча (батч размера 1, 10, 20, 30, половина выборки, вся выборка) "
   ]
  },
  {
   "cell_type": "code",
   "execution_count": 0,
   "metadata": {
    "colab": {
     "base_uri": "https://localhost:8080/",
     "height": 568
    },
    "colab_type": "code",
    "id": "nMStmUtfL8N9",
    "outputId": "c75b11c1-d4b8-4772-9014-1859606b57d5"
   },
   "outputs": [
    {
     "name": "stdout",
     "output_type": "stream",
     "text": [
      "gd_type = full  loss =  705.1287335761349\n",
      "batch size =  1 loss =  37569.00802318257\n",
      "batch size =  10 loss =  30062.777026139076\n",
      "batch size =  20 loss =  22330.594669960192\n",
      "batch size =  30 loss =  13698.029533645025\n"
     ]
    },
    {
     "data": {
      "image/png": "[encoded data removed]",
      "text/plain": [
       "<Figure size 576x576 with 1 Axes>"
      ]
     },
     "metadata": {
      "tags": []
     },
     "output_type": "display_data"
    }
   ],
   "source": [
    "# Ваш код здесь:\n",
    "lr = LogReg(lambda_2 = 0., gd_type='full', batch_size=None,\n",
    "            tolerance=1e-4, max_iter=30, w0=w_init, alpha=1e-3, \n",
    "                 verbose=False)\n",
    "lr.fit(X_train, y_train)\n",
    "plt.plot(lr.loss_history)\n",
    "print(\"gd_type = full \", \"loss = \", lr.calc_loss(X_test, y_test))\n",
    "\n",
    "\n",
    "lr.gd_type = \"stochastic\"\n",
    "bs = [1, 10, 20, 30]\n",
    "for i in range(4):\n",
    "    lr.loss_history = []\n",
    "    lr.batch_size = bs[i]\n",
    "    lr.fit(X_train, y_train)\n",
    "    plt.plot(lr.loss_history)\n",
    "    print('batch size = ', bs[i], 'loss = ', lr.calc_loss(X_test, y_test))\n",
    "    \n",
    "plt.show()"
   ]
  },
  {
   "cell_type": "markdown",
   "metadata": {
    "colab_type": "text",
    "id": "qfgYw8sKL8OQ"
   },
   "source": [
    "## Часть 2\n",
    "## Word2Vec"
   ]
  },
  {
   "cell_type": "markdown",
   "metadata": {
    "colab_type": "text",
    "id": "HVQl4Qi2L8OT"
   },
   "source": [
    "В этой части задания Вам необходимо будет реализовать алгоритм поиска эмбеддингов для слов Word2Vec (модификация SkipGramNS)"
   ]
  },
  {
   "cell_type": "markdown",
   "metadata": {
    "colab_type": "text",
    "id": "HRhfrGiTL8OV"
   },
   "source": [
    "Загрузите лемматизированные тексты lemm_wiki_texts.txt для обучения"
   ]
  },
  {
   "cell_type": "code",
   "execution_count": 0,
   "metadata": {
    "colab": {
     "base_uri": "https://localhost:8080/",
     "height": 377
    },
    "colab_type": "code",
    "id": "CWH5KLYHOUCi",
    "outputId": "18042251-50f8-4e14-8504-bc1e1d90c66b"
   },
   "outputs": [
    {
     "name": "stdout",
     "output_type": "stream",
     "text": [
      "--2019-12-27 22:42:21--  https://www.dropbox.com/s/wfh403us223yjuf/lemm_wiki_texts.txt?dl=0\n",
      "Resolving www.dropbox.com (www.dropbox.com)... 162.125.9.1, 2620:100:601f:1::a27d:901\n",
      "Connecting to www.dropbox.com (www.dropbox.com)|162.125.9.1|:443... connected.\n",
      "HTTP request sent, awaiting response... 301 Moved Permanently\n",
      "Location: /s/raw/wfh403us223yjuf/lemm_wiki_texts.txt [following]\n",
      "--2019-12-27 22:42:21--  https://www.dropbox.com/s/raw/wfh403us223yjuf/lemm_wiki_texts.txt\n",
      "Reusing existing connection to www.dropbox.com:443.\n",
      "HTTP request sent, awaiting response... 302 Found\n",
      "Location: https://uc0b9f56a799beed6cf7b9e61fc6.dl.dropboxusercontent.com/cd/0/inline/AvAF8czYZ-xi9ilwv67OfOL4TMKZNbs7b6jb4N96EIf9Yiww5rsKUEhOmYWsiA89hV0QVscO1iMz0RJrSftb9SI43tIJ_FDQd6t2AbmHBc0dPhCt_OAaj9GTNNRRrVK0TZw/file# [following]\n",
      "--2019-12-27 22:42:22--  https://uc0b9f56a799beed6cf7b9e61fc6.dl.dropboxusercontent.com/cd/0/inline/AvAF8czYZ-xi9ilwv67OfOL4TMKZNbs7b6jb4N96EIf9Yiww5rsKUEhOmYWsiA89hV0QVscO1iMz0RJrSftb9SI43tIJ_FDQd6t2AbmHBc0dPhCt_OAaj9GTNNRRrVK0TZw/file\n",
      "Resolving uc0b9f56a799beed6cf7b9e61fc6.dl.dropboxusercontent.com (uc0b9f56a799beed6cf7b9e61fc6.dl.dropboxusercontent.com)... 162.125.9.6, 2620:100:601f:6::a27d:906\n",
      "Connecting to uc0b9f56a799beed6cf7b9e61fc6.dl.dropboxusercontent.com (uc0b9f56a799beed6cf7b9e61fc6.dl.dropboxusercontent.com)|162.125.9.6|:443... connected.\n",
      "HTTP request sent, awaiting response... 200 OK\n",
      "Length: 6027524213 (5.6G) [text/plain]\n",
      "Saving to: ‘lemm_wiki_texts.txt’\n",
      "\n",
      "lemm_wiki_texts.txt 100%[===================>]   5.61G  19.4MB/s    in 2m 59s  \n",
      "\n",
      "2019-12-27 22:45:21 (32.1 MB/s) - ‘lemm_wiki_texts.txt’ saved [6027524213/6027524213]\n",
      "\n"
     ]
    }
   ],
   "source": [
    "!wget -O lemm_wiki_texts.txt https://www.dropbox.com/s/wfh403us223yjuf/lemm_wiki_texts.txt?dl=0"
   ]
  },
  {
   "cell_type": "code",
   "execution_count": 0,
   "metadata": {
    "colab": {},
    "colab_type": "code",
    "id": "5p-d6z8iL8OY"
   },
   "outputs": [],
   "source": [
    "# Загрузка текстов\n",
    "with open('lemm_wiki_texts.txt', mode='r', encoding='utf-8') as f:\n",
    "    lemm_wiki_texts = f.readlines()"
   ]
  },
  {
   "cell_type": "code",
   "execution_count": 0,
   "metadata": {
    "colab": {
     "base_uri": "https://localhost:8080/",
     "height": 34
    },
    "colab_type": "code",
    "id": "X1gyQiPxL8Ol",
    "outputId": "d9dd2311-666d-4352-bde5-26cd8acba3db"
   },
   "outputs": [
    {
     "data": {
      "text/plain": [
       "1095910"
      ]
     },
     "execution_count": 52,
     "metadata": {
      "tags": []
     },
     "output_type": "execute_result"
    }
   ],
   "source": [
    "# у вас должно получиться 1095910 текстов - проверьте\n",
    "# Ваш код здесь:\n",
    "len(lemm_wiki_texts)"
   ]
  },
  {
   "cell_type": "markdown",
   "metadata": {
    "colab_type": "text",
    "id": "AHXSRMkSL8Ot"
   },
   "source": [
    "#### Задание 2.0 [1 балл]"
   ]
  },
  {
   "cell_type": "markdown",
   "metadata": {
    "colab_type": "text",
    "id": "pY0GOF4qL8Ow"
   },
   "source": [
    "Реализуйте функцию, которая принимает на вход список текстов (такой например, как lemm_wiki_texts) и выдаёт список списков, где каждый внутренний список содержит 3 элемента: 2 слов и 1 число (0 или 1), символизирующее, находится ли пара слов в одном контексте, или нет."
   ]
  },
  {
   "cell_type": "code",
   "execution_count": 0,
   "metadata": {
    "colab": {},
    "colab_type": "code",
    "id": "dA5IQwsTL8O1"
   },
   "outputs": [],
   "source": [
    "def prepare_text_for_skipgramns(texts: list, context_width: int=5, negative_samples: int=10) -> list:\n",
    "    \"\"\"\n",
    "    texts: список текстов, по которому необходимо будет составить итоговый список\n",
    "    context_width: ширина окна. Слова, находящиеся в одном окне считаются из одного контекста\n",
    "    negative_samples: сколько негативных примеров генерировать на каждый положительный пример.\n",
    "    return: resulting_list: Пример: [\n",
    "    [\"мама\", \"готовит\", 1],\n",
    "    ['мама', \"океан\", 0],\n",
    "    [\"надёжный\", \"подрядчик\", 1],\n",
    "    [\"надёжный\", \"мороженое\", 0],\n",
    "    ...\n",
    "    ]\n",
    "    \"\"\"\n",
    "    k = 0\n",
    "    resulting_list = []\n",
    "    for text in texts:\n",
    "      txt = text.split(' ')\n",
    "      for i in range(len(txt)):\n",
    "        #for j in range(max(0, i - context_width), min(len(txt), i + context_width)):\n",
    "        for j in range(len(txt)):\n",
    "          if j == i:\n",
    "            continue\n",
    "          if abs(i - j) < context_width:\n",
    "            resulting_list.append([txt[i], txt[j], 1])\n",
    "      print(k, len(texts)); k+=1\n",
    "    return resulting_list"
   ]
  },
  {
   "cell_type": "markdown",
   "metadata": {
    "colab_type": "text",
    "id": "nd-8SwrZL8O-"
   },
   "source": [
    "#### Задание 2.1 [15 баллов]"
   ]
  },
  {
   "cell_type": "markdown",
   "metadata": {
    "colab_type": "text",
    "id": "I9R3fxv-L8PC"
   },
   "source": [
    "Реализуйте класс, который будет использоваться для обучения Word2Vec векторов. Реализовывать можно как на голом numpy, так и с помощью вспомогательных библиотек. Рекомендуется освоить библиотеку, [pytorch](https://pytorch.org/). Во-первых, она будет в дальнейшем использоваться, при прохождении нейросетей, а во-вторых, есть видео, которое шаг за шагом позволяет реализовать Word2Vec алгоритм на pytorch:\n",
    "https://stepik.org/lesson/247966/step/1?unit=220078 (P.S. Можно просто реализовать Word2Vec точно так же, как на видео)"
   ]
  },
  {
   "cell_type": "markdown",
   "metadata": {
    "colab_type": "text",
    "id": "bkQOHzOgL8PG"
   },
   "source": [
    "У этого класса обязательно должен быть метод, который \"обучает\" эмбеддинги. Результатом обучения должен быть словарь (dict), ключами которого являются слова, а значениями - эмбеддинги этих слов"
   ]
  },
  {
   "cell_type": "code",
   "execution_count": 0,
   "metadata": {
    "colab": {
     "base_uri": "https://localhost:8080/",
     "height": 612
    },
    "colab_type": "code",
    "id": "A8OOxiVnidTA",
    "outputId": "1b797ded-d2cc-422e-c826-5f8fdd9a50e1"
   },
   "outputs": [
    {
     "name": "stdout",
     "output_type": "stream",
     "text": [
      "Cloning into 'stepik-dl-nlp'...\n",
      "remote: Enumerating objects: 23, done.\u001b[K\n",
      "remote: Counting objects: 100% (23/23), done.\u001b[K\n",
      "remote: Compressing objects: 100% (18/18), done.\u001b[K\n",
      "remote: Total 213 (delta 8), reused 19 (delta 5), pack-reused 190\u001b[K\n",
      "Receiving objects: 100% (213/213), 42.11 MiB | 21.07 MiB/s, done.\n",
      "Resolving deltas: 100% (87/87), done.\n",
      "Collecting spacy_udpipe\n",
      "  Downloading https://files.pythonhosted.org/packages/53/ea/dc89025c7f0ed8e6d7fd11893e53eddb53ecb20c017f8ffba4a11eea64ef/spacy_udpipe-0.1.0-py3-none-any.whl\n",
      "Collecting ufal.udpipe>=1.2.0\n",
      "\u001b[?25l  Downloading https://files.pythonhosted.org/packages/e5/72/2b8b9dc7c80017c790bb3308bbad34b57accfed2ac2f1f4ab252ff4e9cb2/ufal.udpipe-1.2.0.3.tar.gz (304kB)\n",
      "\u001b[K     |████████████████████████████████| 307kB 7.0MB/s \n",
      "\u001b[?25hRequirement already satisfied: spacy>=2.1.0 in /usr/local/lib/python3.6/dist-packages (from spacy_udpipe) (2.1.9)\n",
      "Requirement already satisfied: blis<0.3.0,>=0.2.2 in /usr/local/lib/python3.6/dist-packages (from spacy>=2.1.0->spacy_udpipe) (0.2.4)\n",
      "Requirement already satisfied: thinc<7.1.0,>=7.0.8 in /usr/local/lib/python3.6/dist-packages (from spacy>=2.1.0->spacy_udpipe) (7.0.8)\n",
      "Requirement already satisfied: numpy>=1.15.0 in /usr/local/lib/python3.6/dist-packages (from spacy>=2.1.0->spacy_udpipe) (1.17.4)\n",
      "Requirement already satisfied: requests<3.0.0,>=2.13.0 in /usr/local/lib/python3.6/dist-packages (from spacy>=2.1.0->spacy_udpipe) (2.21.0)\n",
      "Requirement already satisfied: cymem<2.1.0,>=2.0.2 in /usr/local/lib/python3.6/dist-packages (from spacy>=2.1.0->spacy_udpipe) (2.0.3)\n",
      "Requirement already satisfied: plac<1.0.0,>=0.9.6 in /usr/local/lib/python3.6/dist-packages (from spacy>=2.1.0->spacy_udpipe) (0.9.6)\n",
      "Requirement already satisfied: wasabi<1.1.0,>=0.2.0 in /usr/local/lib/python3.6/dist-packages (from spacy>=2.1.0->spacy_udpipe) (0.4.2)\n",
      "Requirement already satisfied: srsly<1.1.0,>=0.0.6 in /usr/local/lib/python3.6/dist-packages (from spacy>=2.1.0->spacy_udpipe) (0.2.0)\n",
      "Requirement already satisfied: preshed<2.1.0,>=2.0.1 in /usr/local/lib/python3.6/dist-packages (from spacy>=2.1.0->spacy_udpipe) (2.0.1)\n",
      "Requirement already satisfied: murmurhash<1.1.0,>=0.28.0 in /usr/local/lib/python3.6/dist-packages (from spacy>=2.1.0->spacy_udpipe) (1.0.2)\n",
      "Requirement already satisfied: tqdm<5.0.0,>=4.10.0 in /usr/local/lib/python3.6/dist-packages (from thinc<7.1.0,>=7.0.8->spacy>=2.1.0->spacy_udpipe) (4.28.1)\n",
      "Requirement already satisfied: chardet<3.1.0,>=3.0.2 in /usr/local/lib/python3.6/dist-packages (from requests<3.0.0,>=2.13.0->spacy>=2.1.0->spacy_udpipe) (3.0.4)\n",
      "Requirement already satisfied: certifi>=2017.4.17 in /usr/local/lib/python3.6/dist-packages (from requests<3.0.0,>=2.13.0->spacy>=2.1.0->spacy_udpipe) (2019.11.28)\n",
      "Requirement already satisfied: idna<2.9,>=2.5 in /usr/local/lib/python3.6/dist-packages (from requests<3.0.0,>=2.13.0->spacy>=2.1.0->spacy_udpipe) (2.8)\n",
      "Requirement already satisfied: urllib3<1.25,>=1.21.1 in /usr/local/lib/python3.6/dist-packages (from requests<3.0.0,>=2.13.0->spacy>=2.1.0->spacy_udpipe) (1.24.3)\n",
      "Building wheels for collected packages: ufal.udpipe\n",
      "  Building wheel for ufal.udpipe (setup.py) ... \u001b[?25l\u001b[?25hdone\n",
      "  Created wheel for ufal.udpipe: filename=ufal.udpipe-1.2.0.3-cp36-cp36m-linux_x86_64.whl size=5625768 sha256=7ce854c1bc4ab56a1debfdb498167b1b3d84e0487d616ed597ee0e4344de2ed5\n",
      "  Stored in directory: /root/.cache/pip/wheels/0c/9d/db/6d3404c33da5b7adb6c6972853efb6a27649d3ba15f7e9bebb\n",
      "Successfully built ufal.udpipe\n",
      "Installing collected packages: ufal.udpipe, spacy-udpipe\n",
      "Successfully installed spacy-udpipe-0.1.0 ufal.udpipe-1.2.0.3\n"
     ]
    }
   ],
   "source": [
    "!git clone https://github.com/Samsung-IT-Academy/stepik-dl-nlp.git\n",
    "import sys; sys.path.append('/content/stepik-dl-nlp')\n",
    "!pip3 install spacy_udpipe"
   ]
  },
  {
   "cell_type": "code",
   "execution_count": 0,
   "metadata": {
    "colab": {},
    "colab_type": "code",
    "id": "QnxvUQr5L8PJ"
   },
   "outputs": [],
   "source": [
    "import torch\n",
    "from torch import nn\n",
    "from torch.nn import functional as F\n",
    "\n",
    "import dlnlputils\n",
    "from dlnlputils.data import tokenize_corpus, build_vocabulary, texts_to_token_ids, \\\n",
    "    PaddedSequenceDataset, Embeddings\n",
    "from dlnlputils.pipeline import train_eval_loop, predict_with_model, init_random_seed\n",
    "from dlnlputils.visualization import plot_vectors\n",
    "\n",
    "class word2vec:\n",
    "  def __init__(self, vocab_size, emb_size, sentence_len, radius=5, negative_samples_n=5):\n",
    "    self.trainer = SkipGramNegativeSamplingTrainer(vocab_size, emb_size, sentence_len, radius, negative_samples_n)\n",
    "\n",
    "  class SkipGramNegativeSamplingTrainer(nn.Module):\n",
    "      def __init__(self, vocab_size, emb_size, sentence_len, radius=5, negative_samples_n=5):\n",
    "          super().__init__()\n",
    "          self.vocab_size = vocab_size\n",
    "          self.negative_samples_n = negative_samples_n\n",
    "\n",
    "          self.center_emb = nn.Embedding(self.vocab_size, emb_size, padding_idx=0)\n",
    "          self.center_emb.weight.data.uniform_(-1.0 / emb_size, 1.0 / emb_size)\n",
    "          self.center_emb.weight.data[0] = 0\n",
    "\n",
    "          self.context_emb = nn.Embedding(self.vocab_size, emb_size, padding_idx=0)        \n",
    "          self.context_emb.weight.data.uniform_(-1.0 / emb_size, 1.0 / emb_size)\n",
    "          self.context_emb.weight.data[0] = 0\n",
    "\n",
    "          self.positive_sim_mask = make_diag_mask(sentence_len, radius)\n",
    "    \n",
    "      def forward(self, sentences):\n",
    "          \"\"\"sentences - Batch x MaxSentLength - идентификаторы токенов\"\"\"\n",
    "          batch_size = sentences.shape[0]\n",
    "          center_embeddings = self.center_emb(sentences)  # Batch x MaxSentLength x EmbSize\n",
    "\n",
    "          positive_context_embs = self.context_emb(sentences).permute(0, 2, 1)  # Batch x EmbSize x MaxSentLength\n",
    "          positive_sims = torch.bmm(center_embeddings, positive_context_embs)  # Batch x MaxSentLength x MaxSentLength\n",
    "          positive_probs = torch.sigmoid(positive_sims)\n",
    "\n",
    "          positive_mask = self.positive_sim_mask.to(positive_sims.device)\n",
    "          positive_loss = F.binary_cross_entropy(positive_probs * positive_mask,\n",
    "                                                 positive_mask.expand_as(positive_probs))\n",
    "\n",
    "          negative_words = torch.randint(1, self.vocab_size,\n",
    "                                         size=(batch_size, self.negative_samples_n),\n",
    "                                       device=sentences.device)  # Batch x NegSamplesN\n",
    "          negative_context_embs = self.context_emb(negative_words).permute(0, 2, 1)  # Batch x EmbSize x NegSamplesN\n",
    "          negative_sims = torch.bmm(center_embeddings, negative_context_embs)  # Batch x MaxSentLength x NegSamplesN\n",
    "\n",
    "          negative_loss = F.binary_cross_entropy_with_logits(negative_sims,\n",
    "                                                           negative_sims.new_zeros(negative_sims.shape))\n",
    "\n",
    "          return positive_loss + negative_loss\n",
    "\n",
    "  def train(self, train_dataset, test_dataset, lr = 1e-2, epoch_n=2, batch_size = 8, device='cpu'):\n",
    "    train_eval_loop(self.trainer(), \n",
    "                    train_dataset,\n",
    "                    test_dataset,\n",
    "                    no_loss,\n",
    "                    lr=lr,\n",
    "                    epoch_n = epoch_n,\n",
    "                    batch_size = batch_size,\n",
    "                    device=device,\n",
    "                    early_stopping_patience=early_stopping_patience,\n",
    "                    max_batches_per_epoch_train=max_batches_per_epoch_train,\n",
    "                    max_batches_per_epoch_val=len(test_dataset),\n",
    "                    lr_scheduler_ctor=lambda optim: torch.optim.lr_scheduler.ReduceLROnPlateau(optim, patience=1, verbose=True)\n",
    "                    ) \n",
    "    return self.trainer\n",
    "\n",
    "def no_loss(pred, target):\n",
    "    return pred"
   ]
  },
  {
   "cell_type": "markdown",
   "metadata": {
    "colab_type": "text",
    "id": "N221I39pL8PT"
   },
   "source": [
    "#### Задание 2.2 [5 баллов]"
   ]
  },
  {
   "cell_type": "markdown",
   "metadata": {
    "colab_type": "text",
    "id": "N7P14skCL8PY"
   },
   "source": [
    "Создайте класс, для удобного обращения с обученными векторами"
   ]
  },
  {
   "cell_type": "code",
   "execution_count": 0,
   "metadata": {
    "colab": {},
    "colab_type": "code",
    "id": "jWkYmoCsL8Pd"
   },
   "outputs": [],
   "source": [
    "class Embeddings:\n",
    "    def __init__(self, embeddings, word2id):\n",
    "        self.embeddings = embeddings\n",
    "        self.embeddings /= (np.linalg.norm(self.embeddings, ord=2, axis=-1, keepdims=True) + 1e-4)\n",
    "        self.word2id = word2id\n",
    "        self.id2word = {i: w for w, i in word2id.items()}\n",
    "\n",
    "    def most_similar(self, word, topk=10):\n",
    "        return self.most_similar_by_vector(self.get_vector(word), topk=topk)\n",
    "\n",
    "    def analogy(self, a1, b1, a2, topk=10):\n",
    "        a1_v = self.get_vector(a1)\n",
    "        b1_v = self.get_vector(b1)\n",
    "        a2_v = self.get_vector(a2)\n",
    "        query = b1_v - a1_v + a2_v\n",
    "        return self.most_similar_by_vector(query, topk=topk)\n",
    "\n",
    "    def most_similar_by_vector(self, query_vector, topk=10):\n",
    "        similarities = (self.embeddings * query_vector).sum(-1)\n",
    "        best_indices = np.argpartition(-similarities, topk, axis=0)[:topk]\n",
    "        result = [(self.id2word[i], similarities[i]) for i in best_indices]\n",
    "        result.sort(key=lambda pair: -pair[1])\n",
    "        return result\n",
    "\n",
    "    def get_vector(self, word):\n",
    "        if word not in self.word2id:\n",
    "            raise ValueError('Неизвестное слово \"{}\"'.format(word))\n",
    "        return self.embeddings[self.word2id[word]]\n",
    "\n",
    "    def get_vectors(self, *words):\n",
    "        word_ids = [self.word2id[i] for i in words]\n",
    "        vectors = np.stack([self.embeddings[i] for i in word_ids], axis=0)\n",
    "        return vectors"
   ]
  },
  {
   "cell_type": "markdown",
   "metadata": {
    "colab_type": "text",
    "id": "u4rO4EwtL8Po"
   },
   "source": [
    "Найдите несколько интересных аналогий в словах (что-то типо: король-мужчина+женщина=королева)"
   ]
  },
  {
   "cell_type": "markdown",
   "metadata": {
    "colab_type": "text",
    "id": "opx9iVoUL8P3"
   },
   "source": [
    "#### Задание 3.4 [3 балла]\n",
    "#### Обучение из коробки"
   ]
  },
  {
   "cell_type": "markdown",
   "metadata": {
    "colab_type": "text",
    "id": "h3zFMA7zL8P6"
   },
   "source": [
    "Обучите Word2Vec \"из коробки\" с помощью библиотеки [gensim](https://radimrehurek.com/gensim/)"
   ]
  },
  {
   "cell_type": "code",
   "execution_count": 0,
   "metadata": {
    "colab": {
     "base_uri": "https://localhost:8080/",
     "height": 34
    },
    "colab_type": "code",
    "id": "2jbAWsABL8P9",
    "outputId": "687cf482-c60c-4bbb-b8c3-3ee63b0bb494"
   },
   "outputs": [
    {
     "data": {
      "text/plain": [
       "(360570655, 399820170)"
      ]
     },
     "execution_count": 56,
     "metadata": {
      "tags": []
     },
     "output_type": "execute_result"
    }
   ],
   "source": [
    "from gensim.models import Word2Vec\n",
    "texts = list(map(lambda x: x.split(' '), lemm_wiki_texts[:10000]))\n",
    "model = Word2Vec(window = 3, size= 50, negative = 5, workers=10)\n",
    "model.build_vocab(texts, progress_per=100)\n",
    "model.train(texts, total_examples = model.corpus_count, epochs=30, report_delay=1)"
   ]
  },
  {
   "cell_type": "markdown",
   "metadata": {
    "colab_type": "text",
    "id": "YGNqDLazL8QO"
   },
   "source": [
    "#### Задание 3.5 [5 баллов]"
   ]
  },
  {
   "cell_type": "markdown",
   "metadata": {
    "colab_type": "text",
    "id": "1wl7TJvxL8QR"
   },
   "source": [
    "По смыслу ожидается, что слова относящиеся к одной тематике должны чаще встречаться в одном контексте, а значит и косинусное расстояние между их эмбеддингами должно быть меньше, чем расстояние между произвольной парой слов. Возьмите список из 500-1000 слов, относящихся к каким-нибудь 3-5 тематикам (придумайте сами каким: компьютеры, природа, история, и тд.), снизьте размерность этих слов (их эмбеддингов) с помощью TSNE и изобразите полученные объекты на плоскости. (Ожидается что слова из одной тематики будут образовывать кластеры, которые отдалены от кластеров, относящихся к другой тематике)"
   ]
  },
  {
   "cell_type": "code",
   "execution_count": 0,
   "metadata": {
    "colab": {
     "base_uri": "https://localhost:8080/",
     "height": 483
    },
    "colab_type": "code",
    "id": "bJhuH1fSL8Qp",
    "outputId": "bcfd2c4a-65fd-436a-bb50-14c3993ad2c9"
   },
   "outputs": [
    {
     "data": {
      "image/png": "[encoded data removed]",
      "text/plain": [
       "<Figure size 576x576 with 1 Axes>"
      ]
     },
     "metadata": {
      "tags": []
     },
     "output_type": "display_data"
    }
   ],
   "source": [
    "from sklearn.manifold import TSNE\n",
    "\n",
    "def display_closestwords_tsnescatterplot(model, word, size, color):\n",
    "    arr = np.empty((0,size), dtype='f')\n",
    "    word_labels = [word]\n",
    "    close_words = model.wv.similar_by_word(word, topn = 100)\n",
    "    arr = np.append(arr, np.array([model.wv[word]]), axis=0)\n",
    "    for wrd_score in close_words:\n",
    "        wrd_vector = model.wv[wrd_score[0]]\n",
    "        word_labels.append(wrd_score[0])\n",
    "        arr = np.append(arr, np.array([wrd_vector]), axis=0)\n",
    "        \n",
    "    tsne = TSNE(n_components=2, random_state=0)\n",
    "    np.set_printoptions(suppress=True)\n",
    "    Y = tsne.fit_transform(arr)\n",
    "    x_coords = Y[:, 0]\n",
    "    y_coords = Y[:, 1]\n",
    "    plt.scatter(x_coords, y_coords, color = color)\n",
    "    #for label, x, y in zip(word_labels, x_coords, y_coords):\n",
    "        #plt.annotate(label, xy=(x, y), xytext=(0, 0), textcoords='offset points')\n",
    "    #plt.xlim(x_coords.min()+0.00005, x_coords.max()+0.00005)\n",
    "    #plt.ylim(y_coords.min()+0.00005, y_coords.max()+0.00005)\n",
    "    \n",
    "display_closestwords_tsnescatterplot(model, 'машина', 50, 'blue')\n",
    "display_closestwords_tsnescatterplot(model, 'химия', 50, 'red')\n",
    "display_closestwords_tsnescatterplot(model, 'султан', 50, 'green')\n",
    "\n",
    "plt.show()"
   ]
  },
  {
   "cell_type": "markdown",
   "metadata": {
    "colab_type": "text",
    "id": "-6bP1NRiL8Q1"
   },
   "source": [
    "## Часть 3"
   ]
  },
  {
   "cell_type": "markdown",
   "metadata": {
    "colab_type": "text",
    "id": "HEHAVOooL8Q6"
   },
   "source": [
    "### Классификация категории товара"
   ]
  },
  {
   "cell_type": "markdown",
   "metadata": {
    "colab_type": "text",
    "id": "y1VNARVeL8Q9"
   },
   "source": [
    "В этом задании Вам предстоит поучастовать в конкурсе от Авито: https://www.kaggle.com/c/texts-classification-ml-hse-2019/leaderboard\n",
    "\n",
    "Задача конкурса - по заголовку объявления и текстовому описанию классифицировать объявление."
   ]
  },
  {
   "cell_type": "markdown",
   "metadata": {
    "colab_type": "text",
    "id": "12tnM06ML8Q-"
   },
   "source": [
    "#### Задание 3.0"
   ]
  },
  {
   "cell_type": "markdown",
   "metadata": {
    "colab_type": "text",
    "id": "5hZeoGZSL8RD"
   },
   "source": [
    "Загрузите train.csv и test.csv наборы данных"
   ]
  },
  {
   "cell_type": "code",
   "execution_count": 0,
   "metadata": {
    "colab": {
     "base_uri": "https://localhost:8080/",
     "height": 666
    },
    "colab_type": "code",
    "id": "zv-BKGZspxWx",
    "outputId": "d6876794-5ea1-470e-a81f-f676742320d9"
   },
   "outputs": [
    {
     "name": "stdout",
     "output_type": "stream",
     "text": [
      "--2019-12-27 22:36:59--  https://www.dropbox.com/s/b5p7594y0sn079f/train.csv.zip?dl=0\n",
      "Resolving www.dropbox.com (www.dropbox.com)... 162.125.9.1, 2620:100:601b:1::a27d:801\n",
      "Connecting to www.dropbox.com (www.dropbox.com)|162.125.9.1|:443... connected.\n",
      "HTTP request sent, awaiting response... 301 Moved Permanently\n",
      "Location: /s/raw/b5p7594y0sn079f/train.csv.zip [following]\n",
      "--2019-12-27 22:36:59--  https://www.dropbox.com/s/raw/b5p7594y0sn079f/train.csv.zip\n",
      "Reusing existing connection to www.dropbox.com:443.\n",
      "HTTP request sent, awaiting response... 302 Found\n",
      "Location: https://ucb33f8d13af4a49929ee78f56e5.dl.dropboxusercontent.com/cd/0/inline/AvBLriPhj90-SDxxuLjdXs7ujOZ4KskjYYm2Mhs9grWSadoyqfbCXHsN6Tra0__9cD-kkok1rNIPgEMmJaPGPYygFdhAN9Krs2x1G85X3n1G3xvVS_SgZdsuU2F2nnqjMgU/file# [following]\n",
      "--2019-12-27 22:36:59--  https://ucb33f8d13af4a49929ee78f56e5.dl.dropboxusercontent.com/cd/0/inline/AvBLriPhj90-SDxxuLjdXs7ujOZ4KskjYYm2Mhs9grWSadoyqfbCXHsN6Tra0__9cD-kkok1rNIPgEMmJaPGPYygFdhAN9Krs2x1G85X3n1G3xvVS_SgZdsuU2F2nnqjMgU/file\n",
      "Resolving ucb33f8d13af4a49929ee78f56e5.dl.dropboxusercontent.com (ucb33f8d13af4a49929ee78f56e5.dl.dropboxusercontent.com)... 162.125.9.6, 2620:100:601f:6::a27d:906\n",
      "Connecting to ucb33f8d13af4a49929ee78f56e5.dl.dropboxusercontent.com (ucb33f8d13af4a49929ee78f56e5.dl.dropboxusercontent.com)|162.125.9.6|:443... connected.\n",
      "HTTP request sent, awaiting response... 302 FOUND\n",
      "Location: /cd/0/inline2/AvAoeShL6hU2WISLmy_gJ00n81uuA5qxOzWD6wEfH9kcgz21DUcxGoWbcMOGZfys2JcZq9y7a3jh-tKnJhBpBus9TjnZXOxgMZGo01ffbC1HZ1_WDse8C8kWC6RnSY4sr_9U9xSsNWkJOHb7XPUObG37HBBp_D3KJNwNBRUP4RyPqRStqOkh8FQ2gimZiALp2jWk2rd0wiZ1SoWYpW5zefKJ9lMqyBp4La05pztyPnwZCR2XeqR8rykqSy5B6cT6LSOYHrBLBc2jl8nRXe_LWdZeuvZyIIssNFktyVKFa50CG0icPnR0aTmwMUozByypsvlQQudgbTflP9APtaflA3i_KJeRhdE-ROUDFiXkZ7UctA/file [following]\n",
      "--2019-12-27 22:37:00--  https://ucb33f8d13af4a49929ee78f56e5.dl.dropboxusercontent.com/cd/0/inline2/AvAoeShL6hU2WISLmy_gJ00n81uuA5qxOzWD6wEfH9kcgz21DUcxGoWbcMOGZfys2JcZq9y7a3jh-tKnJhBpBus9TjnZXOxgMZGo01ffbC1HZ1_WDse8C8kWC6RnSY4sr_9U9xSsNWkJOHb7XPUObG37HBBp_D3KJNwNBRUP4RyPqRStqOkh8FQ2gimZiALp2jWk2rd0wiZ1SoWYpW5zefKJ9lMqyBp4La05pztyPnwZCR2XeqR8rykqSy5B6cT6LSOYHrBLBc2jl8nRXe_LWdZeuvZyIIssNFktyVKFa50CG0icPnR0aTmwMUozByypsvlQQudgbTflP9APtaflA3i_KJeRhdE-ROUDFiXkZ7UctA/file\n",
      "Reusing existing connection to ucb33f8d13af4a49929ee78f56e5.dl.dropboxusercontent.com:443.\n",
      "HTTP request sent, awaiting response... 200 OK\n",
      "Length: 884106202 (843M) [application/zip]\n",
      "Saving to: ‘train.zip’\n",
      "\n",
      "train.zip           100%[===================>] 843.15M  50.9MB/s    in 24s     \n",
      "\n",
      "2019-12-27 22:37:25 (34.8 MB/s) - ‘train.zip’ saved [884106202/884106202]\n",
      "\n",
      "Archive:  train.zip\n",
      "  inflating: train.csv               \n",
      "Collecting pymorphy2\n",
      "\u001b[?25l  Downloading https://files.pythonhosted.org/packages/a3/33/fff9675c68b5f6c63ec8c6e6ff57827dda28a1fa5b2c2d727dffff92dd47/pymorphy2-0.8-py2.py3-none-any.whl (46kB)\n",
      "\u001b[K     |████████████████████████████████| 51kB 1.6MB/s \n",
      "\u001b[?25hRequirement already satisfied: docopt>=0.6 in /usr/local/lib/python3.6/dist-packages (from pymorphy2) (0.6.2)\n",
      "Collecting pymorphy2-dicts<3.0,>=2.4\n",
      "\u001b[?25l  Downloading https://files.pythonhosted.org/packages/02/51/2465fd4f72328ab50877b54777764d928da8cb15b74e2680fc1bd8cb3173/pymorphy2_dicts-2.4.393442.3710985-py2.py3-none-any.whl (7.1MB)\n",
      "\u001b[K     |████████████████████████████████| 7.1MB 8.0MB/s \n",
      "\u001b[?25hCollecting dawg-python>=0.7\n",
      "  Downloading https://files.pythonhosted.org/packages/6a/84/ff1ce2071d4c650ec85745766c0047ccc3b5036f1d03559fd46bb38b5eeb/DAWG_Python-0.7.2-py2.py3-none-any.whl\n",
      "Installing collected packages: pymorphy2-dicts, dawg-python, pymorphy2\n",
      "Successfully installed dawg-python-0.7.2 pymorphy2-0.8 pymorphy2-dicts-2.4.393442.3710985\n"
     ]
    }
   ],
   "source": [
    "!wget -O train.zip https://www.dropbox.com/s/b5p7594y0sn079f/train.csv.zip?dl=0\n",
    "!unzip train.zip\n",
    "!pip3 install pymorphy2"
   ]
  },
  {
   "cell_type": "code",
   "execution_count": 0,
   "metadata": {
    "colab": {},
    "colab_type": "code",
    "id": "vSQU2CRjL8RE"
   },
   "outputs": [],
   "source": [
    "train = pd.read_csv('train.csv')\n",
    "train['title&description'] = train['title'].str[:] + ' ' + train['description'].str[:]\n",
    "train = train.iloc[:5000]"
   ]
  },
  {
   "cell_type": "markdown",
   "metadata": {
    "colab_type": "text",
    "id": "3aRQcLPsL8RM"
   },
   "source": [
    "#### Задание 3.1 [3 балла]"
   ]
  },
  {
   "cell_type": "markdown",
   "metadata": {
    "colab_type": "text",
    "id": "0ZsAW5AlTrqF"
   },
   "source": [
    "\n",
    "Проведите лемматизацию текстов (для этого Вам может понадобиться пакет pymorphy2: https://pymorphy2.readthedocs.io/en/latest/user/guide.html#id3)"
   ]
  },
  {
   "cell_type": "code",
   "execution_count": 0,
   "metadata": {
    "colab": {},
    "colab_type": "code",
    "id": "tJZLD7AOL8RU"
   },
   "outputs": [],
   "source": [
    "import pymorphy2\n",
    "morph = pymorphy2.MorphAnalyzer()\n",
    "train['title&description'] = train['title&description'].apply(lambda x: [morph.parse(ix)[0].normal_form for ix in x.split(' ')])"
   ]
  },
  {
   "cell_type": "markdown",
   "metadata": {
    "colab_type": "text",
    "id": "zFSlu_ULL8Rm"
   },
   "source": [
    "#### Задание 3.2 [3 балла]"
   ]
  },
  {
   "cell_type": "markdown",
   "metadata": {
    "colab_type": "text",
    "id": "u3dzcY2cL8R5"
   },
   "source": [
    "Удалите \"стоп-слова\" (предлоги, междометия, ...). Поясните, как именно Вы выбирали стоп-слова"
   ]
  },
  {
   "cell_type": "code",
   "execution_count": 0,
   "metadata": {
    "colab": {
     "base_uri": "https://localhost:8080/",
     "height": 51
    },
    "colab_type": "code",
    "id": "HeCLz1eXL8Sb",
    "outputId": "59b6fdf3-aca2-44e4-e670-340a9aede47e"
   },
   "outputs": [
    {
     "name": "stdout",
     "output_type": "stream",
     "text": [
      "[nltk_data] Downloading package stopwords to /root/nltk_data...\n",
      "[nltk_data]   Unzipping corpora/stopwords.zip.\n"
     ]
    }
   ],
   "source": [
    "import nltk\n",
    "nltk.download('stopwords')\n",
    "from nltk.corpus import stopwords\n",
    "stop_words = set(stopwords.words('russian'))\n",
    "train['title&description'] = train['title&description'].apply(lambda x: [ix for ix in x if ix not in stop_words])"
   ]
  },
  {
   "cell_type": "markdown",
   "metadata": {
    "colab_type": "text",
    "id": "I9I1YG9aL8S7"
   },
   "source": [
    "#### Задание 3.3 [6 баллов]"
   ]
  },
  {
   "cell_type": "markdown",
   "metadata": {
    "colab_type": "text",
    "id": "S6FJCHtGL8S9"
   },
   "source": [
    "Осуществите Tf-Idf преобразование текстов"
   ]
  },
  {
   "cell_type": "code",
   "execution_count": 0,
   "metadata": {
    "colab": {},
    "colab_type": "code",
    "id": "a7laYTybL8S_"
   },
   "outputs": [],
   "source": [
    "from sklearn.feature_extraction.text import TfidfVectorizer\n",
    "vectorizer = TfidfVectorizer()\n",
    "X, y = train[['title&description']], train['Category']\n",
    "X['title&description'] = X['title&description'].apply(lambda x: ' '.join(x))\n",
    "\n",
    "vectorizer.fit(X['title&description'])\n",
    "X_tfidf = vectorizer.transform(X['title&description'])"
   ]
  },
  {
   "cell_type": "markdown",
   "metadata": {
    "colab_type": "text",
    "id": "QsD-m5-fL8Ti"
   },
   "source": [
    "Разбейте данные на обучение и валидацию"
   ]
  },
  {
   "cell_type": "code",
   "execution_count": 0,
   "metadata": {
    "colab": {},
    "colab_type": "code",
    "id": "K4hHXJhQL8Tk"
   },
   "outputs": [],
   "source": [
    "# tr_idx - индексы объектов из train, на которых будем обучать модель\n",
    "# val_idx - индексы объектов из train, на которых будем тестировать обученную модель\n",
    "np.random.seed(10) # не меняем seed!\n",
    "tr_idx, val_idx = np.split(\n",
    "    np.random.permutation(np.arange(len(X))), [int(np.floor(len(X)*0.7))]\n",
    ")\n",
    "tr = X_tfidf[tr_idx]; tr_target = y[tr_idx]\n",
    "val = X_tfidf[val_idx]; val_target = y[val_idx]"
   ]
  },
  {
   "cell_type": "markdown",
   "metadata": {
    "colab_type": "text",
    "id": "1hftqmUyL8Ts"
   },
   "source": [
    "Обучите логистическую регрессию на объектах с индексами tr_idx, которую Вы написали в Части 1. В качестве матрицы объект-признак возьмите TfIdf-матрицу, полученную вначале задания 3.3"
   ]
  },
  {
   "cell_type": "code",
   "execution_count": 0,
   "metadata": {
    "colab": {},
    "colab_type": "code",
    "id": "-Vw6wWjKL8Tu"
   },
   "outputs": [],
   "source": [
    "w_init = np.random.rand(tr.shape[1])\n",
    "w_init = np.expand_dims(w_init, axis = 1)\n",
    "lr = LogReg(lambda_2=1.0, gd_type = 'stochastic', batch_size=30, tolerance=0.0001, max_iter = 20, w0 = w_init, alpha = 0.001, verbose = False)\n",
    "lr.fit(tr, tr_target)"
   ]
  },
  {
   "cell_type": "markdown",
   "metadata": {
    "colab_type": "text",
    "id": "rq8VFFUXL8T0"
   },
   "source": [
    "Посчитайте качество полученной модели на отложенной части (на объектах с индексами val_idx). В качестве метрики возьмите ту, которая используется в конкурсе"
   ]
  },
  {
   "cell_type": "code",
   "execution_count": 0,
   "metadata": {
    "colab": {},
    "colab_type": "code",
    "id": "Dn4rmQxML8T2"
   },
   "outputs": [],
   "source": [
    "accuracy_score(lr.predict_proba(val), val_target)"
   ]
  },
  {
   "cell_type": "markdown",
   "metadata": {
    "colab_type": "text",
    "id": "26WeBAWkL8T-"
   },
   "source": [
    "Теперь обучите логистическую регрессию из sklearn и сравните качество, с Вашей реализацией"
   ]
  },
  {
   "cell_type": "code",
   "execution_count": 0,
   "metadata": {
    "colab": {
     "base_uri": "https://localhost:8080/",
     "height": 34
    },
    "colab_type": "code",
    "id": "32jnHnwRL8UA",
    "outputId": "2556ead8-225f-42f9-af60-77e40faf3e76"
   },
   "outputs": [
    {
     "data": {
      "text/plain": [
       "0.57"
      ]
     },
     "execution_count": 48,
     "metadata": {
      "tags": []
     },
     "output_type": "execute_result"
    }
   ],
   "source": [
    "lr = LogisticRegression()\n",
    "lr.fit(tr, tr_target)\n",
    "accuracy_score(lr.predict(val), val_target)"
   ]
  },
  {
   "cell_type": "markdown",
   "metadata": {
    "colab_type": "text",
    "id": "_-CHng2HL8UF"
   },
   "source": [
    "#### Задание 3.4 [6 баллов]"
   ]
  },
  {
   "cell_type": "markdown",
   "metadata": {
    "colab_type": "text",
    "id": "kApUSEE8L8UG"
   },
   "source": [
    "Теперь попробуйте обучить логистическую регрессию (из sklearn), но где в качестве признакового описания текста возьмите не матрицу TfIfd, а средневзвешенное Word2Vec описание текста, то есть, для каждого слова из текста вычисляем его Word2Vec эмбеддинг и суммируем эти вектора с некоторыми весами. В качестве весом можно взять значения idf значение слова. Если какого-то слова нет в вашем словаре Word2Vec, то его можно заменить нулевым вектором, или вектором средних из всех Word2Vec векторов."
   ]
  },
  {
   "cell_type": "code",
   "execution_count": 0,
   "metadata": {
    "colab": {},
    "colab_type": "code",
    "id": "e92-L83zL8UJ"
   },
   "outputs": [],
   "source": [
    "X_ = X['title&description'].apply(lambda x: sum([model[word] for word in x if word in model.wv.vocab]))\n",
    "\n",
    "X_word2vec = np.empty((X.shape[0], 50))\n",
    "for i in range(X.shape[0]):\n",
    "  X_word2vec[i] = X_[i]\n",
    "\n",
    "tr = X_word2vec[tr_idx]; tr_target = y[tr_idx]\n",
    "val = X_word2vec[val_idx]; val_target = y[val_idx]"
   ]
  },
  {
   "cell_type": "markdown",
   "metadata": {
    "colab_type": "text",
    "id": "JABmIj35L8UP"
   },
   "source": [
    "Посчитайте качество данной модели на отложенной выборке (выборке с индексами val_idx)"
   ]
  },
  {
   "cell_type": "code",
   "execution_count": 0,
   "metadata": {
    "colab": {
     "base_uri": "https://localhost:8080/",
     "height": 34
    },
    "colab_type": "code",
    "id": "KPGZ2lH0L8UQ",
    "outputId": "fb3f602f-5e65-4efa-e7ec-d17deb70980b"
   },
   "outputs": [
    {
     "data": {
      "text/plain": [
       "0.232"
      ]
     },
     "execution_count": 131,
     "metadata": {
      "tags": []
     },
     "output_type": "execute_result"
    }
   ],
   "source": [
    "# Ваш код здесь:\n",
    "lr.fit(tr, tr_target)\n",
    "accuracy_score(lr.predict(val), val_target)"
   ]
  },
  {
   "cell_type": "markdown",
   "metadata": {
    "colab_type": "text",
    "id": "fDwGDTuxL8UV"
   },
   "source": [
    "#### Задание 3.5 [бонус] [10 баллов]"
   ]
  },
  {
   "cell_type": "markdown",
   "metadata": {
    "colab_type": "text",
    "id": "0hc5VsF7L8UX"
   },
   "source": [
    "Постарайтесь получить качество на лидерборде выше, чем у baseline решения (0.84726). В данном пункте Вы не ограничены ни моделями, которые можно применять, ни признаками, и даже можно каким-то образом обогащать данные. (Например: можно распрарсить Авито, найти объявления, которые в тесте и взять оттуда истинный класс)"
   ]
  },
  {
   "cell_type": "code",
   "execution_count": 0,
   "metadata": {
    "colab": {
     "base_uri": "https://localhost:8080/",
     "height": 51
    },
    "colab_type": "code",
    "id": "gLT95EXyL8UZ",
    "outputId": "827075d6-9f6e-49a2-a598-bfe236797344"
   },
   "outputs": [
    {
     "name": "stdout",
     "output_type": "stream",
     "text": [
      "0.6093333333333333\n",
      "0.6306666666666667\n"
     ]
    }
   ],
   "source": [
    "from sklearn.ensemble import GradientBoostingClassifier\n",
    "from lightgbm import LGBMClassifier\n",
    "\n",
    "tr = X_tfidf[tr_idx]; tr_target = y[tr_idx]\n",
    "val = X_tfidf[val_idx]; val_target = y[val_idx]\n",
    "\n",
    "gb = LGBMClassifier(silent=False)\n",
    "gb.fit(tr, tr_target)\n",
    "print(accuracy_score(gb.predict(val), val_target))\n",
    "\n",
    "gb = GradientBoostingClassifier()\n",
    "gb.fit(tr, tr_target)\n",
    "print(accuracy_score(gb.predict(val), val_target))"
   ]
  },
  {
   "cell_type": "code",
   "execution_count": 0,
   "metadata": {
    "colab": {},
    "colab_type": "code",
    "id": "Oa3dr8t_m4AJ"
   },
   "outputs": [],
   "source": []
  }
 ],
 "metadata": {
  "accelerator": "GPU",
  "colab": {
   "collapsed_sections": [],
   "machine_shape": "hm",
   "name": "Logreg_and_Word2Vec.ipynb",
   "provenance": []
  },
  "kernelspec": {
   "display_name": "Python 3",
   "language": "python",
   "name": "python3"
  },
  "language_info": {
   "codemirror_mode": {
    "name": "ipython",
    "version": 3
   },
   "file_extension": ".py",
   "mimetype": "text/x-python",
   "name": "python",
   "nbconvert_exporter": "python",
   "pygments_lexer": "ipython3",
   "version": "3.7.3"
  }
 },
 "nbformat": 4,
 "nbformat_minor": 1
}
